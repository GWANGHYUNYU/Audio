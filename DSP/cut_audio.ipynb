{
 "cells": [
  {
   "cell_type": "code",
   "execution_count": 2,
   "metadata": {},
   "outputs": [],
   "source": [
    "import os\n",
    "import winsound\n",
    "\n",
    "import librosa\n",
    "import librosa.display\n",
    "import IPython.display\n",
    "\n",
    "import matplotlib.pyplot as plt\n",
    "import numpy as np\n",
    "import IPython.display as ipd\n",
    "%matplotlib inline"
   ]
  },
  {
   "cell_type": "code",
   "execution_count": 3,
   "metadata": {},
   "outputs": [],
   "source": [
    "def non_zero(data):\n",
    "    idx = np.where(data != 0)[0]\n",
    "    my_wants = idx[-1]\n",
    "    return data[:(my_wants+1)]"
   ]
  },
  {
   "cell_type": "code",
   "execution_count": 4,
   "metadata": {},
   "outputs": [
    {
     "name": "stdout",
     "output_type": "stream",
     "text": [
      "d:\\GH\\Audio\\DSP\n",
      "d:\\GH\\Audio\\dataset\\소리인식\\분류완료\\Drager evita V300\n"
     ]
    }
   ],
   "source": [
    "# path 정보 확인\n",
    "print(os.getcwd())\n",
    "\n",
    "target_path = \"d:\\GH\\Audio\\dataset\\소리인식\\분류완료\\Drager evita V300\"\n",
    "print(target_path)"
   ]
  },
  {
   "cell_type": "code",
   "execution_count": 5,
   "metadata": {},
   "outputs": [],
   "source": [
    "filename = os.path.join(target_path, 'V300 high priority alarm 01.wav')\n",
    "y, sr = librosa.load(filename, sr=44100, mono=True)"
   ]
  },
  {
   "cell_type": "code",
   "execution_count": 6,
   "metadata": {},
   "outputs": [
    {
     "name": "stdout",
     "output_type": "stream",
     "text": [
      "189446\n",
      "Sampling rate (Hz): 44100\n",
      "Audio length (seconds): 4.30\n"
     ]
    }
   ],
   "source": [
    "print(len(y))\n",
    "print('Sampling rate (Hz): %d' % sr)\n",
    "print('Audio length (seconds): %.2f' % (len(y) / sr))"
   ]
  },
  {
   "cell_type": "code",
   "execution_count": 14,
   "metadata": {},
   "outputs": [],
   "source": [
    "None_zero_y = non_zero(y)"
   ]
  },
  {
   "cell_type": "code",
   "execution_count": 8,
   "metadata": {},
   "outputs": [
    {
     "name": "stdout",
     "output_type": "stream",
     "text": [
      "145346\n",
      "Sampling rate (Hz): 44100\n",
      "Cutting Audio length (seconds): 3.30\n"
     ]
    }
   ],
   "source": [
    "print(len(None_zero_y))\n",
    "print('Sampling rate (Hz): %d' % sr)\n",
    "print('Cutting Audio length (seconds): %.2f' % (len(None_zero_y) / sr))"
   ]
  },
  {
   "cell_type": "code",
   "execution_count": 15,
   "metadata": {},
   "outputs": [
    {
     "name": "stdout",
     "output_type": "stream",
     "text": [
      "<class 'numpy.ndarray'>\n",
      "<class 'int'>\n"
     ]
    }
   ],
   "source": [
    "print(type(None_zero_y))\n",
    "print(type(sr))"
   ]
  },
  {
   "cell_type": "code",
   "execution_count": 17,
   "metadata": {},
   "outputs": [],
   "source": [
    "def cut_file(filename, sr=44100):\n",
    "    y, sr = librosa.load(filename, sr=sr, mono=True)\n",
    "    y = non_zero(y)\n",
    "    return y, sr"
   ]
  },
  {
   "cell_type": "code",
   "execution_count": 12,
   "metadata": {},
   "outputs": [
    {
     "name": "stdout",
     "output_type": "stream",
     "text": [
      "D:\\GH\\Audio\\dataset\\소리인식\\분류완료\\Drager evita V300\n",
      "D:\\GH\\Audio\\dataset\\소리인식\\분류완료\\GE_B40 patient monitor\n",
      "D:\\GH\\Audio\\dataset\\소리인식\\분류완료\\GE_transport patient monitor\n",
      "D:\\GH\\Audio\\dataset\\소리인식\\분류완료\\PB980 ventilator\n",
      "D:\\GH\\Audio\\dataset\\소리인식\\분류완료\\Terumo TE-171\n"
     ]
    }
   ],
   "source": [
    "# os.listdir()\n",
    "\n",
    "root = 'D:\\GH\\Audio\\dataset\\소리인식\\분류완료'\n",
    "\n",
    "for file in os.listdir(root):\n",
    "    filepath = os.path.join(root, file)\n",
    "    print(filepath)"
   ]
  },
  {
   "cell_type": "code",
   "execution_count": 42,
   "metadata": {},
   "outputs": [
    {
     "name": "stdout",
     "output_type": "stream",
     "text": [
      "max length of data :  150736\n",
      "Cutting Audio length (seconds): 3.42\n",
      "min length of data :  141555\n",
      "Cutting Audio length (seconds): 3.21\n"
     ]
    }
   ],
   "source": [
    "root = 'D:\\GH\\Audio\\dataset\\소리인식\\분류완료\\Drager evita V300'\n",
    "\n",
    "max = 0\n",
    "min = 300000\n",
    "\n",
    "for file in os.listdir(root):\n",
    "    filepath = os.path.join(root, file)\n",
    "    # print(filepath)\n",
    "    y, sr = cut_file(filepath, sr=44100)\n",
    "    # print(len(y))\n",
    "    # print('Sampling rate (Hz): %d' % sr)\n",
    "    # print('Cutting Audio length (seconds): %.2f' % (len(y) / sr))\n",
    "    if max < len(y):\n",
    "        max = len(y)\n",
    "    if min > len(y):    \n",
    "        min = len(y)\n",
    "\n",
    "print('max length of data : ', max)\n",
    "print('Cutting Audio length (seconds): %.2f' % (max / 44100))\n",
    "\n",
    "print('min length of data : ', min)\n",
    "print('Cutting Audio length (seconds): %.2f' % (min / 44100))  "
   ]
  },
  {
   "cell_type": "code",
   "execution_count": 37,
   "metadata": {},
   "outputs": [
    {
     "name": "stdout",
     "output_type": "stream",
     "text": [
      "(70, 150736)\n"
     ]
    }
   ],
   "source": [
    "root = 'D:\\GH\\Audio\\dataset\\소리인식\\분류완료\\Drager evita V300'\n",
    "save_path = 'D:\\GH\\Audio\\dataset\\소리인식\\dataset\\\\1st'\n",
    "\n",
    "for idx, file in enumerate(os.listdir(root)):\n",
    "    filepath = os.path.join(root, file)\n",
    "    y, sr = librosa.load(filepath, sr=44100, mono=True)\n",
    "    y = y[:(max)]\n",
    "    # print(len(y))\n",
    "    # print(idx, filepath)\n",
    "    if idx == 0:\n",
    "        array = y\n",
    "    else:\n",
    "        array = np.vstack((array, y))\n",
    "    \n",
    "print(array.shape)\n",
    "np.save(os.path.join(save_path, 'Drager evita V300.npy'), array)"
   ]
  },
  {
   "cell_type": "markdown",
   "metadata": {},
   "source": [
    "### npy파일 생성 : minimum 기준"
   ]
  },
  {
   "cell_type": "code",
   "execution_count": 52,
   "metadata": {},
   "outputs": [
    {
     "name": "stdout",
     "output_type": "stream",
     "text": [
      "max length of data :  150736\n",
      "Cutting Audio length (seconds): 3.42\n",
      "min length of data :  141555\n",
      "Cutting Audio length (seconds): 3.21\n",
      "(70, 141555)\n"
     ]
    }
   ],
   "source": [
    "root = 'D:\\GH\\Audio\\dataset\\소리인식\\분류완료\\Drager evita V300'\n",
    "save_path = 'D:\\GH\\Audio\\dataset\\소리인식\\dataset\\\\1st'\n",
    "\n",
    "max = 0\n",
    "min = 300000\n",
    "\n",
    "for file in os.listdir(root):\n",
    "    filepath = os.path.join(root, file)\n",
    "    # print(filepath)\n",
    "    y, sr = cut_file(filepath, sr=44100)\n",
    "    # print(len(y))\n",
    "    # print('Sampling rate (Hz): %d' % sr)\n",
    "    # print('Cutting Audio length (seconds): %.2f' % (len(y) / sr))\n",
    "    if max < len(y):\n",
    "        max = len(y)\n",
    "    if min > len(y):    \n",
    "        min = len(y)\n",
    "\n",
    "print('max length of data : ', max)\n",
    "print('Cutting Audio length (seconds): %.2f' % (max / 44100))\n",
    "\n",
    "print('min length of data : ', min)\n",
    "print('Cutting Audio length (seconds): %.2f' % (min / 44100))  \n",
    "\n",
    "for idx, file in enumerate(os.listdir(root)):\n",
    "    filepath = os.path.join(root, file)\n",
    "    y, sr = librosa.load(filepath, sr=44100, mono=True)\n",
    "    y = y[:(min)]\n",
    "    # print(len(y))\n",
    "    # print(idx, filepath)\n",
    "    if idx == 0:\n",
    "        array = y\n",
    "    else:\n",
    "        array = np.vstack((array, y))\n",
    "    \n",
    "print(array.shape)\n",
    "np.save(os.path.join(save_path, 'Drager evita V300.npy'), array)"
   ]
  },
  {
   "cell_type": "code",
   "execution_count": 54,
   "metadata": {},
   "outputs": [
    {
     "name": "stdout",
     "output_type": "stream",
     "text": [
      "max length of data :  156484\n",
      "Cutting Audio length (seconds): 3.55\n",
      "min length of data :  134837\n",
      "Cutting Audio length (seconds): 3.06\n",
      "(72, 134837)\n"
     ]
    }
   ],
   "source": [
    "root = 'D:\\GH\\Audio\\dataset\\소리인식\\분류완료\\GE_B40 patient monitor\\high'\n",
    "save_path = 'D:\\GH\\Audio\\dataset\\소리인식\\dataset\\\\1st'\n",
    "\n",
    "max = 0\n",
    "min = 300000\n",
    "\n",
    "for file in os.listdir(root):\n",
    "    filepath = os.path.join(root, file)\n",
    "    # print(filepath)\n",
    "    y, sr = cut_file(filepath, sr=44100)\n",
    "    # print(len(y))\n",
    "    # print('Sampling rate (Hz): %d' % sr)\n",
    "    # print('Cutting Audio length (seconds): %.2f' % (len(y) / sr))\n",
    "    if max < len(y):\n",
    "        max = len(y)\n",
    "    if min > len(y):    \n",
    "        min = len(y)\n",
    "\n",
    "print('max length of data : ', max)\n",
    "print('Cutting Audio length (seconds): %.2f' % (max / 44100))\n",
    "\n",
    "print('min length of data : ', min)\n",
    "print('Cutting Audio length (seconds): %.2f' % (min / 44100))  \n",
    "\n",
    "for idx, file in enumerate(os.listdir(root)):\n",
    "    filepath = os.path.join(root, file)\n",
    "    y, sr = librosa.load(filepath, sr=44100, mono=True)\n",
    "    y = y[:(min)]\n",
    "    # print(len(y))\n",
    "    # print(idx, filepath)\n",
    "    if idx == 0:\n",
    "        array = y\n",
    "    else:\n",
    "        array = np.vstack((array, y))\n",
    "    \n",
    "print(array.shape)\n",
    "np.save(os.path.join(save_path, 'GE_B40 patient monitor_high.npy'), array)"
   ]
  },
  {
   "cell_type": "markdown",
   "metadata": {},
   "source": [
    "#TODO: DOUBLE CHECK"
   ]
  },
  {
   "cell_type": "code",
   "execution_count": 55,
   "metadata": {},
   "outputs": [
    {
     "name": "stdout",
     "output_type": "stream",
     "text": [
      "max length of data :  68145\n",
      "Cutting Audio length (seconds): 1.55\n",
      "min length of data :  34364\n",
      "Cutting Audio length (seconds): 0.78\n",
      "(69, 34364)\n"
     ]
    }
   ],
   "source": [
    "root = 'D:\\GH\\Audio\\dataset\\소리인식\\분류완료\\GE_B40 patient monitor\\medium'\n",
    "save_path = 'D:\\GH\\Audio\\dataset\\소리인식\\dataset\\\\1st'\n",
    "\n",
    "max = 0\n",
    "min = 300000\n",
    "\n",
    "for file in os.listdir(root):\n",
    "    filepath = os.path.join(root, file)\n",
    "    # print(filepath)\n",
    "    y, sr = cut_file(filepath, sr=44100)\n",
    "    # print(len(y))\n",
    "    # print('Sampling rate (Hz): %d' % sr)\n",
    "    # print('Cutting Audio length (seconds): %.2f' % (len(y) / sr))\n",
    "    if max < len(y):\n",
    "        max = len(y)\n",
    "    if min > len(y):    \n",
    "        min = len(y)\n",
    "\n",
    "print('max length of data : ', max)\n",
    "print('Cutting Audio length (seconds): %.2f' % (max / 44100))\n",
    "\n",
    "print('min length of data : ', min)\n",
    "print('Cutting Audio length (seconds): %.2f' % (min / 44100))    \n",
    "\n",
    "for idx, file in enumerate(os.listdir(root)):\n",
    "    filepath = os.path.join(root, file)\n",
    "    y, sr = librosa.load(filepath, sr=44100, mono=True)\n",
    "    y = y[:(min)]\n",
    "    # print(len(y))\n",
    "    # print(idx, filepath)\n",
    "    if idx == 0:\n",
    "        array = y\n",
    "    else:\n",
    "        array = np.vstack((array, y))\n",
    "    \n",
    "print(array.shape)\n",
    "np.save(os.path.join(save_path, 'GE_B40 patient monitor_medium.npy'), array)"
   ]
  },
  {
   "cell_type": "code",
   "execution_count": 56,
   "metadata": {},
   "outputs": [
    {
     "name": "stdout",
     "output_type": "stream",
     "text": [
      "max length of data :  48706\n",
      "Cutting Audio length (seconds): 1.10\n",
      "min length of data :  23116\n",
      "Cutting Audio length (seconds): 0.52\n",
      "(71, 23116)\n"
     ]
    }
   ],
   "source": [
    "root = 'D:\\GH\\Audio\\dataset\\소리인식\\분류완료\\GE_transport patient monitor\\\\advisory alarm'\n",
    "save_path = 'D:\\GH\\Audio\\dataset\\소리인식\\dataset\\\\1st'\n",
    "\n",
    "max = 0\n",
    "min = 300000\n",
    "\n",
    "for file in os.listdir(root):\n",
    "    filepath = os.path.join(root, file)\n",
    "    # print(filepath)\n",
    "    y, sr = cut_file(filepath, sr=44100)\n",
    "    # print(len(y))\n",
    "    # print('Sampling rate (Hz): %d' % sr)\n",
    "    # print('Cutting Audio length (seconds): %.2f' % (len(y) / sr))\n",
    "    if max < len(y):\n",
    "        max = len(y)\n",
    "    if min > len(y):    \n",
    "        min = len(y)\n",
    "\n",
    "print('max length of data : ', max)\n",
    "print('Cutting Audio length (seconds): %.2f' % (max / 44100))\n",
    "\n",
    "print('min length of data : ', min)\n",
    "print('Cutting Audio length (seconds): %.2f' % (min / 44100))  \n",
    "\n",
    "for idx, file in enumerate(os.listdir(root)):\n",
    "    filepath = os.path.join(root, file)\n",
    "    y, sr = librosa.load(filepath, sr=44100, mono=True)\n",
    "    y = y[:(min)]\n",
    "    # print(len(y))\n",
    "    # print(idx, filepath)\n",
    "    if idx == 0:\n",
    "        array = y\n",
    "    else:\n",
    "        array = np.vstack((array, y))\n",
    "    \n",
    "print(array.shape)\n",
    "np.save(os.path.join(save_path, 'GE_transport patient monitor_advisory alarm.npy'), array)"
   ]
  },
  {
   "cell_type": "code",
   "execution_count": 59,
   "metadata": {},
   "outputs": [
    {
     "name": "stdout",
     "output_type": "stream",
     "text": [
      "max length of data :  157409\n",
      "Cutting Audio length (seconds): 3.57\n",
      "min length of data :  145461\n",
      "Cutting Audio length (seconds): 3.30\n",
      "(65, 145461)\n"
     ]
    }
   ],
   "source": [
    "root = 'D:\\GH\\Audio\\dataset\\소리인식\\분류완료\\PB980 ventilator'\n",
    "save_path = 'D:\\GH\\Audio\\dataset\\소리인식\\dataset\\\\1st'\n",
    "\n",
    "max = 0\n",
    "min = 300000\n",
    "\n",
    "for file in os.listdir(root):\n",
    "    filepath = os.path.join(root, file)\n",
    "    # print(filepath)\n",
    "    y, sr = cut_file(filepath, sr=44100)\n",
    "    # print(len(y))\n",
    "    # print('Sampling rate (Hz): %d' % sr)\n",
    "    # print('Cutting Audio length (seconds): %.2f' % (len(y) / sr))\n",
    "    if max < len(y):\n",
    "        max = len(y)\n",
    "    if min > len(y):    \n",
    "        min = len(y)\n",
    "\n",
    "print('max length of data : ', max)\n",
    "print('Cutting Audio length (seconds): %.2f' % (max / 44100))\n",
    "\n",
    "print('min length of data : ', min)\n",
    "print('Cutting Audio length (seconds): %.2f' % (min / 44100))  \n",
    "\n",
    "for idx, file in enumerate(os.listdir(root)):\n",
    "    filepath = os.path.join(root, file)\n",
    "    y, sr = librosa.load(filepath, sr=44100, mono=True)\n",
    "    y = y[:(min)]\n",
    "    # print(len(y))\n",
    "    # print(idx, filepath)\n",
    "    if idx == 0:\n",
    "        array = y\n",
    "    else:\n",
    "        array = np.vstack((array, y))\n",
    "    \n",
    "print(array.shape)\n",
    "np.save(os.path.join(save_path, 'PB980 ventilator.npy'), array)"
   ]
  },
  {
   "cell_type": "code",
   "execution_count": 57,
   "metadata": {},
   "outputs": [
    {
     "name": "stdout",
     "output_type": "stream",
     "text": [
      "max length of data :  42700\n",
      "Cutting Audio length (seconds): 0.97\n",
      "min length of data :  24299\n",
      "Cutting Audio length (seconds): 0.55\n",
      "(71, 24299)\n"
     ]
    }
   ],
   "source": [
    "root = 'D:\\GH\\Audio\\dataset\\소리인식\\분류완료\\GE_transport patient monitor\\crisis alarm'\n",
    "save_path = 'D:\\GH\\Audio\\dataset\\소리인식\\dataset\\\\1st'\n",
    "\n",
    "max = 0\n",
    "min = 300000\n",
    "\n",
    "for file in os.listdir(root):\n",
    "    filepath = os.path.join(root, file)\n",
    "    # print(filepath)\n",
    "    y, sr = cut_file(filepath, sr=44100)\n",
    "    # print(len(y))\n",
    "    # print('Sampling rate (Hz): %d' % sr)\n",
    "    # print('Cutting Audio length (seconds): %.2f' % (len(y) / sr))\n",
    "    if max < len(y):\n",
    "        max = len(y)\n",
    "    if min > len(y):    \n",
    "        min = len(y)\n",
    "\n",
    "print('max length of data : ', max)\n",
    "print('Cutting Audio length (seconds): %.2f' % (max / 44100))\n",
    "\n",
    "print('min length of data : ', min)\n",
    "print('Cutting Audio length (seconds): %.2f' % (min / 44100))  \n",
    "\n",
    "for idx, file in enumerate(os.listdir(root)):\n",
    "    filepath = os.path.join(root, file)\n",
    "    y, sr = librosa.load(filepath, sr=44100, mono=True)\n",
    "    y = y[:(min)]\n",
    "    # print(len(y))\n",
    "    # print(idx, filepath)\n",
    "    if idx == 0:\n",
    "        array = y\n",
    "    else:\n",
    "        array = np.vstack((array, y))\n",
    "    \n",
    "print(array.shape)\n",
    "np.save(os.path.join(save_path, 'GE_transport patient monitor_crisis alarm.npy'), array)"
   ]
  },
  {
   "cell_type": "code",
   "execution_count": 77,
   "metadata": {},
   "outputs": [
    {
     "name": "stdout",
     "output_type": "stream",
     "text": [
      "max length of data :  33449\n",
      "Cutting Audio length (seconds): 0.76\n",
      "min length of data :  22024\n",
      "Cutting Audio length (seconds): 0.50\n",
      "(76, 22024)\n"
     ]
    }
   ],
   "source": [
    "root = 'D:\\GH\\Audio\\dataset\\소리인식\\분류완료\\Terumo TE-171\\occlusion alarm'\n",
    "save_path = 'D:\\GH\\Audio\\dataset\\소리인식\\dataset\\\\1st'\n",
    "\n",
    "max = 0\n",
    "min = 300000\n",
    "\n",
    "for file in os.listdir(root):\n",
    "    filepath = os.path.join(root, file)\n",
    "    # print(filepath)\n",
    "    y, sr = cut_file(filepath, sr=44100)\n",
    "    # print(len(y))\n",
    "    # print('Sampling rate (Hz): %d' % sr)\n",
    "    # print('Cutting Audio length (seconds): %.2f' % (len(y) / sr))\n",
    "    if max < len(y):\n",
    "        max = len(y)\n",
    "    if min > len(y):    \n",
    "        min = len(y)\n",
    "\n",
    "print('max length of data : ', max)\n",
    "print('Cutting Audio length (seconds): %.2f' % (max / 44100))\n",
    "\n",
    "print('min length of data : ', min)\n",
    "print('Cutting Audio length (seconds): %.2f' % (min / 44100))  \n",
    "\n",
    "for idx, file in enumerate(os.listdir(root)):\n",
    "    filepath = os.path.join(root, file)\n",
    "    y, sr = librosa.load(filepath, sr=44100, mono=True)\n",
    "    y = y[:(min)]\n",
    "    # print(len(y))\n",
    "    # print(idx, filepath)\n",
    "    if idx == 0:\n",
    "        array = y\n",
    "    else:\n",
    "        array = np.vstack((array, y))\n",
    "    \n",
    "print(array.shape)\n",
    "np.save(os.path.join(save_path, 'Terumo TE-171_occlusion alarm.npy'), array)"
   ]
  },
  {
   "cell_type": "code",
   "execution_count": 79,
   "metadata": {},
   "outputs": [],
   "source": [
    "from pydub import AudioSegment\n",
    "\n",
    "root = 'D:\\GH\\Audio\\dataset\\소리인식\\배경잡음\\mp3'\n",
    "target = 'D:\\GH\\Audio\\dataset\\소리인식\\배경잡음\\wav'\n",
    "\n",
    "for file in os.listdir(root):\n",
    "    filepath = os.path.join(root, file)\n",
    "    sound = AudioSegment.from_mp3(filepath)\n",
    "    target_name = os.path.join(target, file[:-3])\n",
    "    sound.export(target_name+'wav', format=\"wav\")"
   ]
  },
  {
   "cell_type": "code",
   "execution_count": null,
   "metadata": {},
   "outputs": [],
   "source": [
    "root = 'D:\\GH\\Audio\\dataset\\소리인식\\배경잡음\\wav'\n",
    "save_path = 'D:\\GH\\Audio\\dataset\\소리인식\\dataset\\\\1st'\n",
    "\n",
    "for idx, file in enumerate(os.listdir(root)):\n",
    "    filepath = os.path.join(root, file)\n",
    "    y, sr = librosa.load(filepath, sr=44100, mono=True)\n",
    "    y = y[:(min)]\n",
    "    # print(len(y))\n",
    "    # print(idx, filepath)\n",
    "    if idx == 0:\n",
    "        array = y\n",
    "    else:\n",
    "        array = np.vstack((array, y))\n",
    "    \n",
    "print(array.shape)\n",
    "np.save(os.path.join(save_path, 'Terumo TE-171_occlusion alarm.npy'), array)"
   ]
  }
 ],
 "metadata": {
  "interpreter": {
   "hash": "e060eb5364c970a45ca73994a8fec165a4b69babd1377ce3be089817ff79ee84"
  },
  "kernelspec": {
   "display_name": "Python 3.8.12 ('tf_dl')",
   "language": "python",
   "name": "python3"
  },
  "language_info": {
   "codemirror_mode": {
    "name": "ipython",
    "version": 3
   },
   "file_extension": ".py",
   "mimetype": "text/x-python",
   "name": "python",
   "nbconvert_exporter": "python",
   "pygments_lexer": "ipython3",
   "version": "3.8.12"
  },
  "orig_nbformat": 4
 },
 "nbformat": 4,
 "nbformat_minor": 2
}
