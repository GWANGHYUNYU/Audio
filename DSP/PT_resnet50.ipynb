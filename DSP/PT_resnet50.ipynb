{
 "cells": [
  {
   "cell_type": "code",
   "execution_count": 1,
   "metadata": {},
   "outputs": [],
   "source": [
    "import tensorflow as tf\n",
    "from tensorflow import keras\n",
    "from keras import utils\n",
    "from keras.models import Sequential, Model\n",
    "from keras.layers import Conv2D, MaxPool2D, Input, Dense, Flatten, Concatenate\n",
    "\n",
    "import pandas as pd\n",
    "import numpy as np\n",
    "import matplotlib.pyplot as plt\n",
    "import seaborn as sns\n",
    "import warnings \n",
    "from IPython.display import Image\n",
    "\n",
    "import os"
   ]
  },
  {
   "cell_type": "code",
   "execution_count": 2,
   "metadata": {},
   "outputs": [
    {
     "name": "stdout",
     "output_type": "stream",
     "text": [
      "class number : 0 b40 high\n",
      "(72, 128, 311)\n",
      "(72, 1)\n",
      "class number : 1 b40 medium\n",
      "(69, 128, 311)\n",
      "(69, 1)\n",
      "class number : 2 high priority alarm\n",
      "(65, 128, 311)\n",
      "(65, 1)\n",
      "class number : 3 TE171 occlusion alarm\n",
      "(76, 128, 311)\n",
      "(76, 1)\n",
      "class number : 4 transport advisory alarm\n",
      "(71, 128, 311)\n",
      "(71, 1)\n",
      "class number : 5 transport crisis alarm\n",
      "(71, 128, 311)\n",
      "(71, 1)\n",
      "class number : 6 transport warning alarm\n",
      "(75, 128, 311)\n",
      "(75, 1)\n",
      "class number : 7 V300 high priority alarm\n",
      "(70, 128, 311)\n",
      "(70, 1)\n"
     ]
    }
   ],
   "source": [
    "load_path = 'D:\\GH\\Audio\\dataset\\소리인식\\dataset\\zero_pad_preprocess1'\n",
    "\n",
    "'''\n",
    "loaded = np.load('파일명.npz')\n",
    "loaded['spectrogram']\n",
    "loaded['Mel_spectrogram']\n",
    "loaded['Log_Mel_spectrogram']\n",
    "loaded['mfcc']\n",
    "loaded['delta_mfcc']\n",
    "'''\n",
    "\n",
    "for idx, file in enumerate(os.listdir(load_path)):\n",
    "    filepath = os.path.join(load_path, file)\n",
    "    loaded = np.load(filepath)\n",
    "    print('class number :',idx, file[:-4])\n",
    "    x = loaded['Log_Mel_spectrogram']\n",
    "    y = np.zeros((x.shape[0],1), dtype=np.int8)\n",
    "    y = y + idx\n",
    "    print(x.shape)\n",
    "    print(y.shape)\n",
    "    ratio = round(x.shape[0]*0.2)   # 각 클래스별 나누는 비율\n",
    "    flag = x.shape[0]-ratio\n",
    "\n",
    "    if idx == 0:\n",
    "        x_train = x[:flag]\n",
    "        y_train = y[:flag]\n",
    "        x_test = x[flag:]\n",
    "        y_test = y[flag:]\n",
    "    else:\n",
    "        x_train = np.vstack((x_train, x[:flag]))\n",
    "        y_train = np.vstack((y_train, y[:flag]))\n",
    "        x_test = np.vstack((x_test, x[flag:]))\n",
    "        y_test = np.vstack((y_test, y[flag:]))\n",
    "        "
   ]
  },
  {
   "cell_type": "code",
   "execution_count": 3,
   "metadata": {},
   "outputs": [],
   "source": [
    "x_train = x_train[...,np.newaxis]\n",
    "x_test = x_test[...,np.newaxis]\n",
    "y_train = y_train.reshape((-1,))\n",
    "y_test = y_test.reshape((-1,))"
   ]
  },
  {
   "cell_type": "code",
   "execution_count": 4,
   "metadata": {},
   "outputs": [
    {
     "name": "stdout",
     "output_type": "stream",
     "text": [
      "(456, 128, 311, 1)\n",
      "(456,)\n",
      "(113, 128, 311, 1)\n",
      "(113,)\n"
     ]
    }
   ],
   "source": [
    "print(x_train.shape)\n",
    "print(y_train.shape)\n",
    "print(x_test.shape)\n",
    "print(y_test.shape)"
   ]
  },
  {
   "cell_type": "code",
   "execution_count": 5,
   "metadata": {},
   "outputs": [],
   "source": [
    "np.random.seed(0)\n",
    "\n",
    "# 배열의 원소 개수만큼 인덱스 배열을 만든 후 \n",
    "# 무작위로 뒤섞어 줍니다. \n",
    "idx_train = np.arange(x_train.shape[0])\n",
    "idx_test = np.arange(x_test.shape[0])\n",
    "# print(idx)\n",
    "np.random.shuffle(idx_train)\n",
    "np.random.shuffle(idx_test)\n",
    "\n",
    "x_train_shuffle = x_train[idx_train]\n",
    "y_train_shuffle = y_train[idx_train]\n",
    "x_test_shuffle = x_test[idx_test]\n",
    "y_test_shuffle = y_test[idx_test]"
   ]
  },
  {
   "cell_type": "code",
   "execution_count": 6,
   "metadata": {},
   "outputs": [
    {
     "name": "stdout",
     "output_type": "stream",
     "text": [
      "(456, 128, 311, 1)\n",
      "(456,)\n",
      "(113, 128, 311, 1)\n",
      "(113,)\n"
     ]
    }
   ],
   "source": [
    "print(x_train_shuffle.shape)\n",
    "print(y_train_shuffle.shape)\n",
    "print(x_test_shuffle.shape)\n",
    "print(y_test_shuffle.shape)"
   ]
  },
  {
   "cell_type": "markdown",
   "metadata": {},
   "source": [
    "# P.T. ResNet50"
   ]
  },
  {
   "cell_type": "code",
   "execution_count": 7,
   "metadata": {},
   "outputs": [],
   "source": [
    "# Create the base model from the pre-trained model Resnet-50\n",
    "# ResNet50 불러오기에서 include_top=을 True가 아닌 False로 둠으로써 사전학습된 모델의 최상층 분류기를 사용하지 않겠다고 설정\n",
    "# include_top을 True로 설정하면 크기는 224,224,3으로 제한\n",
    "\n",
    "IMG_SHAPE = (128, 311) + (3,)\n",
    "base_model = tf.keras.applications.ResNet50(input_shape=IMG_SHAPE, include_top=False, weights='imagenet')"
   ]
  },
  {
   "cell_type": "code",
   "execution_count": 8,
   "metadata": {},
   "outputs": [],
   "source": [
    "# base_model.trainable = False를 통해 사전학습된 resnet이 기존에 기억하던 weights를 손상주지 않기 위해 동결\n",
    "\n",
    "base_model.trainable = False"
   ]
  },
  {
   "cell_type": "code",
   "execution_count": 9,
   "metadata": {},
   "outputs": [],
   "source": [
    "# ResNet50 입력을 변환하여 모델 설계\n",
    "# inputs = Input((28, 28, 1))\n",
    "# resized_x = tf.keras.layers.experimental.preprocessing.Resizing(32, 32)(inputs)\n",
    "# first_conv_layer = Conv2D(3, 1, padding='same', activation=None)(resized_x)\n",
    "\n",
    "inputs = Input((128, 311, 1))\n",
    "first_conv_layer = Conv2D(3, 1, padding='same', activation=None)(inputs)\n",
    "\n",
    "x = base_model(first_conv_layer, training = False)\n",
    "x = Flatten()(x)\n",
    "outputs = Dense(8, activation = 'softmax')(x)\n",
    "\n",
    "model = tf.keras.Model(inputs, outputs, name=\"P_T_resnet50_model\")"
   ]
  },
  {
   "cell_type": "code",
   "execution_count": 10,
   "metadata": {},
   "outputs": [
    {
     "name": "stdout",
     "output_type": "stream",
     "text": [
      "Model: \"P_T_resnet50_model\"\n",
      "_________________________________________________________________\n",
      " Layer (type)                Output Shape              Param #   \n",
      "=================================================================\n",
      " input_2 (InputLayer)        [(None, 128, 311, 1)]     0         \n",
      "                                                                 \n",
      " conv2d (Conv2D)             (None, 128, 311, 3)       6         \n",
      "                                                                 \n",
      " resnet50 (Functional)       (None, 4, 10, 2048)       23587712  \n",
      "                                                                 \n",
      " flatten (Flatten)           (None, 81920)             0         \n",
      "                                                                 \n",
      " dense (Dense)               (None, 8)                 655368    \n",
      "                                                                 \n",
      "=================================================================\n",
      "Total params: 24,243,086\n",
      "Trainable params: 655,374\n",
      "Non-trainable params: 23,587,712\n",
      "_________________________________________________________________\n"
     ]
    }
   ],
   "source": [
    "model.compile(loss=\"sparse_categorical_crossentropy\", \n",
    "              optimizer=tf.keras.optimizers.Adam(learning_rate= 0.001), \n",
    "              metrics=['accuracy'])\n",
    "\n",
    "# early stopping 설정\n",
    "early = tf.keras.callbacks.EarlyStopping(monitor='val_loss', patience=3)\n",
    "\n",
    "model.summary()"
   ]
  },
  {
   "cell_type": "code",
   "execution_count": 11,
   "metadata": {},
   "outputs": [
    {
     "name": "stdout",
     "output_type": "stream",
     "text": [
      "Epoch 1/15\n",
      "4/4 [==============================] - 19s 2s/step - loss: 4.0479 - accuracy: 0.4364 - val_loss: 0.1800 - val_accuracy: 0.9115\n",
      "Epoch 2/15\n",
      "4/4 [==============================] - 2s 489ms/step - loss: 0.3812 - accuracy: 0.8750 - val_loss: 0.7229 - val_accuracy: 0.8407\n",
      "Epoch 3/15\n",
      "4/4 [==============================] - 2s 502ms/step - loss: 0.3105 - accuracy: 0.9320 - val_loss: 8.2280e-05 - val_accuracy: 1.0000\n",
      "Epoch 4/15\n",
      "4/4 [==============================] - 2s 493ms/step - loss: 0.0177 - accuracy: 0.9978 - val_loss: 1.0510e-04 - val_accuracy: 1.0000\n",
      "Epoch 5/15\n",
      "4/4 [==============================] - 2s 491ms/step - loss: 0.0594 - accuracy: 0.9846 - val_loss: 4.0729e-05 - val_accuracy: 1.0000\n",
      "Epoch 6/15\n",
      "4/4 [==============================] - 2s 502ms/step - loss: 0.0130 - accuracy: 0.9956 - val_loss: 2.0466e-07 - val_accuracy: 1.0000\n",
      "Epoch 7/15\n",
      "4/4 [==============================] - 2s 486ms/step - loss: 0.0021 - accuracy: 0.9978 - val_loss: 7.1525e-07 - val_accuracy: 1.0000\n",
      "Epoch 8/15\n",
      "4/4 [==============================] - 2s 488ms/step - loss: 0.0058 - accuracy: 0.9978 - val_loss: 2.4242e-06 - val_accuracy: 1.0000\n",
      "Epoch 9/15\n",
      "4/4 [==============================] - 2s 492ms/step - loss: 0.0071 - accuracy: 0.9978 - val_loss: 3.8640e-06 - val_accuracy: 1.0000\n"
     ]
    }
   ],
   "source": [
    "# 모델 fitting\n",
    "hist = model.fit(x_train_shuffle, y_train_shuffle,\n",
    "                 validation_data = (x_test, y_test),\n",
    "                 epochs = 15,\n",
    "                 batch_size = 128,\n",
    "                 verbose = 1,\n",
    "                 callbacks=[early])"
   ]
  },
  {
   "cell_type": "markdown",
   "metadata": {},
   "source": [
    "## 전이학습 미세조정(fine tuning)"
   ]
  },
  {
   "cell_type": "code",
   "execution_count": 12,
   "metadata": {},
   "outputs": [
    {
     "name": "stdout",
     "output_type": "stream",
     "text": [
      "Model: \"resnet50\"\n",
      "__________________________________________________________________________________________________\n",
      " Layer (type)                   Output Shape         Param #     Connected to                     \n",
      "==================================================================================================\n",
      " input_1 (InputLayer)           [(None, 128, 311, 3  0           []                               \n",
      "                                )]                                                                \n",
      "                                                                                                  \n",
      " conv1_pad (ZeroPadding2D)      (None, 134, 317, 3)  0           ['input_1[0][0]']                \n",
      "                                                                                                  \n",
      " conv1_conv (Conv2D)            (None, 64, 156, 64)  9472        ['conv1_pad[0][0]']              \n",
      "                                                                                                  \n",
      " conv1_bn (BatchNormalization)  (None, 64, 156, 64)  256         ['conv1_conv[0][0]']             \n",
      "                                                                                                  \n",
      " conv1_relu (Activation)        (None, 64, 156, 64)  0           ['conv1_bn[0][0]']               \n",
      "                                                                                                  \n",
      " pool1_pad (ZeroPadding2D)      (None, 66, 158, 64)  0           ['conv1_relu[0][0]']             \n",
      "                                                                                                  \n",
      " pool1_pool (MaxPooling2D)      (None, 32, 78, 64)   0           ['pool1_pad[0][0]']              \n",
      "                                                                                                  \n",
      " conv2_block1_1_conv (Conv2D)   (None, 32, 78, 64)   4160        ['pool1_pool[0][0]']             \n",
      "                                                                                                  \n",
      " conv2_block1_1_bn (BatchNormal  (None, 32, 78, 64)  256         ['conv2_block1_1_conv[0][0]']    \n",
      " ization)                                                                                         \n",
      "                                                                                                  \n",
      " conv2_block1_1_relu (Activatio  (None, 32, 78, 64)  0           ['conv2_block1_1_bn[0][0]']      \n",
      " n)                                                                                               \n",
      "                                                                                                  \n",
      " conv2_block1_2_conv (Conv2D)   (None, 32, 78, 64)   36928       ['conv2_block1_1_relu[0][0]']    \n",
      "                                                                                                  \n",
      " conv2_block1_2_bn (BatchNormal  (None, 32, 78, 64)  256         ['conv2_block1_2_conv[0][0]']    \n",
      " ization)                                                                                         \n",
      "                                                                                                  \n",
      " conv2_block1_2_relu (Activatio  (None, 32, 78, 64)  0           ['conv2_block1_2_bn[0][0]']      \n",
      " n)                                                                                               \n",
      "                                                                                                  \n",
      " conv2_block1_0_conv (Conv2D)   (None, 32, 78, 256)  16640       ['pool1_pool[0][0]']             \n",
      "                                                                                                  \n",
      " conv2_block1_3_conv (Conv2D)   (None, 32, 78, 256)  16640       ['conv2_block1_2_relu[0][0]']    \n",
      "                                                                                                  \n",
      " conv2_block1_0_bn (BatchNormal  (None, 32, 78, 256)  1024       ['conv2_block1_0_conv[0][0]']    \n",
      " ization)                                                                                         \n",
      "                                                                                                  \n",
      " conv2_block1_3_bn (BatchNormal  (None, 32, 78, 256)  1024       ['conv2_block1_3_conv[0][0]']    \n",
      " ization)                                                                                         \n",
      "                                                                                                  \n",
      " conv2_block1_add (Add)         (None, 32, 78, 256)  0           ['conv2_block1_0_bn[0][0]',      \n",
      "                                                                  'conv2_block1_3_bn[0][0]']      \n",
      "                                                                                                  \n",
      " conv2_block1_out (Activation)  (None, 32, 78, 256)  0           ['conv2_block1_add[0][0]']       \n",
      "                                                                                                  \n",
      " conv2_block2_1_conv (Conv2D)   (None, 32, 78, 64)   16448       ['conv2_block1_out[0][0]']       \n",
      "                                                                                                  \n",
      " conv2_block2_1_bn (BatchNormal  (None, 32, 78, 64)  256         ['conv2_block2_1_conv[0][0]']    \n",
      " ization)                                                                                         \n",
      "                                                                                                  \n",
      " conv2_block2_1_relu (Activatio  (None, 32, 78, 64)  0           ['conv2_block2_1_bn[0][0]']      \n",
      " n)                                                                                               \n",
      "                                                                                                  \n",
      " conv2_block2_2_conv (Conv2D)   (None, 32, 78, 64)   36928       ['conv2_block2_1_relu[0][0]']    \n",
      "                                                                                                  \n",
      " conv2_block2_2_bn (BatchNormal  (None, 32, 78, 64)  256         ['conv2_block2_2_conv[0][0]']    \n",
      " ization)                                                                                         \n",
      "                                                                                                  \n",
      " conv2_block2_2_relu (Activatio  (None, 32, 78, 64)  0           ['conv2_block2_2_bn[0][0]']      \n",
      " n)                                                                                               \n",
      "                                                                                                  \n",
      " conv2_block2_3_conv (Conv2D)   (None, 32, 78, 256)  16640       ['conv2_block2_2_relu[0][0]']    \n",
      "                                                                                                  \n",
      " conv2_block2_3_bn (BatchNormal  (None, 32, 78, 256)  1024       ['conv2_block2_3_conv[0][0]']    \n",
      " ization)                                                                                         \n",
      "                                                                                                  \n",
      " conv2_block2_add (Add)         (None, 32, 78, 256)  0           ['conv2_block1_out[0][0]',       \n",
      "                                                                  'conv2_block2_3_bn[0][0]']      \n",
      "                                                                                                  \n",
      " conv2_block2_out (Activation)  (None, 32, 78, 256)  0           ['conv2_block2_add[0][0]']       \n",
      "                                                                                                  \n",
      " conv2_block3_1_conv (Conv2D)   (None, 32, 78, 64)   16448       ['conv2_block2_out[0][0]']       \n",
      "                                                                                                  \n",
      " conv2_block3_1_bn (BatchNormal  (None, 32, 78, 64)  256         ['conv2_block3_1_conv[0][0]']    \n",
      " ization)                                                                                         \n",
      "                                                                                                  \n",
      " conv2_block3_1_relu (Activatio  (None, 32, 78, 64)  0           ['conv2_block3_1_bn[0][0]']      \n",
      " n)                                                                                               \n",
      "                                                                                                  \n",
      " conv2_block3_2_conv (Conv2D)   (None, 32, 78, 64)   36928       ['conv2_block3_1_relu[0][0]']    \n",
      "                                                                                                  \n",
      " conv2_block3_2_bn (BatchNormal  (None, 32, 78, 64)  256         ['conv2_block3_2_conv[0][0]']    \n",
      " ization)                                                                                         \n",
      "                                                                                                  \n",
      " conv2_block3_2_relu (Activatio  (None, 32, 78, 64)  0           ['conv2_block3_2_bn[0][0]']      \n",
      " n)                                                                                               \n",
      "                                                                                                  \n",
      " conv2_block3_3_conv (Conv2D)   (None, 32, 78, 256)  16640       ['conv2_block3_2_relu[0][0]']    \n",
      "                                                                                                  \n",
      " conv2_block3_3_bn (BatchNormal  (None, 32, 78, 256)  1024       ['conv2_block3_3_conv[0][0]']    \n",
      " ization)                                                                                         \n",
      "                                                                                                  \n",
      " conv2_block3_add (Add)         (None, 32, 78, 256)  0           ['conv2_block2_out[0][0]',       \n",
      "                                                                  'conv2_block3_3_bn[0][0]']      \n",
      "                                                                                                  \n",
      " conv2_block3_out (Activation)  (None, 32, 78, 256)  0           ['conv2_block3_add[0][0]']       \n",
      "                                                                                                  \n",
      " conv3_block1_1_conv (Conv2D)   (None, 16, 39, 128)  32896       ['conv2_block3_out[0][0]']       \n",
      "                                                                                                  \n",
      " conv3_block1_1_bn (BatchNormal  (None, 16, 39, 128)  512        ['conv3_block1_1_conv[0][0]']    \n",
      " ization)                                                                                         \n",
      "                                                                                                  \n",
      " conv3_block1_1_relu (Activatio  (None, 16, 39, 128)  0          ['conv3_block1_1_bn[0][0]']      \n",
      " n)                                                                                               \n",
      "                                                                                                  \n",
      " conv3_block1_2_conv (Conv2D)   (None, 16, 39, 128)  147584      ['conv3_block1_1_relu[0][0]']    \n",
      "                                                                                                  \n",
      " conv3_block1_2_bn (BatchNormal  (None, 16, 39, 128)  512        ['conv3_block1_2_conv[0][0]']    \n",
      " ization)                                                                                         \n",
      "                                                                                                  \n",
      " conv3_block1_2_relu (Activatio  (None, 16, 39, 128)  0          ['conv3_block1_2_bn[0][0]']      \n",
      " n)                                                                                               \n",
      "                                                                                                  \n",
      " conv3_block1_0_conv (Conv2D)   (None, 16, 39, 512)  131584      ['conv2_block3_out[0][0]']       \n",
      "                                                                                                  \n",
      " conv3_block1_3_conv (Conv2D)   (None, 16, 39, 512)  66048       ['conv3_block1_2_relu[0][0]']    \n",
      "                                                                                                  \n",
      " conv3_block1_0_bn (BatchNormal  (None, 16, 39, 512)  2048       ['conv3_block1_0_conv[0][0]']    \n",
      " ization)                                                                                         \n",
      "                                                                                                  \n",
      " conv3_block1_3_bn (BatchNormal  (None, 16, 39, 512)  2048       ['conv3_block1_3_conv[0][0]']    \n",
      " ization)                                                                                         \n",
      "                                                                                                  \n",
      " conv3_block1_add (Add)         (None, 16, 39, 512)  0           ['conv3_block1_0_bn[0][0]',      \n",
      "                                                                  'conv3_block1_3_bn[0][0]']      \n",
      "                                                                                                  \n",
      " conv3_block1_out (Activation)  (None, 16, 39, 512)  0           ['conv3_block1_add[0][0]']       \n",
      "                                                                                                  \n",
      " conv3_block2_1_conv (Conv2D)   (None, 16, 39, 128)  65664       ['conv3_block1_out[0][0]']       \n",
      "                                                                                                  \n",
      " conv3_block2_1_bn (BatchNormal  (None, 16, 39, 128)  512        ['conv3_block2_1_conv[0][0]']    \n",
      " ization)                                                                                         \n",
      "                                                                                                  \n",
      " conv3_block2_1_relu (Activatio  (None, 16, 39, 128)  0          ['conv3_block2_1_bn[0][0]']      \n",
      " n)                                                                                               \n",
      "                                                                                                  \n",
      " conv3_block2_2_conv (Conv2D)   (None, 16, 39, 128)  147584      ['conv3_block2_1_relu[0][0]']    \n",
      "                                                                                                  \n",
      " conv3_block2_2_bn (BatchNormal  (None, 16, 39, 128)  512        ['conv3_block2_2_conv[0][0]']    \n",
      " ization)                                                                                         \n",
      "                                                                                                  \n",
      " conv3_block2_2_relu (Activatio  (None, 16, 39, 128)  0          ['conv3_block2_2_bn[0][0]']      \n",
      " n)                                                                                               \n",
      "                                                                                                  \n",
      " conv3_block2_3_conv (Conv2D)   (None, 16, 39, 512)  66048       ['conv3_block2_2_relu[0][0]']    \n",
      "                                                                                                  \n",
      " conv3_block2_3_bn (BatchNormal  (None, 16, 39, 512)  2048       ['conv3_block2_3_conv[0][0]']    \n",
      " ization)                                                                                         \n",
      "                                                                                                  \n",
      " conv3_block2_add (Add)         (None, 16, 39, 512)  0           ['conv3_block1_out[0][0]',       \n",
      "                                                                  'conv3_block2_3_bn[0][0]']      \n",
      "                                                                                                  \n",
      " conv3_block2_out (Activation)  (None, 16, 39, 512)  0           ['conv3_block2_add[0][0]']       \n",
      "                                                                                                  \n",
      " conv3_block3_1_conv (Conv2D)   (None, 16, 39, 128)  65664       ['conv3_block2_out[0][0]']       \n",
      "                                                                                                  \n",
      " conv3_block3_1_bn (BatchNormal  (None, 16, 39, 128)  512        ['conv3_block3_1_conv[0][0]']    \n",
      " ization)                                                                                         \n",
      "                                                                                                  \n",
      " conv3_block3_1_relu (Activatio  (None, 16, 39, 128)  0          ['conv3_block3_1_bn[0][0]']      \n",
      " n)                                                                                               \n",
      "                                                                                                  \n",
      " conv3_block3_2_conv (Conv2D)   (None, 16, 39, 128)  147584      ['conv3_block3_1_relu[0][0]']    \n",
      "                                                                                                  \n",
      " conv3_block3_2_bn (BatchNormal  (None, 16, 39, 128)  512        ['conv3_block3_2_conv[0][0]']    \n",
      " ization)                                                                                         \n",
      "                                                                                                  \n",
      " conv3_block3_2_relu (Activatio  (None, 16, 39, 128)  0          ['conv3_block3_2_bn[0][0]']      \n",
      " n)                                                                                               \n",
      "                                                                                                  \n",
      " conv3_block3_3_conv (Conv2D)   (None, 16, 39, 512)  66048       ['conv3_block3_2_relu[0][0]']    \n",
      "                                                                                                  \n",
      " conv3_block3_3_bn (BatchNormal  (None, 16, 39, 512)  2048       ['conv3_block3_3_conv[0][0]']    \n",
      " ization)                                                                                         \n",
      "                                                                                                  \n",
      " conv3_block3_add (Add)         (None, 16, 39, 512)  0           ['conv3_block2_out[0][0]',       \n",
      "                                                                  'conv3_block3_3_bn[0][0]']      \n",
      "                                                                                                  \n",
      " conv3_block3_out (Activation)  (None, 16, 39, 512)  0           ['conv3_block3_add[0][0]']       \n",
      "                                                                                                  \n",
      " conv3_block4_1_conv (Conv2D)   (None, 16, 39, 128)  65664       ['conv3_block3_out[0][0]']       \n",
      "                                                                                                  \n",
      " conv3_block4_1_bn (BatchNormal  (None, 16, 39, 128)  512        ['conv3_block4_1_conv[0][0]']    \n",
      " ization)                                                                                         \n",
      "                                                                                                  \n",
      " conv3_block4_1_relu (Activatio  (None, 16, 39, 128)  0          ['conv3_block4_1_bn[0][0]']      \n",
      " n)                                                                                               \n",
      "                                                                                                  \n",
      " conv3_block4_2_conv (Conv2D)   (None, 16, 39, 128)  147584      ['conv3_block4_1_relu[0][0]']    \n",
      "                                                                                                  \n",
      " conv3_block4_2_bn (BatchNormal  (None, 16, 39, 128)  512        ['conv3_block4_2_conv[0][0]']    \n",
      " ization)                                                                                         \n",
      "                                                                                                  \n",
      " conv3_block4_2_relu (Activatio  (None, 16, 39, 128)  0          ['conv3_block4_2_bn[0][0]']      \n",
      " n)                                                                                               \n",
      "                                                                                                  \n",
      " conv3_block4_3_conv (Conv2D)   (None, 16, 39, 512)  66048       ['conv3_block4_2_relu[0][0]']    \n",
      "                                                                                                  \n",
      " conv3_block4_3_bn (BatchNormal  (None, 16, 39, 512)  2048       ['conv3_block4_3_conv[0][0]']    \n",
      " ization)                                                                                         \n",
      "                                                                                                  \n",
      " conv3_block4_add (Add)         (None, 16, 39, 512)  0           ['conv3_block3_out[0][0]',       \n",
      "                                                                  'conv3_block4_3_bn[0][0]']      \n",
      "                                                                                                  \n",
      " conv3_block4_out (Activation)  (None, 16, 39, 512)  0           ['conv3_block4_add[0][0]']       \n",
      "                                                                                                  \n",
      " conv4_block1_1_conv (Conv2D)   (None, 8, 20, 256)   131328      ['conv3_block4_out[0][0]']       \n",
      "                                                                                                  \n",
      " conv4_block1_1_bn (BatchNormal  (None, 8, 20, 256)  1024        ['conv4_block1_1_conv[0][0]']    \n",
      " ization)                                                                                         \n",
      "                                                                                                  \n",
      " conv4_block1_1_relu (Activatio  (None, 8, 20, 256)  0           ['conv4_block1_1_bn[0][0]']      \n",
      " n)                                                                                               \n",
      "                                                                                                  \n",
      " conv4_block1_2_conv (Conv2D)   (None, 8, 20, 256)   590080      ['conv4_block1_1_relu[0][0]']    \n",
      "                                                                                                  \n",
      " conv4_block1_2_bn (BatchNormal  (None, 8, 20, 256)  1024        ['conv4_block1_2_conv[0][0]']    \n",
      " ization)                                                                                         \n",
      "                                                                                                  \n",
      " conv4_block1_2_relu (Activatio  (None, 8, 20, 256)  0           ['conv4_block1_2_bn[0][0]']      \n",
      " n)                                                                                               \n",
      "                                                                                                  \n",
      " conv4_block1_0_conv (Conv2D)   (None, 8, 20, 1024)  525312      ['conv3_block4_out[0][0]']       \n",
      "                                                                                                  \n",
      " conv4_block1_3_conv (Conv2D)   (None, 8, 20, 1024)  263168      ['conv4_block1_2_relu[0][0]']    \n",
      "                                                                                                  \n",
      " conv4_block1_0_bn (BatchNormal  (None, 8, 20, 1024)  4096       ['conv4_block1_0_conv[0][0]']    \n",
      " ization)                                                                                         \n",
      "                                                                                                  \n",
      " conv4_block1_3_bn (BatchNormal  (None, 8, 20, 1024)  4096       ['conv4_block1_3_conv[0][0]']    \n",
      " ization)                                                                                         \n",
      "                                                                                                  \n",
      " conv4_block1_add (Add)         (None, 8, 20, 1024)  0           ['conv4_block1_0_bn[0][0]',      \n",
      "                                                                  'conv4_block1_3_bn[0][0]']      \n",
      "                                                                                                  \n",
      " conv4_block1_out (Activation)  (None, 8, 20, 1024)  0           ['conv4_block1_add[0][0]']       \n",
      "                                                                                                  \n",
      " conv4_block2_1_conv (Conv2D)   (None, 8, 20, 256)   262400      ['conv4_block1_out[0][0]']       \n",
      "                                                                                                  \n",
      " conv4_block2_1_bn (BatchNormal  (None, 8, 20, 256)  1024        ['conv4_block2_1_conv[0][0]']    \n",
      " ization)                                                                                         \n",
      "                                                                                                  \n",
      " conv4_block2_1_relu (Activatio  (None, 8, 20, 256)  0           ['conv4_block2_1_bn[0][0]']      \n",
      " n)                                                                                               \n",
      "                                                                                                  \n",
      " conv4_block2_2_conv (Conv2D)   (None, 8, 20, 256)   590080      ['conv4_block2_1_relu[0][0]']    \n",
      "                                                                                                  \n",
      " conv4_block2_2_bn (BatchNormal  (None, 8, 20, 256)  1024        ['conv4_block2_2_conv[0][0]']    \n",
      " ization)                                                                                         \n",
      "                                                                                                  \n",
      " conv4_block2_2_relu (Activatio  (None, 8, 20, 256)  0           ['conv4_block2_2_bn[0][0]']      \n",
      " n)                                                                                               \n",
      "                                                                                                  \n",
      " conv4_block2_3_conv (Conv2D)   (None, 8, 20, 1024)  263168      ['conv4_block2_2_relu[0][0]']    \n",
      "                                                                                                  \n",
      " conv4_block2_3_bn (BatchNormal  (None, 8, 20, 1024)  4096       ['conv4_block2_3_conv[0][0]']    \n",
      " ization)                                                                                         \n",
      "                                                                                                  \n",
      " conv4_block2_add (Add)         (None, 8, 20, 1024)  0           ['conv4_block1_out[0][0]',       \n",
      "                                                                  'conv4_block2_3_bn[0][0]']      \n",
      "                                                                                                  \n",
      " conv4_block2_out (Activation)  (None, 8, 20, 1024)  0           ['conv4_block2_add[0][0]']       \n",
      "                                                                                                  \n",
      " conv4_block3_1_conv (Conv2D)   (None, 8, 20, 256)   262400      ['conv4_block2_out[0][0]']       \n",
      "                                                                                                  \n",
      " conv4_block3_1_bn (BatchNormal  (None, 8, 20, 256)  1024        ['conv4_block3_1_conv[0][0]']    \n",
      " ization)                                                                                         \n",
      "                                                                                                  \n",
      " conv4_block3_1_relu (Activatio  (None, 8, 20, 256)  0           ['conv4_block3_1_bn[0][0]']      \n",
      " n)                                                                                               \n",
      "                                                                                                  \n",
      " conv4_block3_2_conv (Conv2D)   (None, 8, 20, 256)   590080      ['conv4_block3_1_relu[0][0]']    \n",
      "                                                                                                  \n",
      " conv4_block3_2_bn (BatchNormal  (None, 8, 20, 256)  1024        ['conv4_block3_2_conv[0][0]']    \n",
      " ization)                                                                                         \n",
      "                                                                                                  \n",
      " conv4_block3_2_relu (Activatio  (None, 8, 20, 256)  0           ['conv4_block3_2_bn[0][0]']      \n",
      " n)                                                                                               \n",
      "                                                                                                  \n",
      " conv4_block3_3_conv (Conv2D)   (None, 8, 20, 1024)  263168      ['conv4_block3_2_relu[0][0]']    \n",
      "                                                                                                  \n",
      " conv4_block3_3_bn (BatchNormal  (None, 8, 20, 1024)  4096       ['conv4_block3_3_conv[0][0]']    \n",
      " ization)                                                                                         \n",
      "                                                                                                  \n",
      " conv4_block3_add (Add)         (None, 8, 20, 1024)  0           ['conv4_block2_out[0][0]',       \n",
      "                                                                  'conv4_block3_3_bn[0][0]']      \n",
      "                                                                                                  \n",
      " conv4_block3_out (Activation)  (None, 8, 20, 1024)  0           ['conv4_block3_add[0][0]']       \n",
      "                                                                                                  \n",
      " conv4_block4_1_conv (Conv2D)   (None, 8, 20, 256)   262400      ['conv4_block3_out[0][0]']       \n",
      "                                                                                                  \n",
      " conv4_block4_1_bn (BatchNormal  (None, 8, 20, 256)  1024        ['conv4_block4_1_conv[0][0]']    \n",
      " ization)                                                                                         \n",
      "                                                                                                  \n",
      " conv4_block4_1_relu (Activatio  (None, 8, 20, 256)  0           ['conv4_block4_1_bn[0][0]']      \n",
      " n)                                                                                               \n",
      "                                                                                                  \n",
      " conv4_block4_2_conv (Conv2D)   (None, 8, 20, 256)   590080      ['conv4_block4_1_relu[0][0]']    \n",
      "                                                                                                  \n",
      " conv4_block4_2_bn (BatchNormal  (None, 8, 20, 256)  1024        ['conv4_block4_2_conv[0][0]']    \n",
      " ization)                                                                                         \n",
      "                                                                                                  \n",
      " conv4_block4_2_relu (Activatio  (None, 8, 20, 256)  0           ['conv4_block4_2_bn[0][0]']      \n",
      " n)                                                                                               \n",
      "                                                                                                  \n",
      " conv4_block4_3_conv (Conv2D)   (None, 8, 20, 1024)  263168      ['conv4_block4_2_relu[0][0]']    \n",
      "                                                                                                  \n",
      " conv4_block4_3_bn (BatchNormal  (None, 8, 20, 1024)  4096       ['conv4_block4_3_conv[0][0]']    \n",
      " ization)                                                                                         \n",
      "                                                                                                  \n",
      " conv4_block4_add (Add)         (None, 8, 20, 1024)  0           ['conv4_block3_out[0][0]',       \n",
      "                                                                  'conv4_block4_3_bn[0][0]']      \n",
      "                                                                                                  \n",
      " conv4_block4_out (Activation)  (None, 8, 20, 1024)  0           ['conv4_block4_add[0][0]']       \n",
      "                                                                                                  \n",
      " conv4_block5_1_conv (Conv2D)   (None, 8, 20, 256)   262400      ['conv4_block4_out[0][0]']       \n",
      "                                                                                                  \n",
      " conv4_block5_1_bn (BatchNormal  (None, 8, 20, 256)  1024        ['conv4_block5_1_conv[0][0]']    \n",
      " ization)                                                                                         \n",
      "                                                                                                  \n",
      " conv4_block5_1_relu (Activatio  (None, 8, 20, 256)  0           ['conv4_block5_1_bn[0][0]']      \n",
      " n)                                                                                               \n",
      "                                                                                                  \n",
      " conv4_block5_2_conv (Conv2D)   (None, 8, 20, 256)   590080      ['conv4_block5_1_relu[0][0]']    \n",
      "                                                                                                  \n",
      " conv4_block5_2_bn (BatchNormal  (None, 8, 20, 256)  1024        ['conv4_block5_2_conv[0][0]']    \n",
      " ization)                                                                                         \n",
      "                                                                                                  \n",
      " conv4_block5_2_relu (Activatio  (None, 8, 20, 256)  0           ['conv4_block5_2_bn[0][0]']      \n",
      " n)                                                                                               \n",
      "                                                                                                  \n",
      " conv4_block5_3_conv (Conv2D)   (None, 8, 20, 1024)  263168      ['conv4_block5_2_relu[0][0]']    \n",
      "                                                                                                  \n",
      " conv4_block5_3_bn (BatchNormal  (None, 8, 20, 1024)  4096       ['conv4_block5_3_conv[0][0]']    \n",
      " ization)                                                                                         \n",
      "                                                                                                  \n",
      " conv4_block5_add (Add)         (None, 8, 20, 1024)  0           ['conv4_block4_out[0][0]',       \n",
      "                                                                  'conv4_block5_3_bn[0][0]']      \n",
      "                                                                                                  \n",
      " conv4_block5_out (Activation)  (None, 8, 20, 1024)  0           ['conv4_block5_add[0][0]']       \n",
      "                                                                                                  \n",
      " conv4_block6_1_conv (Conv2D)   (None, 8, 20, 256)   262400      ['conv4_block5_out[0][0]']       \n",
      "                                                                                                  \n",
      " conv4_block6_1_bn (BatchNormal  (None, 8, 20, 256)  1024        ['conv4_block6_1_conv[0][0]']    \n",
      " ization)                                                                                         \n",
      "                                                                                                  \n",
      " conv4_block6_1_relu (Activatio  (None, 8, 20, 256)  0           ['conv4_block6_1_bn[0][0]']      \n",
      " n)                                                                                               \n",
      "                                                                                                  \n",
      " conv4_block6_2_conv (Conv2D)   (None, 8, 20, 256)   590080      ['conv4_block6_1_relu[0][0]']    \n",
      "                                                                                                  \n",
      " conv4_block6_2_bn (BatchNormal  (None, 8, 20, 256)  1024        ['conv4_block6_2_conv[0][0]']    \n",
      " ization)                                                                                         \n",
      "                                                                                                  \n",
      " conv4_block6_2_relu (Activatio  (None, 8, 20, 256)  0           ['conv4_block6_2_bn[0][0]']      \n",
      " n)                                                                                               \n",
      "                                                                                                  \n",
      " conv4_block6_3_conv (Conv2D)   (None, 8, 20, 1024)  263168      ['conv4_block6_2_relu[0][0]']    \n",
      "                                                                                                  \n",
      " conv4_block6_3_bn (BatchNormal  (None, 8, 20, 1024)  4096       ['conv4_block6_3_conv[0][0]']    \n",
      " ization)                                                                                         \n",
      "                                                                                                  \n",
      " conv4_block6_add (Add)         (None, 8, 20, 1024)  0           ['conv4_block5_out[0][0]',       \n",
      "                                                                  'conv4_block6_3_bn[0][0]']      \n",
      "                                                                                                  \n",
      " conv4_block6_out (Activation)  (None, 8, 20, 1024)  0           ['conv4_block6_add[0][0]']       \n",
      "                                                                                                  \n",
      " conv5_block1_1_conv (Conv2D)   (None, 4, 10, 512)   524800      ['conv4_block6_out[0][0]']       \n",
      "                                                                                                  \n",
      " conv5_block1_1_bn (BatchNormal  (None, 4, 10, 512)  2048        ['conv5_block1_1_conv[0][0]']    \n",
      " ization)                                                                                         \n",
      "                                                                                                  \n",
      " conv5_block1_1_relu (Activatio  (None, 4, 10, 512)  0           ['conv5_block1_1_bn[0][0]']      \n",
      " n)                                                                                               \n",
      "                                                                                                  \n",
      " conv5_block1_2_conv (Conv2D)   (None, 4, 10, 512)   2359808     ['conv5_block1_1_relu[0][0]']    \n",
      "                                                                                                  \n",
      " conv5_block1_2_bn (BatchNormal  (None, 4, 10, 512)  2048        ['conv5_block1_2_conv[0][0]']    \n",
      " ization)                                                                                         \n",
      "                                                                                                  \n",
      " conv5_block1_2_relu (Activatio  (None, 4, 10, 512)  0           ['conv5_block1_2_bn[0][0]']      \n",
      " n)                                                                                               \n",
      "                                                                                                  \n",
      " conv5_block1_0_conv (Conv2D)   (None, 4, 10, 2048)  2099200     ['conv4_block6_out[0][0]']       \n",
      "                                                                                                  \n",
      " conv5_block1_3_conv (Conv2D)   (None, 4, 10, 2048)  1050624     ['conv5_block1_2_relu[0][0]']    \n",
      "                                                                                                  \n",
      " conv5_block1_0_bn (BatchNormal  (None, 4, 10, 2048)  8192       ['conv5_block1_0_conv[0][0]']    \n",
      " ization)                                                                                         \n",
      "                                                                                                  \n",
      " conv5_block1_3_bn (BatchNormal  (None, 4, 10, 2048)  8192       ['conv5_block1_3_conv[0][0]']    \n",
      " ization)                                                                                         \n",
      "                                                                                                  \n",
      " conv5_block1_add (Add)         (None, 4, 10, 2048)  0           ['conv5_block1_0_bn[0][0]',      \n",
      "                                                                  'conv5_block1_3_bn[0][0]']      \n",
      "                                                                                                  \n",
      " conv5_block1_out (Activation)  (None, 4, 10, 2048)  0           ['conv5_block1_add[0][0]']       \n",
      "                                                                                                  \n",
      " conv5_block2_1_conv (Conv2D)   (None, 4, 10, 512)   1049088     ['conv5_block1_out[0][0]']       \n",
      "                                                                                                  \n",
      " conv5_block2_1_bn (BatchNormal  (None, 4, 10, 512)  2048        ['conv5_block2_1_conv[0][0]']    \n",
      " ization)                                                                                         \n",
      "                                                                                                  \n",
      " conv5_block2_1_relu (Activatio  (None, 4, 10, 512)  0           ['conv5_block2_1_bn[0][0]']      \n",
      " n)                                                                                               \n",
      "                                                                                                  \n",
      " conv5_block2_2_conv (Conv2D)   (None, 4, 10, 512)   2359808     ['conv5_block2_1_relu[0][0]']    \n",
      "                                                                                                  \n",
      " conv5_block2_2_bn (BatchNormal  (None, 4, 10, 512)  2048        ['conv5_block2_2_conv[0][0]']    \n",
      " ization)                                                                                         \n",
      "                                                                                                  \n",
      " conv5_block2_2_relu (Activatio  (None, 4, 10, 512)  0           ['conv5_block2_2_bn[0][0]']      \n",
      " n)                                                                                               \n",
      "                                                                                                  \n",
      " conv5_block2_3_conv (Conv2D)   (None, 4, 10, 2048)  1050624     ['conv5_block2_2_relu[0][0]']    \n",
      "                                                                                                  \n",
      " conv5_block2_3_bn (BatchNormal  (None, 4, 10, 2048)  8192       ['conv5_block2_3_conv[0][0]']    \n",
      " ization)                                                                                         \n",
      "                                                                                                  \n",
      " conv5_block2_add (Add)         (None, 4, 10, 2048)  0           ['conv5_block1_out[0][0]',       \n",
      "                                                                  'conv5_block2_3_bn[0][0]']      \n",
      "                                                                                                  \n",
      " conv5_block2_out (Activation)  (None, 4, 10, 2048)  0           ['conv5_block2_add[0][0]']       \n",
      "                                                                                                  \n",
      " conv5_block3_1_conv (Conv2D)   (None, 4, 10, 512)   1049088     ['conv5_block2_out[0][0]']       \n",
      "                                                                                                  \n",
      " conv5_block3_1_bn (BatchNormal  (None, 4, 10, 512)  2048        ['conv5_block3_1_conv[0][0]']    \n",
      " ization)                                                                                         \n",
      "                                                                                                  \n",
      " conv5_block3_1_relu (Activatio  (None, 4, 10, 512)  0           ['conv5_block3_1_bn[0][0]']      \n",
      " n)                                                                                               \n",
      "                                                                                                  \n",
      " conv5_block3_2_conv (Conv2D)   (None, 4, 10, 512)   2359808     ['conv5_block3_1_relu[0][0]']    \n",
      "                                                                                                  \n",
      " conv5_block3_2_bn (BatchNormal  (None, 4, 10, 512)  2048        ['conv5_block3_2_conv[0][0]']    \n",
      " ization)                                                                                         \n",
      "                                                                                                  \n",
      " conv5_block3_2_relu (Activatio  (None, 4, 10, 512)  0           ['conv5_block3_2_bn[0][0]']      \n",
      " n)                                                                                               \n",
      "                                                                                                  \n",
      " conv5_block3_3_conv (Conv2D)   (None, 4, 10, 2048)  1050624     ['conv5_block3_2_relu[0][0]']    \n",
      "                                                                                                  \n",
      " conv5_block3_3_bn (BatchNormal  (None, 4, 10, 2048)  8192       ['conv5_block3_3_conv[0][0]']    \n",
      " ization)                                                                                         \n",
      "                                                                                                  \n",
      " conv5_block3_add (Add)         (None, 4, 10, 2048)  0           ['conv5_block2_out[0][0]',       \n",
      "                                                                  'conv5_block3_3_bn[0][0]']      \n",
      "                                                                                                  \n",
      " conv5_block3_out (Activation)  (None, 4, 10, 2048)  0           ['conv5_block3_add[0][0]']       \n",
      "                                                                                                  \n",
      "==================================================================================================\n",
      "Total params: 23,587,712\n",
      "Trainable params: 0\n",
      "Non-trainable params: 23,587,712\n",
      "__________________________________________________________________________________________________\n"
     ]
    }
   ],
   "source": [
    "base_model.summary()"
   ]
  },
  {
   "cell_type": "code",
   "execution_count": 13,
   "metadata": {},
   "outputs": [
    {
     "data": {
      "text/plain": [
       "175"
      ]
     },
     "execution_count": 13,
     "metadata": {},
     "output_type": "execute_result"
    }
   ],
   "source": [
    "len(base_model.layers)"
   ]
  },
  {
   "cell_type": "code",
   "execution_count": 14,
   "metadata": {},
   "outputs": [
    {
     "name": "stdout",
     "output_type": "stream",
     "text": [
      "140\n"
     ]
    }
   ],
   "source": [
    "# 동결 layer 비율: 20%\n",
    "ratio = round(len(base_model.layers) * 0.2)\n",
    "flag = len(base_model.layers) - ratio\n",
    "print(flag)"
   ]
  },
  {
   "cell_type": "code",
   "execution_count": 15,
   "metadata": {},
   "outputs": [
    {
     "name": "stdout",
     "output_type": "stream",
     "text": [
      "conv4_block6_1_relu False\n",
      "conv4_block6_2_conv False\n",
      "conv4_block6_2_bn False\n",
      "conv4_block6_2_relu False\n",
      "conv4_block6_3_conv False\n",
      "conv4_block6_3_bn True\n",
      "conv4_block6_add True\n",
      "conv4_block6_out True\n",
      "conv5_block1_1_conv True\n",
      "conv5_block1_1_bn True\n"
     ]
    }
   ],
   "source": [
    "base_model.trainable = True\t\t# resnet 모델 학습동결을 해제한다\n",
    "for i in base_model.layers[:flag]:\t# 140층까지 레이어를 불러서, \n",
    "  i.trainable = False\t\t\t\t# 이전까지의 학습은 동결한다.\n",
    "  \n",
    "for i in base_model.layers[135:145]:\t# 동결이 제대로 해제됐는지 약간 이전층부터 출력해본다.\n",
    "  print(i.name, i.trainable)"
   ]
  },
  {
   "cell_type": "code",
   "execution_count": 16,
   "metadata": {},
   "outputs": [
    {
     "name": "stdout",
     "output_type": "stream",
     "text": [
      "Model: \"P_T_resnet50_model\"\n",
      "_________________________________________________________________\n",
      " Layer (type)                Output Shape              Param #   \n",
      "=================================================================\n",
      " input_2 (InputLayer)        [(None, 128, 311, 1)]     0         \n",
      "                                                                 \n",
      " conv2d (Conv2D)             (None, 128, 311, 3)       6         \n",
      "                                                                 \n",
      " resnet50 (Functional)       (None, 4, 10, 2048)       23587712  \n",
      "                                                                 \n",
      " flatten (Flatten)           (None, 81920)             0         \n",
      "                                                                 \n",
      " dense (Dense)               (None, 8)                 655368    \n",
      "                                                                 \n",
      "=================================================================\n",
      "Total params: 24,243,086\n",
      "Trainable params: 15,633,422\n",
      "Non-trainable params: 8,609,664\n",
      "_________________________________________________________________\n"
     ]
    }
   ],
   "source": [
    "model.compile(loss=\"sparse_categorical_crossentropy\", \n",
    "              optimizer=tf.keras.optimizers.Adam(learning_rate= 0.001), \n",
    "              metrics=['accuracy'])\n",
    "\n",
    "early = tf.keras.callbacks.EarlyStopping(monitor='val_loss', patience=3)\n",
    "\n",
    "model.summary()\n",
    "\n",
    "# model_res.summary() 결과, 맨 아래쪽 Trainable params의 수치가 눈에 띄게 늘어난 것을 볼 수 있다."
   ]
  },
  {
   "cell_type": "code",
   "execution_count": 17,
   "metadata": {},
   "outputs": [
    {
     "name": "stdout",
     "output_type": "stream",
     "text": [
      "Epoch 1/15\n",
      "4/4 [==============================] - 9s 1s/step - loss: 28.2740 - accuracy: 0.5022 - val_loss: 19.0181 - val_accuracy: 0.2478\n",
      "Epoch 2/15\n",
      "4/4 [==============================] - 2s 553ms/step - loss: 13.3967 - accuracy: 0.3026 - val_loss: 4.5017 - val_accuracy: 0.2655\n",
      "Epoch 3/15\n",
      "4/4 [==============================] - 2s 559ms/step - loss: 3.8246 - accuracy: 0.5921 - val_loss: 1.1734 - val_accuracy: 0.6283\n",
      "Epoch 4/15\n",
      "4/4 [==============================] - 2s 545ms/step - loss: 0.8277 - accuracy: 0.7851 - val_loss: 0.2654 - val_accuracy: 0.8761\n",
      "Epoch 5/15\n",
      "4/4 [==============================] - 2s 554ms/step - loss: 0.1120 - accuracy: 0.9496 - val_loss: 0.0366 - val_accuracy: 0.9912\n",
      "Epoch 6/15\n",
      "4/4 [==============================] - 2s 564ms/step - loss: 0.0548 - accuracy: 0.9825 - val_loss: 0.0033 - val_accuracy: 1.0000\n",
      "Epoch 7/15\n",
      "4/4 [==============================] - 2s 555ms/step - loss: 0.0308 - accuracy: 0.9803 - val_loss: 0.0021 - val_accuracy: 1.0000\n",
      "Epoch 8/15\n",
      "4/4 [==============================] - 2s 554ms/step - loss: 0.0153 - accuracy: 0.9934 - val_loss: 1.9954e-04 - val_accuracy: 1.0000\n",
      "Epoch 9/15\n",
      "4/4 [==============================] - 2s 553ms/step - loss: 0.0085 - accuracy: 0.9978 - val_loss: 4.8573e-04 - val_accuracy: 1.0000\n",
      "Epoch 10/15\n",
      "4/4 [==============================] - 2s 549ms/step - loss: 0.0067 - accuracy: 0.9978 - val_loss: 2.0667e-04 - val_accuracy: 1.0000\n",
      "Epoch 11/15\n",
      "4/4 [==============================] - 2s 557ms/step - loss: 0.0019 - accuracy: 1.0000 - val_loss: 8.8752e-04 - val_accuracy: 1.0000\n"
     ]
    }
   ],
   "source": [
    "hist_fine = model.fit(x_train_shuffle, y_train_shuffle,\n",
    "                      validation_data = (x_test, y_test),\n",
    "                      epochs = 15,\n",
    "                      batch_size = 128,\n",
    "                      verbose = 1,\n",
    "                      callbacks=[early])"
   ]
  },
  {
   "cell_type": "markdown",
   "metadata": {},
   "source": [
    "## 전이학습 모델의 구조만 가져와서 학습"
   ]
  },
  {
   "cell_type": "code",
   "execution_count": 18,
   "metadata": {},
   "outputs": [],
   "source": [
    "base_model_noWeight = tf.keras.applications.ResNet50(include_top=False, pooling = 'avg' , input_shape = (128, 311, 3), weights = None)\n",
    "\n",
    "base_model_noWeight.trainable =True"
   ]
  },
  {
   "cell_type": "code",
   "execution_count": 19,
   "metadata": {},
   "outputs": [],
   "source": [
    "# ResNet50 입력을 변환하여 모델 설계\n",
    "# inputs = Input((28, 28, 1))\n",
    "# resized_x = tf.keras.layers.experimental.preprocessing.Resizing(32, 32)(inputs)\n",
    "# first_conv_layer = Conv2D(3, 1, padding='same', activation=None)(resized_x)\n",
    "\n",
    "inputs = Input((128, 311, 1))\n",
    "first_conv_layer = Conv2D(3, 1, padding='same', activation=None)(inputs)\n",
    "\n",
    "x = base_model_noWeight(first_conv_layer, training = False)\n",
    "x = Flatten()(x)\n",
    "outputs = Dense(8, activation = 'softmax')(x)\n",
    "\n",
    "model = tf.keras.Model(inputs, outputs, name=\"Scratch_resnet50_model\")"
   ]
  },
  {
   "cell_type": "code",
   "execution_count": 20,
   "metadata": {},
   "outputs": [
    {
     "name": "stdout",
     "output_type": "stream",
     "text": [
      "Model: \"Scratch_resnet50_model\"\n",
      "_________________________________________________________________\n",
      " Layer (type)                Output Shape              Param #   \n",
      "=================================================================\n",
      " input_4 (InputLayer)        [(None, 128, 311, 1)]     0         \n",
      "                                                                 \n",
      " conv2d_1 (Conv2D)           (None, 128, 311, 3)       6         \n",
      "                                                                 \n",
      " resnet50 (Functional)       (None, 2048)              23587712  \n",
      "                                                                 \n",
      " flatten_1 (Flatten)         (None, 2048)              0         \n",
      "                                                                 \n",
      " dense_1 (Dense)             (None, 8)                 16392     \n",
      "                                                                 \n",
      "=================================================================\n",
      "Total params: 23,604,110\n",
      "Trainable params: 23,550,990\n",
      "Non-trainable params: 53,120\n",
      "_________________________________________________________________\n"
     ]
    }
   ],
   "source": [
    "model.compile(loss=\"sparse_categorical_crossentropy\", \n",
    "              optimizer=tf.keras.optimizers.Adam(learning_rate= 0.001), \n",
    "              metrics=['accuracy'])\n",
    "\n",
    "early = tf.keras.callbacks.EarlyStopping(monitor='val_loss', patience=5)\n",
    "\n",
    "model.summary()\n",
    "\n",
    "# model_res.summary() 결과, 맨 아래쪽 Trainable params의 수치가 눈에 띄게 늘어난 것을 볼 수 있다."
   ]
  },
  {
   "cell_type": "code",
   "execution_count": 21,
   "metadata": {},
   "outputs": [
    {
     "name": "stdout",
     "output_type": "stream",
     "text": [
      "Epoch 1/30\n",
      "4/4 [==============================] - 13s 1s/step - loss: 69.5301 - accuracy: 0.0833 - val_loss: 2.7652 - val_accuracy: 0.1327\n",
      "Epoch 2/30\n",
      "4/4 [==============================] - 3s 672ms/step - loss: 2.3081 - accuracy: 0.1425 - val_loss: 2.0646 - val_accuracy: 0.1327\n",
      "Epoch 3/30\n",
      "4/4 [==============================] - 3s 681ms/step - loss: 2.0791 - accuracy: 0.1053 - val_loss: 2.0603 - val_accuracy: 0.1327\n",
      "Epoch 4/30\n",
      "4/4 [==============================] - 3s 678ms/step - loss: 2.0730 - accuracy: 0.1316 - val_loss: 2.0472 - val_accuracy: 0.1327\n",
      "Epoch 5/30\n",
      "4/4 [==============================] - 3s 678ms/step - loss: 2.0421 - accuracy: 0.1272 - val_loss: 2.0335 - val_accuracy: 0.1239\n",
      "Epoch 6/30\n",
      "4/4 [==============================] - 3s 674ms/step - loss: 2.0406 - accuracy: 0.1228 - val_loss: 1.9971 - val_accuracy: 0.1327\n",
      "Epoch 7/30\n",
      "4/4 [==============================] - 3s 675ms/step - loss: 1.9892 - accuracy: 0.2149 - val_loss: 1.9398 - val_accuracy: 0.1239\n",
      "Epoch 8/30\n",
      "4/4 [==============================] - 3s 672ms/step - loss: 1.9086 - accuracy: 0.1996 - val_loss: 2.1061 - val_accuracy: 0.1327\n",
      "Epoch 9/30\n",
      "4/4 [==============================] - 3s 676ms/step - loss: 1.9339 - accuracy: 0.2127 - val_loss: 1.6366 - val_accuracy: 0.2566\n",
      "Epoch 10/30\n",
      "4/4 [==============================] - 3s 670ms/step - loss: 2.6969 - accuracy: 0.1776 - val_loss: 2.4460 - val_accuracy: 0.1327\n",
      "Epoch 11/30\n",
      "4/4 [==============================] - 3s 675ms/step - loss: 2.1557 - accuracy: 0.1184 - val_loss: 2.0665 - val_accuracy: 0.1239\n",
      "Epoch 12/30\n",
      "4/4 [==============================] - 3s 675ms/step - loss: 2.0589 - accuracy: 0.1535 - val_loss: 2.0198 - val_accuracy: 0.1327\n",
      "Epoch 13/30\n",
      "4/4 [==============================] - 3s 680ms/step - loss: 2.0241 - accuracy: 0.1096 - val_loss: 2.0053 - val_accuracy: 0.1327\n",
      "Epoch 14/30\n",
      "4/4 [==============================] - 3s 671ms/step - loss: 2.0242 - accuracy: 0.1557 - val_loss: 1.9982 - val_accuracy: 0.2566\n"
     ]
    }
   ],
   "source": [
    "hist_scratch = model.fit(x_train_shuffle, y_train_shuffle,\n",
    "                      validation_data = (x_test, y_test),\n",
    "                      epochs = 30,\n",
    "                      batch_size = 128,\n",
    "                      verbose = 1,\n",
    "                      callbacks=[early])"
   ]
  },
  {
   "cell_type": "markdown",
   "metadata": {},
   "source": [
    "## 모델 학습 기록"
   ]
  },
  {
   "cell_type": "code",
   "execution_count": 26,
   "metadata": {},
   "outputs": [
    {
     "data": {
      "image/png": "[encoded data removed]",
      "text/plain": [
       "<Figure size 432x288 with 1 Axes>"
      ]
     },
     "metadata": {
      "needs_background": "light"
     },
     "output_type": "display_data"
    }
   ],
   "source": [
    "# hist의 accuracy plt의 plot을 이용하여 출력하는 코드\n",
    "plt.plot(hist.history['accuracy'], label='Train_accuracy')\n",
    "plt.plot(hist.history['val_accuracy'], label='Test_accuracy')\n",
    "plt.legend(loc='upper left')\n",
    "plt.show()"
   ]
  },
  {
   "cell_type": "code",
   "execution_count": 25,
   "metadata": {},
   "outputs": [
    {
     "data": {
      "image/png": "[encoded data removed]",
      "text/plain": [
       "<Figure size 432x288 with 1 Axes>"
      ]
     },
     "metadata": {
      "needs_background": "light"
     },
     "output_type": "display_data"
    }
   ],
   "source": [
    "# hist의 loss plt의 plot을 이용하여 출력하는 코드\n",
    "plt.plot(hist.history['loss'], label='Train_loss')\n",
    "plt.plot(hist.history['val_loss'], label='Test_loss')\n",
    "plt.legend(loc='upper left')\n",
    "plt.show()"
   ]
  },
  {
   "cell_type": "code",
   "execution_count": 27,
   "metadata": {},
   "outputs": [
    {
     "data": {
      "image/png": "[encoded data removed]",
      "text/plain": [
       "<Figure size 432x288 with 1 Axes>"
      ]
     },
     "metadata": {
      "needs_background": "light"
     },
     "output_type": "display_data"
    }
   ],
   "source": [
    "# hist_fine의 accuracy plt의 plot을 이용하여 출력하는 코드\n",
    "plt.plot(hist_fine.history['accuracy'], label='Train_accuracy')\n",
    "plt.plot(hist_fine.history['val_accuracy'], label='Test_accuracy')\n",
    "plt.legend(loc='upper left')\n",
    "plt.show()"
   ]
  },
  {
   "cell_type": "code",
   "execution_count": 28,
   "metadata": {},
   "outputs": [
    {
     "data": {
      "image/png": "[encoded data removed]",
      "text/plain": [
       "<Figure size 432x288 with 1 Axes>"
      ]
     },
     "metadata": {
      "needs_background": "light"
     },
     "output_type": "display_data"
    }
   ],
   "source": [
    "# hist_fine의 loss plt의 plot을 이용하여 출력하는 코드\n",
    "plt.plot(hist_fine.history['loss'], label='Train_loss')\n",
    "plt.plot(hist_fine.history['val_loss'], label='Test_loss')\n",
    "plt.legend(loc='upper left')\n",
    "plt.show()"
   ]
  },
  {
   "cell_type": "code",
   "execution_count": 30,
   "metadata": {},
   "outputs": [
    {
     "data": {
      "image/png": "[encoded data removed]",
      "text/plain": [
       "<Figure size 432x288 with 1 Axes>"
      ]
     },
     "metadata": {
      "needs_background": "light"
     },
     "output_type": "display_data"
    }
   ],
   "source": [
    "# hist_scratch의 accuracy plt의 plot을 이용하여 출력하는 코드\n",
    "plt.plot(hist_scratch.history['accuracy'], label='Train_accuracy')\n",
    "plt.plot(hist_scratch.history['val_accuracy'], label='Test_accuracy')\n",
    "plt.legend(loc='upper left')\n",
    "plt.show()"
   ]
  },
  {
   "cell_type": "code",
   "execution_count": 29,
   "metadata": {},
   "outputs": [
    {
     "data": {
      "image/png": "[encoded data removed]",
      "text/plain": [
       "<Figure size 432x288 with 1 Axes>"
      ]
     },
     "metadata": {
      "needs_background": "light"
     },
     "output_type": "display_data"
    }
   ],
   "source": [
    "# hist_scratch의 loss plt의 plot을 이용하여 출력하는 코드\n",
    "plt.plot(hist_scratch.history['loss'], label='Train_loss')\n",
    "plt.plot(hist_scratch.history['val_loss'], label='Test_loss')\n",
    "plt.legend(loc='upper left')\n",
    "plt.show()"
   ]
  },
  {
   "cell_type": "code",
   "execution_count": null,
   "metadata": {},
   "outputs": [],
   "source": [
    "# 모델을 저장하는 코드\n",
    "# model.save('./P_T_resnet50_scratch_model.h5')"
   ]
  }
 ],
 "metadata": {
  "interpreter": {
   "hash": "20ea11077b4d33ea95f1fd00e03a9e40cb7cbf4ddc1b9ea71cbe1fbfe5e5187e"
  },
  "kernelspec": {
   "display_name": "Python 3.8.12 ('tf_py38')",
   "language": "python",
   "name": "python3"
  },
  "language_info": {
   "codemirror_mode": {
    "name": "ipython",
    "version": 3
   },
   "file_extension": ".py",
   "mimetype": "text/x-python",
   "name": "python",
   "nbconvert_exporter": "python",
   "pygments_lexer": "ipython3",
   "version": "3.8.12"
  },
  "orig_nbformat": 4
 },
 "nbformat": 4,
 "nbformat_minor": 2
}
