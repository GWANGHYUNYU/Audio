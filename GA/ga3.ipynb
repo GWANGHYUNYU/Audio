{
 "cells": [
  {
   "cell_type": "code",
   "execution_count": 1,
   "metadata": {},
   "outputs": [],
   "source": [
    "import tensorflow as tf\n",
    "from tensorflow import keras\n",
    "from keras import utils\n",
    "from keras.models import Sequential, Model\n",
    "from keras.layers import Conv2D, MaxPool2D, Input, Dense, Flatten, Concatenate\n",
    "from keras.callbacks import ModelCheckpoint\n",
    "\n",
    "import pandas as pd\n",
    "import numpy as np\n",
    "import matplotlib.pyplot as plt\n",
    "import seaborn as sns\n",
    "import warnings \n",
    "from IPython.display import Image\n",
    "\n",
    "import os"
   ]
  },
  {
   "cell_type": "code",
   "execution_count": 2,
   "metadata": {},
   "outputs": [],
   "source": [
    "np.random.seed(10)"
   ]
  },
  {
   "cell_type": "code",
   "execution_count": 3,
   "metadata": {},
   "outputs": [
    {
     "name": "stdout",
     "output_type": "stream",
     "text": [
      "(60000, 28, 28)\n",
      "(60000, 10)\n",
      "(10000, 28, 28)\n",
      "(10000, 10)\n"
     ]
    }
   ],
   "source": [
    "fashion_mnist = keras.datasets.fashion_mnist\n",
    "((x_train, y_train), (x_test, y_test)) = fashion_mnist.load_data()\n",
    "\n",
    "x_train, x_test = x_train / 255.0, x_test / 255.0\n",
    "y_train = tf.keras.utils.to_categorical(y_train, 10)\n",
    "y_test = tf.keras.utils.to_categorical(y_test, 10)\n",
    "\n",
    "print(x_train.shape)\n",
    "print(y_train.shape)\n",
    "print(x_test.shape)\n",
    "print(y_test.shape)"
   ]
  },
  {
   "cell_type": "code",
   "execution_count": 9,
   "metadata": {},
   "outputs": [],
   "source": [
    "class Random_Finetune_ResNet50():\n",
    "    def __init__(self, input_shape):\n",
    "\n",
    "        self.fitness = 0\n",
    "        \n",
    "        IMG_SHAPE = input_shape + (3,)\n",
    "        self.base_model = tf.keras.applications.ResNet50(input_shape=IMG_SHAPE, include_top=False, weights='imagenet')\n",
    "        sample_arr = [True, False]\n",
    "        self.bool_arr = np.random.choice(sample_arr, size=len(self.base_model.layers))\n",
    "        self.base_model.trainable = True\n",
    "        for idx, i in enumerate(self.base_model.layers):\n",
    "            i.trainable = self.bool_arr[idx]\n",
    "        \n",
    "    def forward(self, learning_rate=0.001):\n",
    "        inputs = Input((28, 28, 1))\n",
    "        resized_x = tf.keras.layers.experimental.preprocessing.Resizing(32, 32)(inputs)\n",
    "        first_conv_layer = Conv2D(3, 1, padding='same', activation=None)(resized_x)\n",
    "\n",
    "        x = self.base_model(first_conv_layer, training = False)\n",
    "        x = Flatten()(x)\n",
    "        outputs = Dense(10, activation = 'softmax')(x)\n",
    "\n",
    "        model = tf.keras.Model(inputs, outputs, name=\"fashion_mnist_resnet50_model\")\n",
    "\n",
    "        # 'categorical_crossentropy'은 y[0]=[0, 0, 0, 0, 0, 0, 0, 0, 1], y[1, 0, 0, 0, 0, 0, 0, 0, 0]과 같이 one-hot-encoding label일 경우에 사용\n",
    "        model.compile(loss=\"categorical_crossentropy\", \n",
    "        optimizer=tf.keras.optimizers.Adam(learning_rate= learning_rate), \n",
    "        metrics=['accuracy'])\n",
    "        \n",
    "        return model\n",
    "    \n",
    "    def train_model(self, model, train_data, train_targets, validation_data=(x_test, y_test), epochs=20, batch_size=256):\n",
    "    \n",
    "        early = tf.keras.callbacks.EarlyStopping(monitor='val_loss', patience=5)\n",
    "        checkpoint_best_path = 'model_checkpoints_best/checkpoint'\n",
    "        checkpoint_best = ModelCheckpoint(filepath=checkpoint_best_path,\n",
    "                                        save_weights_only=True,\n",
    "                                        save_freq='epoch',\n",
    "                                        monitor='val_accuracy',\n",
    "                                        save_best_only=True,\n",
    "                                        verbose=0)\n",
    "        history = model.fit(train_data, train_targets,\n",
    "                        validation_data = validation_data,\n",
    "                        epochs = epochs,\n",
    "                        batch_size = batch_size,\n",
    "                        verbose = 1,\n",
    "                        callbacks=[early])\n",
    "        return history"
   ]
  },
  {
   "cell_type": "code",
   "execution_count": 5,
   "metadata": {},
   "outputs": [],
   "source": [
    "N_POPULATION = 10\n",
    "N_BEST = 5\n",
    "N_CHILDREN = 5\n",
    "PROB_MUTATION = 0.2"
   ]
  },
  {
   "cell_type": "code",
   "execution_count": 6,
   "metadata": {},
   "outputs": [],
   "source": [
    "genomes = [Random_Finetune_ResNet50((32,32)) for _ in range(N_POPULATION)]\n",
    "best_genomes = None"
   ]
  },
  {
   "cell_type": "code",
   "execution_count": 7,
   "metadata": {},
   "outputs": [
    {
     "data": {
      "text/plain": [
       "False"
      ]
     },
     "execution_count": 7,
     "metadata": {},
     "output_type": "execute_result"
    }
   ],
   "source": [
    "(genomes[0].bool_arr ==genomes[1].bool_arr).all()"
   ]
  },
  {
   "cell_type": "code",
   "execution_count": 10,
   "metadata": {},
   "outputs": [
    {
     "name": "stdout",
     "output_type": "stream",
     "text": [
      "Epoch 1/10\n",
      "235/235 [==============================] - 22s 72ms/step - loss: 0.4187 - accuracy: 0.8509 - val_loss: 0.3448 - val_accuracy: 0.8728\n",
      "Epoch 2/10\n",
      "235/235 [==============================] - 16s 66ms/step - loss: 0.3156 - accuracy: 0.8828 - val_loss: 0.3674 - val_accuracy: 0.8624\n",
      "Epoch 3/10\n",
      "235/235 [==============================] - 16s 66ms/step - loss: 0.3049 - accuracy: 0.8861 - val_loss: 0.3482 - val_accuracy: 0.8692\n",
      "Epoch 4/10\n",
      "235/235 [==============================] - 16s 67ms/step - loss: 0.2958 - accuracy: 0.8881 - val_loss: 0.3562 - val_accuracy: 0.8615\n",
      "Epoch 5/10\n",
      "235/235 [==============================] - 16s 66ms/step - loss: 0.2795 - accuracy: 0.8943 - val_loss: 0.3175 - val_accuracy: 0.8850\n",
      "Epoch 6/10\n",
      "235/235 [==============================] - 16s 66ms/step - loss: 0.2751 - accuracy: 0.8967 - val_loss: 0.2873 - val_accuracy: 0.8960\n",
      "Epoch 7/10\n",
      "235/235 [==============================] - 16s 66ms/step - loss: 0.2642 - accuracy: 0.8998 - val_loss: 0.3195 - val_accuracy: 0.8807\n",
      "Epoch 8/10\n",
      "235/235 [==============================] - 16s 67ms/step - loss: 0.2543 - accuracy: 0.9038 - val_loss: 0.3134 - val_accuracy: 0.8872\n",
      "Epoch 9/10\n",
      "235/235 [==============================] - 16s 66ms/step - loss: 0.2469 - accuracy: 0.9069 - val_loss: 0.2849 - val_accuracy: 0.8935\n",
      "Epoch 10/10\n",
      "235/235 [==============================] - 16s 66ms/step - loss: 0.2361 - accuracy: 0.9114 - val_loss: 0.2889 - val_accuracy: 0.8902\n",
      "Generation #1, Genome #0, Fitness: 0.8960000276565552, Score: 0.28489360213279724\n",
      "Epoch 1/10\n",
      "235/235 [==============================] - 23s 73ms/step - loss: 1.3161 - accuracy: 0.5028 - val_loss: 0.8730 - val_accuracy: 0.6618\n",
      "Epoch 2/10\n",
      "235/235 [==============================] - 16s 67ms/step - loss: 0.6568 - accuracy: 0.7460 - val_loss: 0.9319 - val_accuracy: 0.6430\n",
      "Epoch 3/10\n",
      "235/235 [==============================] - 16s 67ms/step - loss: 0.5805 - accuracy: 0.7771 - val_loss: 0.5139 - val_accuracy: 0.8015\n",
      "Epoch 4/10\n",
      "235/235 [==============================] - 16s 67ms/step - loss: 0.5058 - accuracy: 0.8061 - val_loss: 0.5196 - val_accuracy: 0.8022\n",
      "Epoch 5/10\n",
      "235/235 [==============================] - 15s 65ms/step - loss: 0.4869 - accuracy: 0.8149 - val_loss: 0.5621 - val_accuracy: 0.7905\n",
      "Epoch 6/10\n",
      "235/235 [==============================] - 16s 67ms/step - loss: 0.4427 - accuracy: 0.8333 - val_loss: 0.4612 - val_accuracy: 0.8249\n",
      "Epoch 7/10\n",
      "235/235 [==============================] - 15s 63ms/step - loss: 0.4256 - accuracy: 0.8398 - val_loss: 0.4605 - val_accuracy: 0.8279\n",
      "Epoch 8/10\n",
      "235/235 [==============================] - 15s 63ms/step - loss: 0.3966 - accuracy: 0.8512 - val_loss: 0.4392 - val_accuracy: 0.8397\n",
      "Epoch 9/10\n",
      "235/235 [==============================] - 15s 65ms/step - loss: 0.3838 - accuracy: 0.8554 - val_loss: 0.4494 - val_accuracy: 0.8287\n",
      "Epoch 10/10\n",
      "235/235 [==============================] - 15s 63ms/step - loss: 0.3798 - accuracy: 0.8558 - val_loss: 0.3954 - val_accuracy: 0.8562\n",
      "Generation #1, Genome #1, Fitness: 0.8561999797821045, Score: 0.39536070823669434\n",
      "Epoch 1/10\n",
      "235/235 [==============================] - 21s 70ms/step - loss: 0.4949 - accuracy: 0.8207 - val_loss: 0.4466 - val_accuracy: 0.8340\n",
      "Epoch 2/10\n",
      "235/235 [==============================] - 15s 65ms/step - loss: 0.3881 - accuracy: 0.8534 - val_loss: 0.4578 - val_accuracy: 0.8301\n",
      "Epoch 3/10\n",
      "235/235 [==============================] - 16s 66ms/step - loss: 0.3669 - accuracy: 0.8608 - val_loss: 0.3871 - val_accuracy: 0.8562\n",
      "Epoch 4/10\n",
      "235/235 [==============================] - 15s 66ms/step - loss: 0.3482 - accuracy: 0.8685 - val_loss: 0.3711 - val_accuracy: 0.8630\n",
      "Epoch 5/10\n",
      "235/235 [==============================] - 15s 66ms/step - loss: 0.3367 - accuracy: 0.8743 - val_loss: 0.4286 - val_accuracy: 0.8418\n",
      "Epoch 6/10\n",
      "235/235 [==============================] - 15s 66ms/step - loss: 0.3258 - accuracy: 0.8769 - val_loss: 0.3566 - val_accuracy: 0.8691\n",
      "Epoch 7/10\n",
      "235/235 [==============================] - 15s 65ms/step - loss: 0.3082 - accuracy: 0.8840 - val_loss: 0.3435 - val_accuracy: 0.8732\n",
      "Epoch 8/10\n",
      "235/235 [==============================] - 15s 66ms/step - loss: 0.3013 - accuracy: 0.8867 - val_loss: 0.3214 - val_accuracy: 0.8806\n",
      "Epoch 9/10\n",
      "235/235 [==============================] - 15s 66ms/step - loss: 0.2879 - accuracy: 0.8924 - val_loss: 0.3311 - val_accuracy: 0.8799\n",
      "Epoch 10/10\n",
      "235/235 [==============================] - 16s 67ms/step - loss: 0.2815 - accuracy: 0.8935 - val_loss: 0.3996 - val_accuracy: 0.8518\n",
      "Generation #1, Genome #2, Fitness: 0.8805999755859375, Score: 0.32136738300323486\n",
      "Epoch 1/10\n",
      " 18/235 [=>............................] - ETA: 13s - loss: 1.9823 - accuracy: 0.2793"
     ]
    },
    {
     "ename": "KeyboardInterrupt",
     "evalue": "",
     "output_type": "error",
     "traceback": [
      "\u001b[1;31m---------------------------------------------------------------------------\u001b[0m",
      "\u001b[1;31mKeyboardInterrupt\u001b[0m                         Traceback (most recent call last)",
      "\u001b[1;32md:\\GH\\Audio\\GA\\ga3.ipynb Cell 8'\u001b[0m in \u001b[0;36m<cell line: 3>\u001b[1;34m()\u001b[0m\n\u001b[0;32m      <a href='vscode-notebook-cell:/d%3A/GH/Audio/GA/ga3.ipynb#ch0000013?line=4'>5</a>\u001b[0m   model \u001b[39m=\u001b[39m genome\u001b[39m.\u001b[39mforward(\u001b[39m0.0001\u001b[39m)\n\u001b[0;32m      <a href='vscode-notebook-cell:/d%3A/GH/Audio/GA/ga3.ipynb#ch0000013?line=5'>6</a>\u001b[0m \u001b[39m#   print(genome.bool_arr)\u001b[39;00m\n\u001b[1;32m----> <a href='vscode-notebook-cell:/d%3A/GH/Audio/GA/ga3.ipynb#ch0000013?line=6'>7</a>\u001b[0m   history \u001b[39m=\u001b[39m genome\u001b[39m.\u001b[39;49mtrain_model(model, x_train, y_train, (x_test, y_test), \u001b[39m10\u001b[39;49m, \u001b[39m256\u001b[39;49m)\n\u001b[0;32m      <a href='vscode-notebook-cell:/d%3A/GH/Audio/GA/ga3.ipynb#ch0000013?line=7'>8</a>\u001b[0m   fitness \u001b[39m=\u001b[39m history\u001b[39m.\u001b[39mhistory[\u001b[39m'\u001b[39m\u001b[39mval_accuracy\u001b[39m\u001b[39m'\u001b[39m]\n\u001b[0;32m      <a href='vscode-notebook-cell:/d%3A/GH/Audio/GA/ga3.ipynb#ch0000013?line=8'>9</a>\u001b[0m   score \u001b[39m=\u001b[39m history\u001b[39m.\u001b[39mhistory[\u001b[39m'\u001b[39m\u001b[39mval_loss\u001b[39m\u001b[39m'\u001b[39m]\n",
      "\u001b[1;32md:\\GH\\Audio\\GA\\ga3.ipynb Cell 4'\u001b[0m in \u001b[0;36mRandom_Finetune_ResNet50.train_model\u001b[1;34m(self, model, train_data, train_targets, validation_data, epochs, batch_size)\u001b[0m\n\u001b[0;32m     <a href='vscode-notebook-cell:/d%3A/GH/Audio/GA/ga3.ipynb#ch0000003?line=34'>35</a>\u001b[0m checkpoint_best_path \u001b[39m=\u001b[39m \u001b[39m'\u001b[39m\u001b[39mmodel_checkpoints_best/checkpoint\u001b[39m\u001b[39m'\u001b[39m\n\u001b[0;32m     <a href='vscode-notebook-cell:/d%3A/GH/Audio/GA/ga3.ipynb#ch0000003?line=35'>36</a>\u001b[0m checkpoint_best \u001b[39m=\u001b[39m ModelCheckpoint(filepath\u001b[39m=\u001b[39mcheckpoint_best_path,\n\u001b[0;32m     <a href='vscode-notebook-cell:/d%3A/GH/Audio/GA/ga3.ipynb#ch0000003?line=36'>37</a>\u001b[0m                                 save_weights_only\u001b[39m=\u001b[39m\u001b[39mTrue\u001b[39;00m,\n\u001b[0;32m     <a href='vscode-notebook-cell:/d%3A/GH/Audio/GA/ga3.ipynb#ch0000003?line=37'>38</a>\u001b[0m                                 save_freq\u001b[39m=\u001b[39m\u001b[39m'\u001b[39m\u001b[39mepoch\u001b[39m\u001b[39m'\u001b[39m,\n\u001b[0;32m     <a href='vscode-notebook-cell:/d%3A/GH/Audio/GA/ga3.ipynb#ch0000003?line=38'>39</a>\u001b[0m                                 monitor\u001b[39m=\u001b[39m\u001b[39m'\u001b[39m\u001b[39mval_accuracy\u001b[39m\u001b[39m'\u001b[39m,\n\u001b[0;32m     <a href='vscode-notebook-cell:/d%3A/GH/Audio/GA/ga3.ipynb#ch0000003?line=39'>40</a>\u001b[0m                                 save_best_only\u001b[39m=\u001b[39m\u001b[39mTrue\u001b[39;00m,\n\u001b[0;32m     <a href='vscode-notebook-cell:/d%3A/GH/Audio/GA/ga3.ipynb#ch0000003?line=40'>41</a>\u001b[0m                                 verbose\u001b[39m=\u001b[39m\u001b[39m1\u001b[39m)\n\u001b[1;32m---> <a href='vscode-notebook-cell:/d%3A/GH/Audio/GA/ga3.ipynb#ch0000003?line=41'>42</a>\u001b[0m history \u001b[39m=\u001b[39m model\u001b[39m.\u001b[39;49mfit(train_data, train_targets,\n\u001b[0;32m     <a href='vscode-notebook-cell:/d%3A/GH/Audio/GA/ga3.ipynb#ch0000003?line=42'>43</a>\u001b[0m                 validation_data \u001b[39m=\u001b[39;49m validation_data,\n\u001b[0;32m     <a href='vscode-notebook-cell:/d%3A/GH/Audio/GA/ga3.ipynb#ch0000003?line=43'>44</a>\u001b[0m                 epochs \u001b[39m=\u001b[39;49m epochs,\n\u001b[0;32m     <a href='vscode-notebook-cell:/d%3A/GH/Audio/GA/ga3.ipynb#ch0000003?line=44'>45</a>\u001b[0m                 batch_size \u001b[39m=\u001b[39;49m batch_size,\n\u001b[0;32m     <a href='vscode-notebook-cell:/d%3A/GH/Audio/GA/ga3.ipynb#ch0000003?line=45'>46</a>\u001b[0m                 verbose \u001b[39m=\u001b[39;49m \u001b[39m1\u001b[39;49m,\n\u001b[0;32m     <a href='vscode-notebook-cell:/d%3A/GH/Audio/GA/ga3.ipynb#ch0000003?line=46'>47</a>\u001b[0m                 callbacks\u001b[39m=\u001b[39;49m[early])\n\u001b[0;32m     <a href='vscode-notebook-cell:/d%3A/GH/Audio/GA/ga3.ipynb#ch0000003?line=47'>48</a>\u001b[0m \u001b[39mreturn\u001b[39;00m history\n",
      "File \u001b[1;32m~\\anaconda3\\envs\\tf_py38\\lib\\site-packages\\keras\\utils\\traceback_utils.py:64\u001b[0m, in \u001b[0;36mfilter_traceback.<locals>.error_handler\u001b[1;34m(*args, **kwargs)\u001b[0m\n\u001b[0;32m     <a href='file:///c%3A/Users/angel/anaconda3/envs/tf_py38/lib/site-packages/keras/utils/traceback_utils.py?line=61'>62</a>\u001b[0m filtered_tb \u001b[39m=\u001b[39m \u001b[39mNone\u001b[39;00m\n\u001b[0;32m     <a href='file:///c%3A/Users/angel/anaconda3/envs/tf_py38/lib/site-packages/keras/utils/traceback_utils.py?line=62'>63</a>\u001b[0m \u001b[39mtry\u001b[39;00m:\n\u001b[1;32m---> <a href='file:///c%3A/Users/angel/anaconda3/envs/tf_py38/lib/site-packages/keras/utils/traceback_utils.py?line=63'>64</a>\u001b[0m   \u001b[39mreturn\u001b[39;00m fn(\u001b[39m*\u001b[39;49margs, \u001b[39m*\u001b[39;49m\u001b[39m*\u001b[39;49mkwargs)\n\u001b[0;32m     <a href='file:///c%3A/Users/angel/anaconda3/envs/tf_py38/lib/site-packages/keras/utils/traceback_utils.py?line=64'>65</a>\u001b[0m \u001b[39mexcept\u001b[39;00m \u001b[39mException\u001b[39;00m \u001b[39mas\u001b[39;00m e:  \u001b[39m# pylint: disable=broad-except\u001b[39;00m\n\u001b[0;32m     <a href='file:///c%3A/Users/angel/anaconda3/envs/tf_py38/lib/site-packages/keras/utils/traceback_utils.py?line=65'>66</a>\u001b[0m   filtered_tb \u001b[39m=\u001b[39m _process_traceback_frames(e\u001b[39m.\u001b[39m__traceback__)\n",
      "File \u001b[1;32m~\\anaconda3\\envs\\tf_py38\\lib\\site-packages\\keras\\engine\\training.py:1384\u001b[0m, in \u001b[0;36mModel.fit\u001b[1;34m(self, x, y, batch_size, epochs, verbose, callbacks, validation_split, validation_data, shuffle, class_weight, sample_weight, initial_epoch, steps_per_epoch, validation_steps, validation_batch_size, validation_freq, max_queue_size, workers, use_multiprocessing)\u001b[0m\n\u001b[0;32m   <a href='file:///c%3A/Users/angel/anaconda3/envs/tf_py38/lib/site-packages/keras/engine/training.py?line=1376'>1377</a>\u001b[0m \u001b[39mwith\u001b[39;00m tf\u001b[39m.\u001b[39mprofiler\u001b[39m.\u001b[39mexperimental\u001b[39m.\u001b[39mTrace(\n\u001b[0;32m   <a href='file:///c%3A/Users/angel/anaconda3/envs/tf_py38/lib/site-packages/keras/engine/training.py?line=1377'>1378</a>\u001b[0m     \u001b[39m'\u001b[39m\u001b[39mtrain\u001b[39m\u001b[39m'\u001b[39m,\n\u001b[0;32m   <a href='file:///c%3A/Users/angel/anaconda3/envs/tf_py38/lib/site-packages/keras/engine/training.py?line=1378'>1379</a>\u001b[0m     epoch_num\u001b[39m=\u001b[39mepoch,\n\u001b[0;32m   <a href='file:///c%3A/Users/angel/anaconda3/envs/tf_py38/lib/site-packages/keras/engine/training.py?line=1379'>1380</a>\u001b[0m     step_num\u001b[39m=\u001b[39mstep,\n\u001b[0;32m   <a href='file:///c%3A/Users/angel/anaconda3/envs/tf_py38/lib/site-packages/keras/engine/training.py?line=1380'>1381</a>\u001b[0m     batch_size\u001b[39m=\u001b[39mbatch_size,\n\u001b[0;32m   <a href='file:///c%3A/Users/angel/anaconda3/envs/tf_py38/lib/site-packages/keras/engine/training.py?line=1381'>1382</a>\u001b[0m     _r\u001b[39m=\u001b[39m\u001b[39m1\u001b[39m):\n\u001b[0;32m   <a href='file:///c%3A/Users/angel/anaconda3/envs/tf_py38/lib/site-packages/keras/engine/training.py?line=1382'>1383</a>\u001b[0m   callbacks\u001b[39m.\u001b[39mon_train_batch_begin(step)\n\u001b[1;32m-> <a href='file:///c%3A/Users/angel/anaconda3/envs/tf_py38/lib/site-packages/keras/engine/training.py?line=1383'>1384</a>\u001b[0m   tmp_logs \u001b[39m=\u001b[39m \u001b[39mself\u001b[39;49m\u001b[39m.\u001b[39;49mtrain_function(iterator)\n\u001b[0;32m   <a href='file:///c%3A/Users/angel/anaconda3/envs/tf_py38/lib/site-packages/keras/engine/training.py?line=1384'>1385</a>\u001b[0m   \u001b[39mif\u001b[39;00m data_handler\u001b[39m.\u001b[39mshould_sync:\n\u001b[0;32m   <a href='file:///c%3A/Users/angel/anaconda3/envs/tf_py38/lib/site-packages/keras/engine/training.py?line=1385'>1386</a>\u001b[0m     context\u001b[39m.\u001b[39masync_wait()\n",
      "File \u001b[1;32m~\\anaconda3\\envs\\tf_py38\\lib\\site-packages\\tensorflow\\python\\util\\traceback_utils.py:150\u001b[0m, in \u001b[0;36mfilter_traceback.<locals>.error_handler\u001b[1;34m(*args, **kwargs)\u001b[0m\n\u001b[0;32m    <a href='file:///c%3A/Users/angel/anaconda3/envs/tf_py38/lib/site-packages/tensorflow/python/util/traceback_utils.py?line=147'>148</a>\u001b[0m filtered_tb \u001b[39m=\u001b[39m \u001b[39mNone\u001b[39;00m\n\u001b[0;32m    <a href='file:///c%3A/Users/angel/anaconda3/envs/tf_py38/lib/site-packages/tensorflow/python/util/traceback_utils.py?line=148'>149</a>\u001b[0m \u001b[39mtry\u001b[39;00m:\n\u001b[1;32m--> <a href='file:///c%3A/Users/angel/anaconda3/envs/tf_py38/lib/site-packages/tensorflow/python/util/traceback_utils.py?line=149'>150</a>\u001b[0m   \u001b[39mreturn\u001b[39;00m fn(\u001b[39m*\u001b[39;49margs, \u001b[39m*\u001b[39;49m\u001b[39m*\u001b[39;49mkwargs)\n\u001b[0;32m    <a href='file:///c%3A/Users/angel/anaconda3/envs/tf_py38/lib/site-packages/tensorflow/python/util/traceback_utils.py?line=150'>151</a>\u001b[0m \u001b[39mexcept\u001b[39;00m \u001b[39mException\u001b[39;00m \u001b[39mas\u001b[39;00m e:\n\u001b[0;32m    <a href='file:///c%3A/Users/angel/anaconda3/envs/tf_py38/lib/site-packages/tensorflow/python/util/traceback_utils.py?line=151'>152</a>\u001b[0m   filtered_tb \u001b[39m=\u001b[39m _process_traceback_frames(e\u001b[39m.\u001b[39m__traceback__)\n",
      "File \u001b[1;32m~\\anaconda3\\envs\\tf_py38\\lib\\site-packages\\tensorflow\\python\\eager\\def_function.py:915\u001b[0m, in \u001b[0;36mFunction.__call__\u001b[1;34m(self, *args, **kwds)\u001b[0m\n\u001b[0;32m    <a href='file:///c%3A/Users/angel/anaconda3/envs/tf_py38/lib/site-packages/tensorflow/python/eager/def_function.py?line=911'>912</a>\u001b[0m compiler \u001b[39m=\u001b[39m \u001b[39m\"\u001b[39m\u001b[39mxla\u001b[39m\u001b[39m\"\u001b[39m \u001b[39mif\u001b[39;00m \u001b[39mself\u001b[39m\u001b[39m.\u001b[39m_jit_compile \u001b[39melse\u001b[39;00m \u001b[39m\"\u001b[39m\u001b[39mnonXla\u001b[39m\u001b[39m\"\u001b[39m\n\u001b[0;32m    <a href='file:///c%3A/Users/angel/anaconda3/envs/tf_py38/lib/site-packages/tensorflow/python/eager/def_function.py?line=913'>914</a>\u001b[0m \u001b[39mwith\u001b[39;00m OptionalXlaContext(\u001b[39mself\u001b[39m\u001b[39m.\u001b[39m_jit_compile):\n\u001b[1;32m--> <a href='file:///c%3A/Users/angel/anaconda3/envs/tf_py38/lib/site-packages/tensorflow/python/eager/def_function.py?line=914'>915</a>\u001b[0m   result \u001b[39m=\u001b[39m \u001b[39mself\u001b[39;49m\u001b[39m.\u001b[39;49m_call(\u001b[39m*\u001b[39;49margs, \u001b[39m*\u001b[39;49m\u001b[39m*\u001b[39;49mkwds)\n\u001b[0;32m    <a href='file:///c%3A/Users/angel/anaconda3/envs/tf_py38/lib/site-packages/tensorflow/python/eager/def_function.py?line=916'>917</a>\u001b[0m new_tracing_count \u001b[39m=\u001b[39m \u001b[39mself\u001b[39m\u001b[39m.\u001b[39mexperimental_get_tracing_count()\n\u001b[0;32m    <a href='file:///c%3A/Users/angel/anaconda3/envs/tf_py38/lib/site-packages/tensorflow/python/eager/def_function.py?line=917'>918</a>\u001b[0m without_tracing \u001b[39m=\u001b[39m (tracing_count \u001b[39m==\u001b[39m new_tracing_count)\n",
      "File \u001b[1;32m~\\anaconda3\\envs\\tf_py38\\lib\\site-packages\\tensorflow\\python\\eager\\def_function.py:947\u001b[0m, in \u001b[0;36mFunction._call\u001b[1;34m(self, *args, **kwds)\u001b[0m\n\u001b[0;32m    <a href='file:///c%3A/Users/angel/anaconda3/envs/tf_py38/lib/site-packages/tensorflow/python/eager/def_function.py?line=943'>944</a>\u001b[0m   \u001b[39mself\u001b[39m\u001b[39m.\u001b[39m_lock\u001b[39m.\u001b[39mrelease()\n\u001b[0;32m    <a href='file:///c%3A/Users/angel/anaconda3/envs/tf_py38/lib/site-packages/tensorflow/python/eager/def_function.py?line=944'>945</a>\u001b[0m   \u001b[39m# In this case we have created variables on the first call, so we run the\u001b[39;00m\n\u001b[0;32m    <a href='file:///c%3A/Users/angel/anaconda3/envs/tf_py38/lib/site-packages/tensorflow/python/eager/def_function.py?line=945'>946</a>\u001b[0m   \u001b[39m# defunned version which is guaranteed to never create variables.\u001b[39;00m\n\u001b[1;32m--> <a href='file:///c%3A/Users/angel/anaconda3/envs/tf_py38/lib/site-packages/tensorflow/python/eager/def_function.py?line=946'>947</a>\u001b[0m   \u001b[39mreturn\u001b[39;00m \u001b[39mself\u001b[39;49m\u001b[39m.\u001b[39;49m_stateless_fn(\u001b[39m*\u001b[39;49margs, \u001b[39m*\u001b[39;49m\u001b[39m*\u001b[39;49mkwds)  \u001b[39m# pylint: disable=not-callable\u001b[39;00m\n\u001b[0;32m    <a href='file:///c%3A/Users/angel/anaconda3/envs/tf_py38/lib/site-packages/tensorflow/python/eager/def_function.py?line=947'>948</a>\u001b[0m \u001b[39melif\u001b[39;00m \u001b[39mself\u001b[39m\u001b[39m.\u001b[39m_stateful_fn \u001b[39mis\u001b[39;00m \u001b[39mnot\u001b[39;00m \u001b[39mNone\u001b[39;00m:\n\u001b[0;32m    <a href='file:///c%3A/Users/angel/anaconda3/envs/tf_py38/lib/site-packages/tensorflow/python/eager/def_function.py?line=948'>949</a>\u001b[0m   \u001b[39m# Release the lock early so that multiple threads can perform the call\u001b[39;00m\n\u001b[0;32m    <a href='file:///c%3A/Users/angel/anaconda3/envs/tf_py38/lib/site-packages/tensorflow/python/eager/def_function.py?line=949'>950</a>\u001b[0m   \u001b[39m# in parallel.\u001b[39;00m\n\u001b[0;32m    <a href='file:///c%3A/Users/angel/anaconda3/envs/tf_py38/lib/site-packages/tensorflow/python/eager/def_function.py?line=950'>951</a>\u001b[0m   \u001b[39mself\u001b[39m\u001b[39m.\u001b[39m_lock\u001b[39m.\u001b[39mrelease()\n",
      "File \u001b[1;32m~\\anaconda3\\envs\\tf_py38\\lib\\site-packages\\tensorflow\\python\\eager\\function.py:2956\u001b[0m, in \u001b[0;36mFunction.__call__\u001b[1;34m(self, *args, **kwargs)\u001b[0m\n\u001b[0;32m   <a href='file:///c%3A/Users/angel/anaconda3/envs/tf_py38/lib/site-packages/tensorflow/python/eager/function.py?line=2952'>2953</a>\u001b[0m \u001b[39mwith\u001b[39;00m \u001b[39mself\u001b[39m\u001b[39m.\u001b[39m_lock:\n\u001b[0;32m   <a href='file:///c%3A/Users/angel/anaconda3/envs/tf_py38/lib/site-packages/tensorflow/python/eager/function.py?line=2953'>2954</a>\u001b[0m   (graph_function,\n\u001b[0;32m   <a href='file:///c%3A/Users/angel/anaconda3/envs/tf_py38/lib/site-packages/tensorflow/python/eager/function.py?line=2954'>2955</a>\u001b[0m    filtered_flat_args) \u001b[39m=\u001b[39m \u001b[39mself\u001b[39m\u001b[39m.\u001b[39m_maybe_define_function(args, kwargs)\n\u001b[1;32m-> <a href='file:///c%3A/Users/angel/anaconda3/envs/tf_py38/lib/site-packages/tensorflow/python/eager/function.py?line=2955'>2956</a>\u001b[0m \u001b[39mreturn\u001b[39;00m graph_function\u001b[39m.\u001b[39;49m_call_flat(\n\u001b[0;32m   <a href='file:///c%3A/Users/angel/anaconda3/envs/tf_py38/lib/site-packages/tensorflow/python/eager/function.py?line=2956'>2957</a>\u001b[0m     filtered_flat_args, captured_inputs\u001b[39m=\u001b[39;49mgraph_function\u001b[39m.\u001b[39;49mcaptured_inputs)\n",
      "File \u001b[1;32m~\\anaconda3\\envs\\tf_py38\\lib\\site-packages\\tensorflow\\python\\eager\\function.py:1853\u001b[0m, in \u001b[0;36mConcreteFunction._call_flat\u001b[1;34m(self, args, captured_inputs, cancellation_manager)\u001b[0m\n\u001b[0;32m   <a href='file:///c%3A/Users/angel/anaconda3/envs/tf_py38/lib/site-packages/tensorflow/python/eager/function.py?line=1848'>1849</a>\u001b[0m possible_gradient_type \u001b[39m=\u001b[39m gradients_util\u001b[39m.\u001b[39mPossibleTapeGradientTypes(args)\n\u001b[0;32m   <a href='file:///c%3A/Users/angel/anaconda3/envs/tf_py38/lib/site-packages/tensorflow/python/eager/function.py?line=1849'>1850</a>\u001b[0m \u001b[39mif\u001b[39;00m (possible_gradient_type \u001b[39m==\u001b[39m gradients_util\u001b[39m.\u001b[39mPOSSIBLE_GRADIENT_TYPES_NONE\n\u001b[0;32m   <a href='file:///c%3A/Users/angel/anaconda3/envs/tf_py38/lib/site-packages/tensorflow/python/eager/function.py?line=1850'>1851</a>\u001b[0m     \u001b[39mand\u001b[39;00m executing_eagerly):\n\u001b[0;32m   <a href='file:///c%3A/Users/angel/anaconda3/envs/tf_py38/lib/site-packages/tensorflow/python/eager/function.py?line=1851'>1852</a>\u001b[0m   \u001b[39m# No tape is watching; skip to running the function.\u001b[39;00m\n\u001b[1;32m-> <a href='file:///c%3A/Users/angel/anaconda3/envs/tf_py38/lib/site-packages/tensorflow/python/eager/function.py?line=1852'>1853</a>\u001b[0m   \u001b[39mreturn\u001b[39;00m \u001b[39mself\u001b[39m\u001b[39m.\u001b[39m_build_call_outputs(\u001b[39mself\u001b[39;49m\u001b[39m.\u001b[39;49m_inference_function\u001b[39m.\u001b[39;49mcall(\n\u001b[0;32m   <a href='file:///c%3A/Users/angel/anaconda3/envs/tf_py38/lib/site-packages/tensorflow/python/eager/function.py?line=1853'>1854</a>\u001b[0m       ctx, args, cancellation_manager\u001b[39m=\u001b[39;49mcancellation_manager))\n\u001b[0;32m   <a href='file:///c%3A/Users/angel/anaconda3/envs/tf_py38/lib/site-packages/tensorflow/python/eager/function.py?line=1854'>1855</a>\u001b[0m forward_backward \u001b[39m=\u001b[39m \u001b[39mself\u001b[39m\u001b[39m.\u001b[39m_select_forward_and_backward_functions(\n\u001b[0;32m   <a href='file:///c%3A/Users/angel/anaconda3/envs/tf_py38/lib/site-packages/tensorflow/python/eager/function.py?line=1855'>1856</a>\u001b[0m     args,\n\u001b[0;32m   <a href='file:///c%3A/Users/angel/anaconda3/envs/tf_py38/lib/site-packages/tensorflow/python/eager/function.py?line=1856'>1857</a>\u001b[0m     possible_gradient_type,\n\u001b[0;32m   <a href='file:///c%3A/Users/angel/anaconda3/envs/tf_py38/lib/site-packages/tensorflow/python/eager/function.py?line=1857'>1858</a>\u001b[0m     executing_eagerly)\n\u001b[0;32m   <a href='file:///c%3A/Users/angel/anaconda3/envs/tf_py38/lib/site-packages/tensorflow/python/eager/function.py?line=1858'>1859</a>\u001b[0m forward_function, args_with_tangents \u001b[39m=\u001b[39m forward_backward\u001b[39m.\u001b[39mforward()\n",
      "File \u001b[1;32m~\\anaconda3\\envs\\tf_py38\\lib\\site-packages\\tensorflow\\python\\eager\\function.py:499\u001b[0m, in \u001b[0;36m_EagerDefinedFunction.call\u001b[1;34m(self, ctx, args, cancellation_manager)\u001b[0m\n\u001b[0;32m    <a href='file:///c%3A/Users/angel/anaconda3/envs/tf_py38/lib/site-packages/tensorflow/python/eager/function.py?line=496'>497</a>\u001b[0m \u001b[39mwith\u001b[39;00m _InterpolateFunctionError(\u001b[39mself\u001b[39m):\n\u001b[0;32m    <a href='file:///c%3A/Users/angel/anaconda3/envs/tf_py38/lib/site-packages/tensorflow/python/eager/function.py?line=497'>498</a>\u001b[0m   \u001b[39mif\u001b[39;00m cancellation_manager \u001b[39mis\u001b[39;00m \u001b[39mNone\u001b[39;00m:\n\u001b[1;32m--> <a href='file:///c%3A/Users/angel/anaconda3/envs/tf_py38/lib/site-packages/tensorflow/python/eager/function.py?line=498'>499</a>\u001b[0m     outputs \u001b[39m=\u001b[39m execute\u001b[39m.\u001b[39;49mexecute(\n\u001b[0;32m    <a href='file:///c%3A/Users/angel/anaconda3/envs/tf_py38/lib/site-packages/tensorflow/python/eager/function.py?line=499'>500</a>\u001b[0m         \u001b[39mstr\u001b[39;49m(\u001b[39mself\u001b[39;49m\u001b[39m.\u001b[39;49msignature\u001b[39m.\u001b[39;49mname),\n\u001b[0;32m    <a href='file:///c%3A/Users/angel/anaconda3/envs/tf_py38/lib/site-packages/tensorflow/python/eager/function.py?line=500'>501</a>\u001b[0m         num_outputs\u001b[39m=\u001b[39;49m\u001b[39mself\u001b[39;49m\u001b[39m.\u001b[39;49m_num_outputs,\n\u001b[0;32m    <a href='file:///c%3A/Users/angel/anaconda3/envs/tf_py38/lib/site-packages/tensorflow/python/eager/function.py?line=501'>502</a>\u001b[0m         inputs\u001b[39m=\u001b[39;49margs,\n\u001b[0;32m    <a href='file:///c%3A/Users/angel/anaconda3/envs/tf_py38/lib/site-packages/tensorflow/python/eager/function.py?line=502'>503</a>\u001b[0m         attrs\u001b[39m=\u001b[39;49mattrs,\n\u001b[0;32m    <a href='file:///c%3A/Users/angel/anaconda3/envs/tf_py38/lib/site-packages/tensorflow/python/eager/function.py?line=503'>504</a>\u001b[0m         ctx\u001b[39m=\u001b[39;49mctx)\n\u001b[0;32m    <a href='file:///c%3A/Users/angel/anaconda3/envs/tf_py38/lib/site-packages/tensorflow/python/eager/function.py?line=504'>505</a>\u001b[0m   \u001b[39melse\u001b[39;00m:\n\u001b[0;32m    <a href='file:///c%3A/Users/angel/anaconda3/envs/tf_py38/lib/site-packages/tensorflow/python/eager/function.py?line=505'>506</a>\u001b[0m     outputs \u001b[39m=\u001b[39m execute\u001b[39m.\u001b[39mexecute_with_cancellation(\n\u001b[0;32m    <a href='file:///c%3A/Users/angel/anaconda3/envs/tf_py38/lib/site-packages/tensorflow/python/eager/function.py?line=506'>507</a>\u001b[0m         \u001b[39mstr\u001b[39m(\u001b[39mself\u001b[39m\u001b[39m.\u001b[39msignature\u001b[39m.\u001b[39mname),\n\u001b[0;32m    <a href='file:///c%3A/Users/angel/anaconda3/envs/tf_py38/lib/site-packages/tensorflow/python/eager/function.py?line=507'>508</a>\u001b[0m         num_outputs\u001b[39m=\u001b[39m\u001b[39mself\u001b[39m\u001b[39m.\u001b[39m_num_outputs,\n\u001b[1;32m   (...)\u001b[0m\n\u001b[0;32m    <a href='file:///c%3A/Users/angel/anaconda3/envs/tf_py38/lib/site-packages/tensorflow/python/eager/function.py?line=510'>511</a>\u001b[0m         ctx\u001b[39m=\u001b[39mctx,\n\u001b[0;32m    <a href='file:///c%3A/Users/angel/anaconda3/envs/tf_py38/lib/site-packages/tensorflow/python/eager/function.py?line=511'>512</a>\u001b[0m         cancellation_manager\u001b[39m=\u001b[39mcancellation_manager)\n",
      "File \u001b[1;32m~\\anaconda3\\envs\\tf_py38\\lib\\site-packages\\tensorflow\\python\\eager\\execute.py:54\u001b[0m, in \u001b[0;36mquick_execute\u001b[1;34m(op_name, num_outputs, inputs, attrs, ctx, name)\u001b[0m\n\u001b[0;32m     <a href='file:///c%3A/Users/angel/anaconda3/envs/tf_py38/lib/site-packages/tensorflow/python/eager/execute.py?line=51'>52</a>\u001b[0m \u001b[39mtry\u001b[39;00m:\n\u001b[0;32m     <a href='file:///c%3A/Users/angel/anaconda3/envs/tf_py38/lib/site-packages/tensorflow/python/eager/execute.py?line=52'>53</a>\u001b[0m   ctx\u001b[39m.\u001b[39mensure_initialized()\n\u001b[1;32m---> <a href='file:///c%3A/Users/angel/anaconda3/envs/tf_py38/lib/site-packages/tensorflow/python/eager/execute.py?line=53'>54</a>\u001b[0m   tensors \u001b[39m=\u001b[39m pywrap_tfe\u001b[39m.\u001b[39;49mTFE_Py_Execute(ctx\u001b[39m.\u001b[39;49m_handle, device_name, op_name,\n\u001b[0;32m     <a href='file:///c%3A/Users/angel/anaconda3/envs/tf_py38/lib/site-packages/tensorflow/python/eager/execute.py?line=54'>55</a>\u001b[0m                                       inputs, attrs, num_outputs)\n\u001b[0;32m     <a href='file:///c%3A/Users/angel/anaconda3/envs/tf_py38/lib/site-packages/tensorflow/python/eager/execute.py?line=55'>56</a>\u001b[0m \u001b[39mexcept\u001b[39;00m core\u001b[39m.\u001b[39m_NotOkStatusException \u001b[39mas\u001b[39;00m e:\n\u001b[0;32m     <a href='file:///c%3A/Users/angel/anaconda3/envs/tf_py38/lib/site-packages/tensorflow/python/eager/execute.py?line=56'>57</a>\u001b[0m   \u001b[39mif\u001b[39;00m name \u001b[39mis\u001b[39;00m \u001b[39mnot\u001b[39;00m \u001b[39mNone\u001b[39;00m:\n",
      "\u001b[1;31mKeyboardInterrupt\u001b[0m: "
     ]
    }
   ],
   "source": [
    "n_gen = 0\n",
    "while True:\n",
    "  n_gen += 1\n",
    "  for i, genome in enumerate(genomes):\n",
    "      model = genome.forward(0.0001)\n",
    "    #   print(genome.bool_arr)\n",
    "      history = genome.train_model(model, x_train, y_train, (x_test, y_test), 10, 256)\n",
    "      fitness = history.history['val_accuracy']\n",
    "      score = history.history['val_loss']\n",
    "      \n",
    "      fitness.sort()\n",
    "      score.sort()\n",
    "      genome.fitness = fitness[-1]\n",
    "      score = score[0]\n",
    "\n",
    "      print('Generation #%s, Genome #%s, Fitness: %s, Score: %s' % (n_gen, i, genome.fitness, score))\n",
    "  if best_genomes is not None:\n",
    "      genomes.extend(best_genomes)\n",
    "  genomes.sort(key=lambda x: x.fitness, reverse=True)\n",
    "\n",
    "  print('===== Generaton #%s\\tBest Fitness %s =====' % (n_gen, genomes[0].fitness))\n",
    "  break"
   ]
  },
  {
   "cell_type": "code",
   "execution_count": null,
   "metadata": {},
   "outputs": [],
   "source": []
  }
 ],
 "metadata": {
  "interpreter": {
   "hash": "20ea11077b4d33ea95f1fd00e03a9e40cb7cbf4ddc1b9ea71cbe1fbfe5e5187e"
  },
  "kernelspec": {
   "display_name": "Python 3.8.12 ('tf_py38')",
   "language": "python",
   "name": "python3"
  },
  "language_info": {
   "codemirror_mode": {
    "name": "ipython",
    "version": 3
   },
   "file_extension": ".py",
   "mimetype": "text/x-python",
   "name": "python",
   "nbconvert_exporter": "python",
   "pygments_lexer": "ipython3",
   "version": "3.8.12"
  },
  "orig_nbformat": 4
 },
 "nbformat": 4,
 "nbformat_minor": 2
}
