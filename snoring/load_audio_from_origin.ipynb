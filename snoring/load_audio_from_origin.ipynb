{
 "cells": [
  {
   "cell_type": "code",
   "execution_count": 6,
   "metadata": {},
   "outputs": [],
   "source": [
    "import h5py\n",
    "import os\n",
    "\n",
    "import librosa\n",
    "import librosa.display\n",
    "import IPython.display\n",
    "import numpy as np\n",
    "import matplotlib.pyplot as plt\n",
    "import matplotlib as mpl\n",
    "import matplotlib.font_manager as fm\n",
    " \n",
    "%matplotlib inline"
   ]
  },
  {
   "cell_type": "code",
   "execution_count": 7,
   "metadata": {},
   "outputs": [
    {
     "name": "stdout",
     "output_type": "stream",
     "text": [
      "/home/vips/share/Gwanghyun/Audio/snoring\n",
      "/home/vips/share/Gwanghyun/Audio/snoring/dataset/origin/origin_snoring\n",
      "6\n",
      "['snoring_1.wav', 'snoring_4.wav', 'snoring_5.wav', 'snoring_7.wav', 'snoring_8.wav', 'snoring_9.wav']\n"
     ]
    }
   ],
   "source": [
    "# path 정보 확인\n",
    "a = os.getcwd()\n",
    "print(a)\n",
    "aa = os.path.join(os.getcwd(), \"dataset/origin/origin_snoring\")\n",
    "print(aa)\n",
    "\n",
    "print(len(os.listdir(aa)))\n",
    "print(sorted(os.listdir(aa)))"
   ]
  },
  {
   "cell_type": "code",
   "execution_count": 12,
   "metadata": {},
   "outputs": [],
   "source": [
    "path = os.path.join(os.getcwd(), \"dataset/origin/origin_snoring/\")\n",
    "\n",
    "y, sr = librosa.load(path + 'snoring_1.wav')\n",
    "\n",
    "print(y, sr)"
   ]
  },
  {
   "cell_type": "code",
   "execution_count": null,
   "metadata": {},
   "outputs": [],
   "source": [
    "def trim_audio_data(audio_file, save_file):\n",
    "    sr = 96000\n",
    "    sec = 30\n",
    "\n",
    "    y, sr = librosa.load(audio_file, sr=sr)\n",
    "\n",
    "    ny = y[:sr*sec]\n",
    "\n",
    "    librosa.output.write_wav(save_file + '.wav', ny, sr)"
   ]
  }
 ],
 "metadata": {
  "interpreter": {
   "hash": "0ab9f8b981cfeaa65b0079c45a80dfbcbc37491ff92a329651029be43408ce7a"
  },
  "kernelspec": {
   "display_name": "Python 3.7.11 64-bit ('gh_py37': conda)",
   "language": "python",
   "name": "python3"
  },
  "language_info": {
   "codemirror_mode": {
    "name": "ipython",
    "version": 3
   },
   "file_extension": ".py",
   "mimetype": "text/x-python",
   "name": "python",
   "nbconvert_exporter": "python",
   "pygments_lexer": "ipython3",
   "version": "3.7.11"
  },
  "orig_nbformat": 4
 },
 "nbformat": 4,
 "nbformat_minor": 2
}
