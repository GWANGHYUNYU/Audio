{
 "cells": [
  {
   "cell_type": "code",
   "execution_count": 1,
   "metadata": {},
   "outputs": [],
   "source": [
    "import tensorflow as tf\n",
    "from tensorflow import keras\n",
    "from keras import utils\n",
    "from keras.models import Sequential, Model\n",
    "from keras.layers import Conv2D, MaxPool2D, Input, Dense, Flatten, Concatenate\n",
    "from keras.callbacks import ModelCheckpoint\n",
    "from tensorflow.keras.applications.vgg16 import VGG16\n",
    "\n",
    "import pandas as pd\n",
    "import numpy as np\n",
    "import matplotlib.pyplot as plt\n",
    "import seaborn as sns\n",
    "import warnings \n",
    "from IPython.display import Image\n",
    "\n",
    "import os\n",
    "import random\n",
    "from copy import deepcopy\n",
    "import pickle\n",
    "import time"
   ]
  },
  {
   "cell_type": "code",
   "execution_count": 2,
   "metadata": {},
   "outputs": [
    {
     "name": "stdout",
     "output_type": "stream",
     "text": [
      "Train/Test Dataset Shape\n",
      "(7859, 128, 173, 1)\n",
      "(7859,)\n",
      "(873, 128, 173, 1)\n",
      "(873,)\n"
     ]
    }
   ],
   "source": [
    "np.random.seed(5)\n",
    "\n",
    "# Load dataset\n",
    "\n",
    "load_path = 'D:\\GH\\Audio\\dataset\\\\UrbanSound8K\\\\audio\\\\np_data'\n",
    "\n",
    "'''\n",
    "loaded = np.load('파일명.npz', allow_pickle=True)\n",
    "(128, 173, 1)\n",
    "'''\n",
    "\n",
    "train_path = os.path.join(load_path, 'fold1train.npy')\n",
    "test_path = os.path.join(load_path, 'fold1test.npy')\n",
    "\n",
    "train_data = np.load(train_path, allow_pickle=True)\n",
    "test_data = np.load(test_path, allow_pickle=True)\n",
    "\n",
    "x_train = train_data[:, -1]\n",
    "y_train = train_data[:, 1]\n",
    "x_test = test_data[:, -1]\n",
    "y_test = test_data[:, 1]\n",
    "\n",
    "x_train = np.stack(x_train, axis=0)\n",
    "x_test = np.stack(x_test, axis=0)\n",
    "\n",
    "x_train = x_train[...,np.newaxis]\n",
    "x_test = x_test[...,np.newaxis]\n",
    "y_train = y_train.reshape((-1,))\n",
    "y_test = y_test.reshape((-1,))\n",
    "\n",
    "# 배열의 원소 개수만큼 인덱스 배열을 만든 후\n",
    "# 무작위로 뒤섞어 줍니다.\n",
    "idx_train = np.arange(x_train.shape[0])\n",
    "idx_test = np.arange(x_test.shape[0])\n",
    "# print(idx)\n",
    "np.random.shuffle(idx_train)\n",
    "np.random.shuffle(idx_test)\n",
    "\n",
    "x_train_shuffle = x_train[idx_train]\n",
    "y_train_shuffle = y_train[idx_train]\n",
    "x_test_shuffle = x_test[idx_test]\n",
    "y_test_shuffle = y_test[idx_test]\n",
    "\n",
    "# TensorFlow에서 읽을 수 있는 np.astype으로 변경\n",
    "x_train = np.asarray(x_train_shuffle).astype(np.float64)\n",
    "y_train = np.asarray(y_train_shuffle).astype(np.int64)\n",
    "x_test = np.asarray(x_test_shuffle).astype(np.float64)\n",
    "y_test = np.asarray(y_test_shuffle).astype(np.int64)\n",
    "\n",
    "print('Train/Test Dataset Shape')\n",
    "print(x_train.shape)\n",
    "print(y_train.shape)\n",
    "print(x_test.shape)\n",
    "print(y_test.shape)"
   ]
  },
  {
   "cell_type": "code",
   "execution_count": 32,
   "metadata": {},
   "outputs": [],
   "source": [
    "IMG_SHAPE = (128, 173) + (3,)\n",
    "# base_model = VGG16(input_shape=IMG_SHAPE, include_top=False, weights='imagenet')\n",
    "base_model = tf.keras.applications.resnet.ResNet50(input_shape=IMG_SHAPE, include_top=False, weights='imagenet')"
   ]
  },
  {
   "cell_type": "code",
   "execution_count": 33,
   "metadata": {},
   "outputs": [
    {
     "name": "stdout",
     "output_type": "stream",
     "text": [
      "[False False False False False  True  True  True False  True  True False\n",
      "  True  True False  True  True  True  True  True False False False False\n",
      "  True False False False  True  True False False False False False False\n",
      "  True False  True False False  True  True  True  True  True  True  True\n",
      "  True False False False False False False  True  True  True  True  True\n",
      " False  True  True False  True False False False False False False  True\n",
      "  True  True  True  True False False False False  True  True  True  True\n",
      " False  True  True False False  True  True False  True False  True  True\n",
      " False  True  True False False False False  True  True False  True False\n",
      " False  True False False False False  True False  True  True  True False\n",
      " False  True  True False  True  True False  True  True  True False False\n",
      " False False  True  True False False False False  True False  True  True\n",
      " False False  True False  True  True False  True False False  True  True\n",
      "  True False  True  True False  True False  True False  True  True False\n",
      "  True  True  True  True False  True False]\n"
     ]
    }
   ],
   "source": [
    "sample_arr = [True, False]\n",
    "bool_arr = np.random.choice(sample_arr, size=len(base_model.layers))\n",
    "print(bool_arr)\n",
    "\n",
    "base_model.trainable = True\t\t# resnet 모델 학습동결을 해제한다\n",
    "for idx, i in enumerate(base_model.layers):\t# 143층부터의 학습은 해제상태로 두고, \n",
    "    i.trainable = bool_arr[idx]\t\t\t\t# 이전까지의 학습은 동결한다."
   ]
  },
  {
   "cell_type": "code",
   "execution_count": 19,
   "metadata": {},
   "outputs": [],
   "source": [
    "# base_model.trainable = False\t\t# resnet 모델의 모든 레이어를 학습동결 한다.\n",
    "# base_model.trainable = True\t\t  # resnet 모델의 모든 레이어를 학습한다.\n",
    "\n",
    "# base_model.trainable = True\t\t    # Base Model 학습동결을 해제한다\n",
    "# for i in base_model.layers[:10]:\t# 10층까지 레이어를 불러서, \n",
    "#   i.trainable = False\t\t\t\t      # 이전까지의 학습은 동결한다."
   ]
  },
  {
   "cell_type": "code",
   "execution_count": 34,
   "metadata": {},
   "outputs": [],
   "source": [
    "inputs = Input((128, 173, 1))\n",
    "first_conv_layer = Conv2D(3, 1, padding='same', activation=None)(inputs)\n",
    "\n",
    "x = base_model(first_conv_layer, training = False)\n",
    "x = Flatten()(x)\n",
    "outputs = Dense(10, activation = 'softmax')(x)\n",
    "\n",
    "model = tf.keras.Model(inputs, outputs, name=\"UrbanSound8K__model\")\n",
    "\n",
    "# 'categorical_crossentropy'은 y[0]=[0, 0, 0, 0, 0, 0, 0, 0, 1], y[1, 0, 0, 0, 0, 0, 0, 0, 0]과 같이 one-hot-encoding label일 경우에 사용\n",
    "model.compile(loss=\"sparse_categorical_crossentropy\", \n",
    "optimizer=tf.keras.optimizers.Adam(learning_rate= 0.0001), \n",
    "metrics=['accuracy'])"
   ]
  },
  {
   "cell_type": "code",
   "execution_count": 35,
   "metadata": {},
   "outputs": [
    {
     "name": "stdout",
     "output_type": "stream",
     "text": [
      "Model: \"UrbanSound8K__model\"\n",
      "_________________________________________________________________\n",
      " Layer (type)                Output Shape              Param #   \n",
      "=================================================================\n",
      " input_10 (InputLayer)       [(None, 128, 173, 1)]     0         \n",
      "                                                                 \n",
      " conv2d_5 (Conv2D)           (None, 128, 173, 3)       6         \n",
      "                                                                 \n",
      " resnet50 (Functional)       (None, 4, 6, 2048)        23587712  \n",
      "                                                                 \n",
      " flatten_5 (Flatten)         (None, 49152)             0         \n",
      "                                                                 \n",
      " dense_5 (Dense)             (None, 10)                491530    \n",
      "                                                                 \n",
      "=================================================================\n",
      "Total params: 24,079,248\n",
      "Trainable params: 17,448,336\n",
      "Non-trainable params: 6,630,912\n",
      "_________________________________________________________________\n"
     ]
    }
   ],
   "source": [
    "model.summary()"
   ]
  },
  {
   "cell_type": "code",
   "execution_count": 36,
   "metadata": {},
   "outputs": [],
   "source": [
    "early = tf.keras.callbacks.EarlyStopping(monitor='val_loss', patience=5)\n",
    "checkpoint_best_path = 'model_Freeze10_checkpoints_best/checkpoint'\n",
    "checkpoint_best = ModelCheckpoint(filepath=checkpoint_best_path,\n",
    "                                save_weights_only=True,\n",
    "                                save_freq='epoch',\n",
    "                                monitor='val_accuracy',\n",
    "                                save_best_only=True,\n",
    "                                verbose=1)"
   ]
  },
  {
   "cell_type": "code",
   "execution_count": 37,
   "metadata": {},
   "outputs": [
    {
     "name": "stdout",
     "output_type": "stream",
     "text": [
      "Epoch 1/50\n",
      "246/246 [==============================] - ETA: 0s - loss: 0.7122 - accuracy: 0.7562\n",
      "Epoch 1: val_accuracy improved from -inf to 0.91180, saving model to model_Freeze10_checkpoints_best\\checkpoint\n",
      "246/246 [==============================] - 38s 131ms/step - loss: 0.7122 - accuracy: 0.7562 - val_loss: 0.2814 - val_accuracy: 0.9118\n",
      "Epoch 2/50\n",
      "246/246 [==============================] - ETA: 0s - loss: 0.2437 - accuracy: 0.9228\n",
      "Epoch 2: val_accuracy improved from 0.91180 to 0.96220, saving model to model_Freeze10_checkpoints_best\\checkpoint\n",
      "246/246 [==============================] - 31s 125ms/step - loss: 0.2437 - accuracy: 0.9228 - val_loss: 0.1228 - val_accuracy: 0.9622\n",
      "Epoch 3/50\n",
      "246/246 [==============================] - ETA: 0s - loss: 0.1429 - accuracy: 0.9509\n",
      "Epoch 3: val_accuracy did not improve from 0.96220\n",
      "246/246 [==============================] - 29s 117ms/step - loss: 0.1429 - accuracy: 0.9509 - val_loss: 0.1384 - val_accuracy: 0.9507\n",
      "Epoch 4/50\n",
      "246/246 [==============================] - ETA: 0s - loss: 0.0971 - accuracy: 0.9667\n",
      "Epoch 4: val_accuracy improved from 0.96220 to 0.98167, saving model to model_Freeze10_checkpoints_best\\checkpoint\n",
      "246/246 [==============================] - 31s 126ms/step - loss: 0.0971 - accuracy: 0.9667 - val_loss: 0.0589 - val_accuracy: 0.9817\n",
      "Epoch 5/50\n",
      "246/246 [==============================] - ETA: 0s - loss: 0.0708 - accuracy: 0.9780\n",
      "Epoch 5: val_accuracy improved from 0.98167 to 0.98282, saving model to model_Freeze10_checkpoints_best\\checkpoint\n",
      "246/246 [==============================] - 31s 126ms/step - loss: 0.0708 - accuracy: 0.9780 - val_loss: 0.0460 - val_accuracy: 0.9828\n",
      "Epoch 6/50\n",
      "246/246 [==============================] - ETA: 0s - loss: 0.0572 - accuracy: 0.9826\n",
      "Epoch 6: val_accuracy did not improve from 0.98282\n",
      "246/246 [==============================] - 29s 117ms/step - loss: 0.0572 - accuracy: 0.9826 - val_loss: 0.0823 - val_accuracy: 0.9794\n",
      "Epoch 7/50\n",
      "182/246 [=====================>........] - ETA: 7s - loss: 0.0332 - accuracy: 0.9907"
     ]
    },
    {
     "ename": "KeyboardInterrupt",
     "evalue": "",
     "output_type": "error",
     "traceback": [
      "\u001b[1;31m---------------------------------------------------------------------------\u001b[0m",
      "\u001b[1;31mKeyboardInterrupt\u001b[0m                         Traceback (most recent call last)",
      "\u001b[1;32md:\\GH\\Audio\\GA\\G_E_based_urbansound\\test_urbansound8k.ipynb Cell 9'\u001b[0m in \u001b[0;36m<cell line: 1>\u001b[1;34m()\u001b[0m\n\u001b[1;32m----> <a href='vscode-notebook-cell:/d%3A/GH/Audio/GA/G_E_based_urbansound/test_urbansound8k.ipynb#ch0000007?line=0'>1</a>\u001b[0m hist \u001b[39m=\u001b[39m model\u001b[39m.\u001b[39;49mfit(x_train, y_train,\n\u001b[0;32m      <a href='vscode-notebook-cell:/d%3A/GH/Audio/GA/G_E_based_urbansound/test_urbansound8k.ipynb#ch0000007?line=1'>2</a>\u001b[0m                 validation_data \u001b[39m=\u001b[39;49m (x_test, y_test),\n\u001b[0;32m      <a href='vscode-notebook-cell:/d%3A/GH/Audio/GA/G_E_based_urbansound/test_urbansound8k.ipynb#ch0000007?line=2'>3</a>\u001b[0m                 epochs \u001b[39m=\u001b[39;49m \u001b[39m50\u001b[39;49m,\n\u001b[0;32m      <a href='vscode-notebook-cell:/d%3A/GH/Audio/GA/G_E_based_urbansound/test_urbansound8k.ipynb#ch0000007?line=3'>4</a>\u001b[0m                 batch_size \u001b[39m=\u001b[39;49m \u001b[39m32\u001b[39;49m,\n\u001b[0;32m      <a href='vscode-notebook-cell:/d%3A/GH/Audio/GA/G_E_based_urbansound/test_urbansound8k.ipynb#ch0000007?line=4'>5</a>\u001b[0m                 verbose \u001b[39m=\u001b[39;49m \u001b[39m1\u001b[39;49m,\n\u001b[0;32m      <a href='vscode-notebook-cell:/d%3A/GH/Audio/GA/G_E_based_urbansound/test_urbansound8k.ipynb#ch0000007?line=5'>6</a>\u001b[0m                 callbacks\u001b[39m=\u001b[39;49m[checkpoint_best])\n",
      "File \u001b[1;32mc:\\Users\\angel\\anaconda3\\envs\\tf_py38\\lib\\site-packages\\keras\\utils\\traceback_utils.py:64\u001b[0m, in \u001b[0;36mfilter_traceback.<locals>.error_handler\u001b[1;34m(*args, **kwargs)\u001b[0m\n\u001b[0;32m     62\u001b[0m filtered_tb \u001b[39m=\u001b[39m \u001b[39mNone\u001b[39;00m\n\u001b[0;32m     63\u001b[0m \u001b[39mtry\u001b[39;00m:\n\u001b[1;32m---> 64\u001b[0m   \u001b[39mreturn\u001b[39;00m fn(\u001b[39m*\u001b[39;49margs, \u001b[39m*\u001b[39;49m\u001b[39m*\u001b[39;49mkwargs)\n\u001b[0;32m     65\u001b[0m \u001b[39mexcept\u001b[39;00m \u001b[39mException\u001b[39;00m \u001b[39mas\u001b[39;00m e:  \u001b[39m# pylint: disable=broad-except\u001b[39;00m\n\u001b[0;32m     66\u001b[0m   filtered_tb \u001b[39m=\u001b[39m _process_traceback_frames(e\u001b[39m.\u001b[39m__traceback__)\n",
      "File \u001b[1;32mc:\\Users\\angel\\anaconda3\\envs\\tf_py38\\lib\\site-packages\\keras\\engine\\training.py:1389\u001b[0m, in \u001b[0;36mModel.fit\u001b[1;34m(self, x, y, batch_size, epochs, verbose, callbacks, validation_split, validation_data, shuffle, class_weight, sample_weight, initial_epoch, steps_per_epoch, validation_steps, validation_batch_size, validation_freq, max_queue_size, workers, use_multiprocessing)\u001b[0m\n\u001b[0;32m   1387\u001b[0m logs \u001b[39m=\u001b[39m tmp_logs  \u001b[39m# No error, now safe to assign to logs.\u001b[39;00m\n\u001b[0;32m   1388\u001b[0m end_step \u001b[39m=\u001b[39m step \u001b[39m+\u001b[39m data_handler\u001b[39m.\u001b[39mstep_increment\n\u001b[1;32m-> 1389\u001b[0m callbacks\u001b[39m.\u001b[39;49mon_train_batch_end(end_step, logs)\n\u001b[0;32m   1390\u001b[0m \u001b[39mif\u001b[39;00m \u001b[39mself\u001b[39m\u001b[39m.\u001b[39mstop_training:\n\u001b[0;32m   1391\u001b[0m   \u001b[39mbreak\u001b[39;00m\n",
      "File \u001b[1;32mc:\\Users\\angel\\anaconda3\\envs\\tf_py38\\lib\\site-packages\\keras\\callbacks.py:438\u001b[0m, in \u001b[0;36mCallbackList.on_train_batch_end\u001b[1;34m(self, batch, logs)\u001b[0m\n\u001b[0;32m    431\u001b[0m \u001b[39m\"\"\"Calls the `on_train_batch_end` methods of its callbacks.\u001b[39;00m\n\u001b[0;32m    432\u001b[0m \n\u001b[0;32m    433\u001b[0m \u001b[39mArgs:\u001b[39;00m\n\u001b[0;32m    434\u001b[0m \u001b[39m    batch: Integer, index of batch within the current epoch.\u001b[39;00m\n\u001b[0;32m    435\u001b[0m \u001b[39m    logs: Dict. Aggregated metric results up until this batch.\u001b[39;00m\n\u001b[0;32m    436\u001b[0m \u001b[39m\"\"\"\u001b[39;00m\n\u001b[0;32m    437\u001b[0m \u001b[39mif\u001b[39;00m \u001b[39mself\u001b[39m\u001b[39m.\u001b[39m_should_call_train_batch_hooks:\n\u001b[1;32m--> 438\u001b[0m   \u001b[39mself\u001b[39;49m\u001b[39m.\u001b[39;49m_call_batch_hook(ModeKeys\u001b[39m.\u001b[39;49mTRAIN, \u001b[39m'\u001b[39;49m\u001b[39mend\u001b[39;49m\u001b[39m'\u001b[39;49m, batch, logs\u001b[39m=\u001b[39;49mlogs)\n",
      "File \u001b[1;32mc:\\Users\\angel\\anaconda3\\envs\\tf_py38\\lib\\site-packages\\keras\\callbacks.py:297\u001b[0m, in \u001b[0;36mCallbackList._call_batch_hook\u001b[1;34m(self, mode, hook, batch, logs)\u001b[0m\n\u001b[0;32m    295\u001b[0m   \u001b[39mself\u001b[39m\u001b[39m.\u001b[39m_call_batch_begin_hook(mode, batch, logs)\n\u001b[0;32m    296\u001b[0m \u001b[39melif\u001b[39;00m hook \u001b[39m==\u001b[39m \u001b[39m'\u001b[39m\u001b[39mend\u001b[39m\u001b[39m'\u001b[39m:\n\u001b[1;32m--> 297\u001b[0m   \u001b[39mself\u001b[39;49m\u001b[39m.\u001b[39;49m_call_batch_end_hook(mode, batch, logs)\n\u001b[0;32m    298\u001b[0m \u001b[39melse\u001b[39;00m:\n\u001b[0;32m    299\u001b[0m   \u001b[39mraise\u001b[39;00m \u001b[39mValueError\u001b[39;00m(\n\u001b[0;32m    300\u001b[0m       \u001b[39mf\u001b[39m\u001b[39m'\u001b[39m\u001b[39mUnrecognized hook: \u001b[39m\u001b[39m{\u001b[39;00mhook\u001b[39m}\u001b[39;00m\u001b[39m. Expected values are [\u001b[39m\u001b[39m\"\u001b[39m\u001b[39mbegin\u001b[39m\u001b[39m\"\u001b[39m\u001b[39m, \u001b[39m\u001b[39m\"\u001b[39m\u001b[39mend\u001b[39m\u001b[39m\"\u001b[39m\u001b[39m]\u001b[39m\u001b[39m'\u001b[39m)\n",
      "File \u001b[1;32mc:\\Users\\angel\\anaconda3\\envs\\tf_py38\\lib\\site-packages\\keras\\callbacks.py:318\u001b[0m, in \u001b[0;36mCallbackList._call_batch_end_hook\u001b[1;34m(self, mode, batch, logs)\u001b[0m\n\u001b[0;32m    315\u001b[0m   batch_time \u001b[39m=\u001b[39m time\u001b[39m.\u001b[39mtime() \u001b[39m-\u001b[39m \u001b[39mself\u001b[39m\u001b[39m.\u001b[39m_batch_start_time\n\u001b[0;32m    316\u001b[0m   \u001b[39mself\u001b[39m\u001b[39m.\u001b[39m_batch_times\u001b[39m.\u001b[39mappend(batch_time)\n\u001b[1;32m--> 318\u001b[0m \u001b[39mself\u001b[39;49m\u001b[39m.\u001b[39;49m_call_batch_hook_helper(hook_name, batch, logs)\n\u001b[0;32m    320\u001b[0m \u001b[39mif\u001b[39;00m \u001b[39mlen\u001b[39m(\u001b[39mself\u001b[39m\u001b[39m.\u001b[39m_batch_times) \u001b[39m>\u001b[39m\u001b[39m=\u001b[39m \u001b[39mself\u001b[39m\u001b[39m.\u001b[39m_num_batches_for_timing_check:\n\u001b[0;32m    321\u001b[0m   end_hook_name \u001b[39m=\u001b[39m hook_name\n",
      "File \u001b[1;32mc:\\Users\\angel\\anaconda3\\envs\\tf_py38\\lib\\site-packages\\keras\\callbacks.py:356\u001b[0m, in \u001b[0;36mCallbackList._call_batch_hook_helper\u001b[1;34m(self, hook_name, batch, logs)\u001b[0m\n\u001b[0;32m    354\u001b[0m \u001b[39mfor\u001b[39;00m callback \u001b[39min\u001b[39;00m \u001b[39mself\u001b[39m\u001b[39m.\u001b[39mcallbacks:\n\u001b[0;32m    355\u001b[0m   hook \u001b[39m=\u001b[39m \u001b[39mgetattr\u001b[39m(callback, hook_name)\n\u001b[1;32m--> 356\u001b[0m   hook(batch, logs)\n\u001b[0;32m    358\u001b[0m \u001b[39mif\u001b[39;00m \u001b[39mself\u001b[39m\u001b[39m.\u001b[39m_check_timing:\n\u001b[0;32m    359\u001b[0m   \u001b[39mif\u001b[39;00m hook_name \u001b[39mnot\u001b[39;00m \u001b[39min\u001b[39;00m \u001b[39mself\u001b[39m\u001b[39m.\u001b[39m_hook_times:\n",
      "File \u001b[1;32mc:\\Users\\angel\\anaconda3\\envs\\tf_py38\\lib\\site-packages\\keras\\callbacks.py:1034\u001b[0m, in \u001b[0;36mProgbarLogger.on_train_batch_end\u001b[1;34m(self, batch, logs)\u001b[0m\n\u001b[0;32m   1033\u001b[0m \u001b[39mdef\u001b[39;00m \u001b[39mon_train_batch_end\u001b[39m(\u001b[39mself\u001b[39m, batch, logs\u001b[39m=\u001b[39m\u001b[39mNone\u001b[39;00m):\n\u001b[1;32m-> 1034\u001b[0m   \u001b[39mself\u001b[39;49m\u001b[39m.\u001b[39;49m_batch_update_progbar(batch, logs)\n",
      "File \u001b[1;32mc:\\Users\\angel\\anaconda3\\envs\\tf_py38\\lib\\site-packages\\keras\\callbacks.py:1106\u001b[0m, in \u001b[0;36mProgbarLogger._batch_update_progbar\u001b[1;34m(self, batch, logs)\u001b[0m\n\u001b[0;32m   1102\u001b[0m   \u001b[39mself\u001b[39m\u001b[39m.\u001b[39mseen \u001b[39m+\u001b[39m\u001b[39m=\u001b[39m add_seen\n\u001b[0;32m   1104\u001b[0m \u001b[39mif\u001b[39;00m \u001b[39mself\u001b[39m\u001b[39m.\u001b[39mverbose \u001b[39m==\u001b[39m \u001b[39m1\u001b[39m:\n\u001b[0;32m   1105\u001b[0m   \u001b[39m# Only block async when verbose = 1.\u001b[39;00m\n\u001b[1;32m-> 1106\u001b[0m   logs \u001b[39m=\u001b[39m tf_utils\u001b[39m.\u001b[39;49msync_to_numpy_or_python_type(logs)\n\u001b[0;32m   1107\u001b[0m   \u001b[39mself\u001b[39m\u001b[39m.\u001b[39mprogbar\u001b[39m.\u001b[39mupdate(\u001b[39mself\u001b[39m\u001b[39m.\u001b[39mseen, \u001b[39mlist\u001b[39m(logs\u001b[39m.\u001b[39mitems()), finalize\u001b[39m=\u001b[39m\u001b[39mFalse\u001b[39;00m)\n",
      "File \u001b[1;32mc:\\Users\\angel\\anaconda3\\envs\\tf_py38\\lib\\site-packages\\keras\\utils\\tf_utils.py:563\u001b[0m, in \u001b[0;36msync_to_numpy_or_python_type\u001b[1;34m(tensors)\u001b[0m\n\u001b[0;32m    560\u001b[0m     \u001b[39mreturn\u001b[39;00m t\n\u001b[0;32m    561\u001b[0m   \u001b[39mreturn\u001b[39;00m t\u001b[39m.\u001b[39mitem() \u001b[39mif\u001b[39;00m np\u001b[39m.\u001b[39mndim(t) \u001b[39m==\u001b[39m \u001b[39m0\u001b[39m \u001b[39melse\u001b[39;00m t\n\u001b[1;32m--> 563\u001b[0m \u001b[39mreturn\u001b[39;00m tf\u001b[39m.\u001b[39;49mnest\u001b[39m.\u001b[39;49mmap_structure(_to_single_numpy_or_python_type, tensors)\n",
      "File \u001b[1;32mc:\\Users\\angel\\anaconda3\\envs\\tf_py38\\lib\\site-packages\\tensorflow\\python\\util\\nest.py:914\u001b[0m, in \u001b[0;36mmap_structure\u001b[1;34m(func, *structure, **kwargs)\u001b[0m\n\u001b[0;32m    910\u001b[0m flat_structure \u001b[39m=\u001b[39m (flatten(s, expand_composites) \u001b[39mfor\u001b[39;00m s \u001b[39min\u001b[39;00m structure)\n\u001b[0;32m    911\u001b[0m entries \u001b[39m=\u001b[39m \u001b[39mzip\u001b[39m(\u001b[39m*\u001b[39mflat_structure)\n\u001b[0;32m    913\u001b[0m \u001b[39mreturn\u001b[39;00m pack_sequence_as(\n\u001b[1;32m--> 914\u001b[0m     structure[\u001b[39m0\u001b[39m], [func(\u001b[39m*\u001b[39mx) \u001b[39mfor\u001b[39;00m x \u001b[39min\u001b[39;00m entries],\n\u001b[0;32m    915\u001b[0m     expand_composites\u001b[39m=\u001b[39mexpand_composites)\n",
      "File \u001b[1;32mc:\\Users\\angel\\anaconda3\\envs\\tf_py38\\lib\\site-packages\\tensorflow\\python\\util\\nest.py:914\u001b[0m, in \u001b[0;36m<listcomp>\u001b[1;34m(.0)\u001b[0m\n\u001b[0;32m    910\u001b[0m flat_structure \u001b[39m=\u001b[39m (flatten(s, expand_composites) \u001b[39mfor\u001b[39;00m s \u001b[39min\u001b[39;00m structure)\n\u001b[0;32m    911\u001b[0m entries \u001b[39m=\u001b[39m \u001b[39mzip\u001b[39m(\u001b[39m*\u001b[39mflat_structure)\n\u001b[0;32m    913\u001b[0m \u001b[39mreturn\u001b[39;00m pack_sequence_as(\n\u001b[1;32m--> 914\u001b[0m     structure[\u001b[39m0\u001b[39m], [func(\u001b[39m*\u001b[39;49mx) \u001b[39mfor\u001b[39;00m x \u001b[39min\u001b[39;00m entries],\n\u001b[0;32m    915\u001b[0m     expand_composites\u001b[39m=\u001b[39mexpand_composites)\n",
      "File \u001b[1;32mc:\\Users\\angel\\anaconda3\\envs\\tf_py38\\lib\\site-packages\\keras\\utils\\tf_utils.py:557\u001b[0m, in \u001b[0;36msync_to_numpy_or_python_type.<locals>._to_single_numpy_or_python_type\u001b[1;34m(t)\u001b[0m\n\u001b[0;32m    554\u001b[0m \u001b[39mdef\u001b[39;00m \u001b[39m_to_single_numpy_or_python_type\u001b[39m(t):\n\u001b[0;32m    555\u001b[0m   \u001b[39m# Don't turn ragged or sparse tensors to NumPy.\u001b[39;00m\n\u001b[0;32m    556\u001b[0m   \u001b[39mif\u001b[39;00m \u001b[39misinstance\u001b[39m(t, tf\u001b[39m.\u001b[39mTensor):\n\u001b[1;32m--> 557\u001b[0m     t \u001b[39m=\u001b[39m t\u001b[39m.\u001b[39;49mnumpy()\n\u001b[0;32m    558\u001b[0m   \u001b[39m# Strings, ragged and sparse tensors don't have .item(). Return them as-is.\u001b[39;00m\n\u001b[0;32m    559\u001b[0m   \u001b[39mif\u001b[39;00m \u001b[39mnot\u001b[39;00m \u001b[39misinstance\u001b[39m(t, (np\u001b[39m.\u001b[39mndarray, np\u001b[39m.\u001b[39mgeneric)):\n",
      "File \u001b[1;32mc:\\Users\\angel\\anaconda3\\envs\\tf_py38\\lib\\site-packages\\tensorflow\\python\\framework\\ops.py:1223\u001b[0m, in \u001b[0;36m_EagerTensorBase.numpy\u001b[1;34m(self)\u001b[0m\n\u001b[0;32m   1200\u001b[0m \u001b[39m\"\"\"Copy of the contents of this Tensor into a NumPy array or scalar.\u001b[39;00m\n\u001b[0;32m   1201\u001b[0m \n\u001b[0;32m   1202\u001b[0m \u001b[39mUnlike NumPy arrays, Tensors are immutable, so this method has to copy\u001b[39;00m\n\u001b[1;32m   (...)\u001b[0m\n\u001b[0;32m   1220\u001b[0m \u001b[39m    NumPy dtype.\u001b[39;00m\n\u001b[0;32m   1221\u001b[0m \u001b[39m\"\"\"\u001b[39;00m\n\u001b[0;32m   1222\u001b[0m \u001b[39m# TODO(slebedev): Consider avoiding a copy for non-CPU or remote tensors.\u001b[39;00m\n\u001b[1;32m-> 1223\u001b[0m maybe_arr \u001b[39m=\u001b[39m \u001b[39mself\u001b[39;49m\u001b[39m.\u001b[39;49m_numpy()  \u001b[39m# pylint: disable=protected-access\u001b[39;00m\n\u001b[0;32m   1224\u001b[0m \u001b[39mreturn\u001b[39;00m maybe_arr\u001b[39m.\u001b[39mcopy() \u001b[39mif\u001b[39;00m \u001b[39misinstance\u001b[39m(maybe_arr, np\u001b[39m.\u001b[39mndarray) \u001b[39melse\u001b[39;00m maybe_arr\n",
      "File \u001b[1;32mc:\\Users\\angel\\anaconda3\\envs\\tf_py38\\lib\\site-packages\\tensorflow\\python\\framework\\ops.py:1189\u001b[0m, in \u001b[0;36m_EagerTensorBase._numpy\u001b[1;34m(self)\u001b[0m\n\u001b[0;32m   1187\u001b[0m \u001b[39mdef\u001b[39;00m \u001b[39m_numpy\u001b[39m(\u001b[39mself\u001b[39m):\n\u001b[0;32m   1188\u001b[0m   \u001b[39mtry\u001b[39;00m:\n\u001b[1;32m-> 1189\u001b[0m     \u001b[39mreturn\u001b[39;00m \u001b[39mself\u001b[39;49m\u001b[39m.\u001b[39;49m_numpy_internal()\n\u001b[0;32m   1190\u001b[0m   \u001b[39mexcept\u001b[39;00m core\u001b[39m.\u001b[39m_NotOkStatusException \u001b[39mas\u001b[39;00m e:  \u001b[39m# pylint: disable=protected-access\u001b[39;00m\n\u001b[0;32m   1191\u001b[0m     \u001b[39mraise\u001b[39;00m core\u001b[39m.\u001b[39m_status_to_exception(e) \u001b[39mfrom\u001b[39;00m \u001b[39mNone\u001b[39m\n",
      "\u001b[1;31mKeyboardInterrupt\u001b[0m: "
     ]
    }
   ],
   "source": [
    "hist = model.fit(x_train, y_train,\n",
    "                validation_data = (x_test, y_test),\n",
    "                epochs = 50,\n",
    "                batch_size = 32,\n",
    "                verbose = 1,\n",
    "                callbacks=[checkpoint_best])"
   ]
  }
 ],
 "metadata": {
  "kernelspec": {
   "display_name": "Python 3.8.12 ('tf_py38')",
   "language": "python",
   "name": "python3"
  },
  "language_info": {
   "codemirror_mode": {
    "name": "ipython",
    "version": 3
   },
   "file_extension": ".py",
   "mimetype": "text/x-python",
   "name": "python",
   "nbconvert_exporter": "python",
   "pygments_lexer": "ipython3",
   "version": "3.8.12"
  },
  "orig_nbformat": 4,
  "vscode": {
   "interpreter": {
    "hash": "eba2a1a9e688c13729bc3ce039aebfba3ed6aba2e3ff21806c4b0dd9559fdc94"
   }
  }
 },
 "nbformat": 4,
 "nbformat_minor": 2
}
