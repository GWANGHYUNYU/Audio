{
 "cells": [
  {
   "cell_type": "code",
   "execution_count": 1,
   "metadata": {},
   "outputs": [],
   "source": [
    "import tensorflow as tf\n",
    "from tensorflow import keras\n",
    "from keras import utils\n",
    "from keras.models import Sequential, Model\n",
    "from keras.layers import Conv2D, MaxPool2D, Input, Dense, Flatten, Concatenate\n",
    "from keras.callbacks import ModelCheckpoint\n",
    "\n",
    "import pandas as pd\n",
    "import numpy as np\n",
    "import matplotlib.pyplot as plt\n",
    "import seaborn as sns\n",
    "import warnings \n",
    "from IPython.display import Image\n",
    "\n",
    "import os\n",
    "import random\n",
    "from copy import deepcopy\n",
    "import pickle"
   ]
  },
  {
   "cell_type": "code",
   "execution_count": 2,
   "metadata": {},
   "outputs": [
    {
     "name": "stdout",
     "output_type": "stream",
     "text": [
      "(60000, 28, 28)\n",
      "(60000, 10)\n",
      "(10000, 28, 28)\n",
      "(10000, 10)\n"
     ]
    }
   ],
   "source": [
    "fashion_mnist = keras.datasets.fashion_mnist\n",
    "((x_train, y_train), (x_test, y_test)) = fashion_mnist.load_data()\n",
    "\n",
    "x_train, x_test = x_train / 255.0, x_test / 255.0\n",
    "y_train = tf.keras.utils.to_categorical(y_train, 10)\n",
    "y_test = tf.keras.utils.to_categorical(y_test, 10)\n",
    "\n",
    "print(x_train.shape)\n",
    "print(y_train.shape)\n",
    "print(x_test.shape)\n",
    "print(y_test.shape)"
   ]
  },
  {
   "cell_type": "code",
   "execution_count": 3,
   "metadata": {},
   "outputs": [
    {
     "ename": "TypeError",
     "evalue": "'module' object is not callable",
     "output_type": "error",
     "traceback": [
      "\u001b[1;31m---------------------------------------------------------------------------\u001b[0m",
      "\u001b[1;31mTypeError\u001b[0m                                 Traceback (most recent call last)",
      "\u001b[1;32md:\\GH\\Audio\\GA\\ga4.ipynb Cell 3'\u001b[0m in \u001b[0;36m<cell line: 6>\u001b[1;34m()\u001b[0m\n\u001b[0;32m      <a href='vscode-notebook-cell:/d%3A/GH/Audio/GA/ga4.ipynb#ch0000002?line=0'>1</a>\u001b[0m \u001b[39m# Create the base model from the pre-trained model Resnet-50\u001b[39;00m\n\u001b[0;32m      <a href='vscode-notebook-cell:/d%3A/GH/Audio/GA/ga4.ipynb#ch0000002?line=1'>2</a>\u001b[0m \u001b[39m# ResNet50 불러오기에서 include_top=을 True가 아닌 False로 둠으로써 사전학습된 모델의 최상층 분류기를 사용하지 않겠다고 설정\u001b[39;00m\n\u001b[0;32m      <a href='vscode-notebook-cell:/d%3A/GH/Audio/GA/ga4.ipynb#ch0000002?line=2'>3</a>\u001b[0m \u001b[39m# include_top을 True로 설정하면 크기는 224,224,3으로 제한\u001b[39;00m\n\u001b[0;32m      <a href='vscode-notebook-cell:/d%3A/GH/Audio/GA/ga4.ipynb#ch0000002?line=4'>5</a>\u001b[0m IMG_SHAPE \u001b[39m=\u001b[39m (\u001b[39m32\u001b[39m, \u001b[39m32\u001b[39m, \u001b[39m3\u001b[39m)\n\u001b[1;32m----> <a href='vscode-notebook-cell:/d%3A/GH/Audio/GA/ga4.ipynb#ch0000002?line=5'>6</a>\u001b[0m base_model \u001b[39m=\u001b[39m tf\u001b[39m.\u001b[39;49mkeras\u001b[39m.\u001b[39;49mapplications\u001b[39m.\u001b[39;49mvgg19(input_shape\u001b[39m=\u001b[39;49mIMG_SHAPE, include_top\u001b[39m=\u001b[39;49m\u001b[39mFalse\u001b[39;49;00m, weights\u001b[39m=\u001b[39;49m\u001b[39m'\u001b[39;49m\u001b[39mimagenet\u001b[39;49m\u001b[39m'\u001b[39;49m)\n",
      "\u001b[1;31mTypeError\u001b[0m: 'module' object is not callable"
     ]
    }
   ],
   "source": [
    "# Create the base model from the pre-trained model Resnet-50\n",
    "# ResNet50 불러오기에서 include_top=을 True가 아닌 False로 둠으로써 사전학습된 모델의 최상층 분류기를 사용하지 않겠다고 설정\n",
    "# include_top을 True로 설정하면 크기는 224,224,3으로 제한\n",
    "\n",
    "IMG_SHAPE = (32, 32, 3)\n",
    "base_model = tf.keras.applications.vgg16(input_shape=IMG_SHAPE, include_top=False, weights='imagenet')"
   ]
  }
 ],
 "metadata": {
  "interpreter": {
   "hash": "e060eb5364c970a45ca73994a8fec165a4b69babd1377ce3be089817ff79ee84"
  },
  "kernelspec": {
   "display_name": "Python 3.8.12 ('tf_dl')",
   "language": "python",
   "name": "python3"
  },
  "language_info": {
   "codemirror_mode": {
    "name": "ipython",
    "version": 3
   },
   "file_extension": ".py",
   "mimetype": "text/x-python",
   "name": "python",
   "nbconvert_exporter": "python",
   "pygments_lexer": "ipython3",
   "version": "3.8.12"
  },
  "orig_nbformat": 4
 },
 "nbformat": 4,
 "nbformat_minor": 2
}
