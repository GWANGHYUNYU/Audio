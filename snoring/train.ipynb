{
 "cells": [
  {
   "cell_type": "code",
   "execution_count": 1,
   "metadata": {},
   "outputs": [],
   "source": [
    "import tensorflow as tf\n",
    "#from tensorflow import keras\n",
    "from tensorflow.keras.layers import Dense\n",
    "from tensorflow.keras.models import Sequential\n",
    "from tensorflow.keras import utils\n",
    "\n",
    "import pandas as pd\n",
    "import numpy as np\n",
    "import matplotlib.pyplot as plt\n",
    "import seaborn as sns\n",
    "import warnings \n",
    "from IPython.display import Image\n",
    "\n",
    "import os\n",
    "import h5py"
   ]
  },
  {
   "cell_type": "code",
   "execution_count": 2,
   "metadata": {},
   "outputs": [
    {
     "name": "stdout",
     "output_type": "stream",
     "text": [
      "(19008, 129, 155)\n",
      "(19008,)\n",
      "(4752, 129, 155)\n",
      "(4752,)\n"
     ]
    }
   ],
   "source": [
    "path = os.path.join(os.getcwd(), \"dataset/input/\")\n",
    "\n",
    "hf = h5py.File(path + \"train_snoring_5s.h5\", 'r')\n",
    "\n",
    "x_train = np.array(hf.get('spectrograms'))\n",
    "y_train = np.array(hf.get('targets')).astype(np.int8)\n",
    "hf.close()\n",
    "print(x_train.shape)\n",
    "print(y_train.shape)\n",
    "\n",
    "hf = h5py.File(path + \"test_snoring_5s.h5\", 'r')\n",
    "\n",
    "x_test = np.array(hf.get('spectrograms'))\n",
    "y_test = np.array(hf.get('targets')).astype(np.int8)\n",
    "hf.close()\n",
    "print(x_test.shape)\n",
    "print(y_test.shape)"
   ]
  },
  {
   "cell_type": "code",
   "execution_count": 3,
   "metadata": {},
   "outputs": [
    {
     "name": "stdout",
     "output_type": "stream",
     "text": [
      "float64\n",
      "int8\n",
      "float64\n",
      "int8\n"
     ]
    }
   ],
   "source": [
    "print(x_train.dtype)\n",
    "print(y_train.dtype)\n",
    "print(x_test.dtype)\n",
    "print(y_test.dtype)"
   ]
  },
  {
   "cell_type": "code",
   "execution_count": 4,
   "metadata": {},
   "outputs": [
    {
     "name": "stdout",
     "output_type": "stream",
     "text": [
      "[[0. 0. 0. ... 0. 0. 0.]\n",
      " [0. 0. 0. ... 0. 0. 0.]\n",
      " [0. 0. 2. ... 1. 0. 1.]\n",
      " ...\n",
      " [0. 0. 0. ... 0. 0. 0.]\n",
      " [0. 0. 0. ... 0. 0. 0.]\n",
      " [0. 0. 0. ... 0. 0. 0.]]\n",
      "0\n"
     ]
    }
   ],
   "source": [
    "print(x_train[0])\n",
    "print(y_train[0])"
   ]
  },
  {
   "cell_type": "code",
   "execution_count": 6,
   "metadata": {},
   "outputs": [],
   "source": [
    "## parameter setting\n",
    "bands = 129\n",
    "frames = 155\n",
    "feature_size = 3000\n",
    "learning_rate = 0.02\n",
    "training_epochs = 100\n",
    "batch_size = 5\n",
    "num_of_class = 2\n",
    "channel=1"
   ]
  },
  {
   "cell_type": "code",
   "execution_count": 7,
   "metadata": {},
   "outputs": [],
   "source": [
    "x_train = np.reshape(x_train,(-1,bands,frames,1))\n",
    "x_test = np.reshape(x_test,(-1,bands,frames,1))\n",
    "# If subtract pixel mean is enabled\n",
    "\n",
    "y_train = utils.to_categorical(y_train, num_of_class)\n",
    "y_test = utils.to_categorical(y_test, num_of_class)"
   ]
  },
  {
   "cell_type": "code",
   "execution_count": 8,
   "metadata": {},
   "outputs": [
    {
     "name": "stdout",
     "output_type": "stream",
     "text": [
      "(19008, 129, 155, 1)\n",
      "(19008, 2)\n",
      "(4752, 129, 155, 1)\n",
      "(4752, 2)\n"
     ]
    }
   ],
   "source": [
    "print(x_train.shape)\n",
    "print(y_train.shape)\n",
    "print(x_test.shape)\n",
    "print(y_test.shape)"
   ]
  },
  {
   "cell_type": "code",
   "execution_count": 14,
   "metadata": {},
   "outputs": [],
   "source": [
    "from tensorflow.keras.models import Model\n",
    "from tensorflow.keras.layers import Dense, Dropout, Flatten, Concatenate, Input, BatchNormalization, ELU\n",
    "from tensorflow.keras.layers import Conv2D, MaxPooling2D"
   ]
  },
  {
   "cell_type": "code",
   "execution_count": 19,
   "metadata": {},
   "outputs": [
    {
     "name": "stdout",
     "output_type": "stream",
     "text": [
      "KerasTensor(type_spec=TensorSpec(shape=(None, 33, 39, 16), dtype=tf.float32, name=None), name='max_pooling2d_3/MaxPool:0', description=\"created by layer 'max_pooling2d_3'\")\n",
      "KerasTensor(type_spec=TensorSpec(shape=(None, 20592), dtype=tf.float32, name=None), name='flatten_1/Reshape:0', description=\"created by layer 'flatten_1'\")\n",
      "(None, 2)\n"
     ]
    }
   ],
   "source": [
    "# intput\n",
    "inp = Input(shape=(bands, frames, channel), name='inp')\n",
    "\n",
    "# act = keras.layers.advanced_activations.LeakyReLU(alpha=0.3)\n",
    "act = ELU(alpha=1.0)\n",
    "\n",
    "\n",
    "f = Conv2D(16, (10, 10), strides=1, padding='same', activation=act, kernel_initializer='glorot_uniform', bias_initializer='glorot_uniform', input_shape=(bands, frames, channel))(inp)\n",
    "#f = MaxPooling2D(pool_size=(2, 2), strides=2, padding='same')(f)\n",
    "\n",
    "f = Conv2D(16, (10, 10), strides=1, padding='same',activation=act, kernel_initializer='glorot_uniform', bias_initializer='glorot_uniform')(f)\n",
    "#f = MaxPooling2D(pool_size=(2, 2), strides=2, padding='same')(f)\n",
    "#f = MaxPooling2D(pool_size=(2, 2), padding='same')(f)\n",
    "f = Conv2D(16, (10, 10), padding='same',activation=act, kernel_initializer='glorot_uniform', bias_initializer='glorot_uniform')(f)\n",
    "f = Conv2D(16, (10, 10), strides=1, padding='same',activation=act, kernel_initializer='glorot_uniform', bias_initializer='glorot_uniform')(f)\n",
    "#f = MaxPooling2D(pool_size=(2, 2), strides=2, padding='same')(f)\n",
    "f = MaxPooling2D(pool_size=(2, 2), padding='same')(f)\n",
    "f = Conv2D(16, (10, 10), padding='same',activation=act, kernel_initializer='glorot_uniform', bias_initializer='glorot_uniform')(f)\n",
    "f = Conv2D(16, (10, 10), strides=1, padding='same',activation=act, kernel_initializer='glorot_uniform', bias_initializer='glorot_uniform')(f)\n",
    "#f = MaxPooling2D(pool_size=(2, 2), strides=2, padding='same')(f)\n",
    "\n",
    "f = Conv2D(16, (10, 10), padding='same',activation=act, kernel_initializer='glorot_uniform', bias_initializer='glorot_uniform')(f)\n",
    "#f = MaxPooling2D(pool_size=(2, 2), padding='same')(f)\n",
    "f = Conv2D(16, (10, 10), strides=1, padding='same',activation=act, kernel_initializer='glorot_uniform', bias_initializer='glorot_uniform')(f)\n",
    "#f = MaxPooling2D(pool_size=(2, 2), strides=2, padding='same')(f)\n",
    "\n",
    "f = Conv2D(16, (10, 10), padding='same',activation=act, kernel_initializer='glorot_uniform', bias_initializer='glorot_uniform')(f)\n",
    "\n",
    "f = MaxPooling2D(pool_size=(2, 2), padding='same')(f)\n",
    "\n",
    "print(f)\n",
    "outf = Flatten()(f)\n",
    "print(outf)\n",
    "\n",
    "modelf = Model(inp, outf)\n",
    "\n",
    "out = Dense(512, kernel_initializer='glorot_uniform', bias_initializer='glorot_uniform', activation='sigmoid')(modelf.output)\n",
    "out = Dropout(0.3)(out)\n",
    "out = Dense(num_of_class, kernel_initializer='glorot_uniform', bias_initializer='glorot_uniform', activation='softmax')(out)\n",
    "\n",
    "modelall = Model(modelf.input, out)\n",
    "print(modelall.output_shape)"
   ]
  },
  {
   "cell_type": "code",
   "execution_count": 20,
   "metadata": {},
   "outputs": [
    {
     "name": "stdout",
     "output_type": "stream",
     "text": [
      "Model: \"model_3\"\n",
      "_________________________________________________________________\n",
      " Layer (type)                Output Shape              Param #   \n",
      "=================================================================\n",
      " inp (InputLayer)            [(None, 129, 155, 1)]     0         \n",
      "                                                                 \n",
      " conv2d_9 (Conv2D)           (None, 129, 155, 16)      1616      \n",
      "                                                                 \n",
      " conv2d_10 (Conv2D)          (None, 129, 155, 16)      25616     \n",
      "                                                                 \n",
      " conv2d_11 (Conv2D)          (None, 129, 155, 16)      25616     \n",
      "                                                                 \n",
      " conv2d_12 (Conv2D)          (None, 129, 155, 16)      25616     \n",
      "                                                                 \n",
      " max_pooling2d_2 (MaxPooling  (None, 65, 78, 16)       0         \n",
      " 2D)                                                             \n",
      "                                                                 \n",
      " conv2d_13 (Conv2D)          (None, 65, 78, 16)        25616     \n",
      "                                                                 \n",
      " conv2d_14 (Conv2D)          (None, 65, 78, 16)        25616     \n",
      "                                                                 \n",
      " conv2d_15 (Conv2D)          (None, 65, 78, 16)        25616     \n",
      "                                                                 \n",
      " conv2d_16 (Conv2D)          (None, 65, 78, 16)        25616     \n",
      "                                                                 \n",
      " conv2d_17 (Conv2D)          (None, 65, 78, 16)        25616     \n",
      "                                                                 \n",
      " max_pooling2d_3 (MaxPooling  (None, 33, 39, 16)       0         \n",
      " 2D)                                                             \n",
      "                                                                 \n",
      " flatten_1 (Flatten)         (None, 20592)             0         \n",
      "                                                                 \n",
      " dense_2 (Dense)             (None, 512)               10543616  \n",
      "                                                                 \n",
      " dropout_1 (Dropout)         (None, 512)               0         \n",
      "                                                                 \n",
      " dense_3 (Dense)             (None, 2)                 1026      \n",
      "                                                                 \n",
      "=================================================================\n",
      "Total params: 10,751,186\n",
      "Trainable params: 10,751,186\n",
      "Non-trainable params: 0\n",
      "_________________________________________________________________\n"
     ]
    }
   ],
   "source": [
    "modelall.summary()"
   ]
  },
  {
   "cell_type": "code",
   "execution_count": 21,
   "metadata": {},
   "outputs": [],
   "source": [
    "modelall.compile(loss='categorical_crossentropy', optimizer='adam', metrics = [\"accuracy\"])"
   ]
  },
  {
   "cell_type": "code",
   "execution_count": 22,
   "metadata": {},
   "outputs": [
    {
     "name": "stdout",
     "output_type": "stream",
     "text": [
      "Epoch 1/100\n"
     ]
    },
    {
     "name": "stderr",
     "output_type": "stream",
     "text": [
      "2022-01-14 02:38:35.307737: E tensorflow/stream_executor/cuda/cuda_dnn.cc:359] Loaded runtime CuDNN library: 8.0.4 but source was compiled with: 8.1.0.  CuDNN library needs to have matching major version and equal or higher minor version. If using a binary install, upgrade your CuDNN library.  If building from sources, make sure the library loaded at runtime is compatible with the version specified during compile configuration.\n",
      "2022-01-14 02:38:35.309592: W tensorflow/core/framework/op_kernel.cc:1745] OP_REQUIRES failed at conv_ops.cc:1120 : UNKNOWN: Failed to get convolution algorithm. This is probably because cuDNN failed to initialize, so try looking to see if a warning log message was printed above.\n"
     ]
    },
    {
     "ename": "UnknownError",
     "evalue": " Failed to get convolution algorithm. This is probably because cuDNN failed to initialize, so try looking to see if a warning log message was printed above.\n\t [[node model_3/conv2d_9/Conv2D\n (defined at /home/vips/anaconda3/envs/gh_tf38/lib/python3.8/site-packages/keras/layers/convolutional.py:231)\n]] [Op:__inference_train_function_3141]\n\nErrors may have originated from an input operation.\nInput Source operations connected to node model_3/conv2d_9/Conv2D:\nIn[0] IteratorGetNext (defined at /home/vips/anaconda3/envs/gh_tf38/lib/python3.8/site-packages/keras/engine/training.py:866)\t\nIn[1] model_3/conv2d_9/Conv2D/ReadVariableOp:\n\nOperation defined at: (most recent call last)\n>>>   File \"/home/vips/anaconda3/envs/gh_tf38/lib/python3.8/runpy.py\", line 194, in _run_module_as_main\n>>>     return _run_code(code, main_globals, None,\n>>> \n>>>   File \"/home/vips/anaconda3/envs/gh_tf38/lib/python3.8/runpy.py\", line 87, in _run_code\n>>>     exec(code, run_globals)\n>>> \n>>>   File \"/home/vips/anaconda3/envs/gh_tf38/lib/python3.8/site-packages/ipykernel_launcher.py\", line 16, in <module>\n>>>     app.launch_new_instance()\n>>> \n>>>   File \"/home/vips/anaconda3/envs/gh_tf38/lib/python3.8/site-packages/traitlets/config/application.py\", line 846, in launch_instance\n>>>     app.start()\n>>> \n>>>   File \"/home/vips/anaconda3/envs/gh_tf38/lib/python3.8/site-packages/ipykernel/kernelapp.py\", line 677, in start\n>>>     self.io_loop.start()\n>>> \n>>>   File \"/home/vips/anaconda3/envs/gh_tf38/lib/python3.8/site-packages/tornado/platform/asyncio.py\", line 199, in start\n>>>     self.asyncio_loop.run_forever()\n>>> \n>>>   File \"/home/vips/anaconda3/envs/gh_tf38/lib/python3.8/asyncio/base_events.py\", line 570, in run_forever\n>>>     self._run_once()\n>>> \n>>>   File \"/home/vips/anaconda3/envs/gh_tf38/lib/python3.8/asyncio/base_events.py\", line 1859, in _run_once\n>>>     handle._run()\n>>> \n>>>   File \"/home/vips/anaconda3/envs/gh_tf38/lib/python3.8/asyncio/events.py\", line 81, in _run\n>>>     self._context.run(self._callback, *self._args)\n>>> \n>>>   File \"/home/vips/anaconda3/envs/gh_tf38/lib/python3.8/site-packages/ipykernel/kernelbase.py\", line 457, in dispatch_queue\n>>>     await self.process_one()\n>>> \n>>>   File \"/home/vips/anaconda3/envs/gh_tf38/lib/python3.8/site-packages/ipykernel/kernelbase.py\", line 446, in process_one\n>>>     await dispatch(*args)\n>>> \n>>>   File \"/home/vips/anaconda3/envs/gh_tf38/lib/python3.8/site-packages/ipykernel/kernelbase.py\", line 353, in dispatch_shell\n>>>     await result\n>>> \n>>>   File \"/home/vips/anaconda3/envs/gh_tf38/lib/python3.8/site-packages/ipykernel/kernelbase.py\", line 648, in execute_request\n>>>     reply_content = await reply_content\n>>> \n>>>   File \"/home/vips/anaconda3/envs/gh_tf38/lib/python3.8/site-packages/ipykernel/ipkernel.py\", line 353, in do_execute\n>>>     res = shell.run_cell(code, store_history=store_history, silent=silent)\n>>> \n>>>   File \"/home/vips/anaconda3/envs/gh_tf38/lib/python3.8/site-packages/ipykernel/zmqshell.py\", line 532, in run_cell\n>>>     return super().run_cell(*args, **kwargs)\n>>> \n>>>   File \"/home/vips/anaconda3/envs/gh_tf38/lib/python3.8/site-packages/IPython/core/interactiveshell.py\", line 2914, in run_cell\n>>>     result = self._run_cell(\n>>> \n>>>   File \"/home/vips/anaconda3/envs/gh_tf38/lib/python3.8/site-packages/IPython/core/interactiveshell.py\", line 2960, in _run_cell\n>>>     return runner(coro)\n>>> \n>>>   File \"/home/vips/anaconda3/envs/gh_tf38/lib/python3.8/site-packages/IPython/core/async_helpers.py\", line 78, in _pseudo_sync_runner\n>>>     coro.send(None)\n>>> \n>>>   File \"/home/vips/anaconda3/envs/gh_tf38/lib/python3.8/site-packages/IPython/core/interactiveshell.py\", line 3185, in run_cell_async\n>>>     has_raised = await self.run_ast_nodes(code_ast.body, cell_name,\n>>> \n>>>   File \"/home/vips/anaconda3/envs/gh_tf38/lib/python3.8/site-packages/IPython/core/interactiveshell.py\", line 3377, in run_ast_nodes\n>>>     if (await self.run_code(code, result,  async_=asy)):\n>>> \n>>>   File \"/home/vips/anaconda3/envs/gh_tf38/lib/python3.8/site-packages/IPython/core/interactiveshell.py\", line 3457, in run_code\n>>>     exec(code_obj, self.user_global_ns, self.user_ns)\n>>> \n>>>   File \"/tmp/ipykernel_10012/1531152814.py\", line 2, in <module>\n>>>     hist = modelall.fit(x_train, y_train, batch_size=batch_size, epochs=training_epochs, validation_data=(x_test, y_test), verbose=2)\n>>> \n>>>   File \"/home/vips/anaconda3/envs/gh_tf38/lib/python3.8/site-packages/keras/utils/traceback_utils.py\", line 64, in error_handler\n>>>     return fn(*args, **kwargs)\n>>> \n>>>   File \"/home/vips/anaconda3/envs/gh_tf38/lib/python3.8/site-packages/keras/engine/training.py\", line 1216, in fit\n>>>     tmp_logs = self.train_function(iterator)\n>>> \n>>>   File \"/home/vips/anaconda3/envs/gh_tf38/lib/python3.8/site-packages/keras/engine/training.py\", line 878, in train_function\n>>>     return step_function(self, iterator)\n>>> \n>>>   File \"/home/vips/anaconda3/envs/gh_tf38/lib/python3.8/site-packages/keras/engine/training.py\", line 867, in step_function\n>>>     outputs = model.distribute_strategy.run(run_step, args=(data,))\n>>> \n>>>   File \"/home/vips/anaconda3/envs/gh_tf38/lib/python3.8/site-packages/keras/engine/training.py\", line 860, in run_step\n>>>     outputs = model.train_step(data)\n>>> \n>>>   File \"/home/vips/anaconda3/envs/gh_tf38/lib/python3.8/site-packages/keras/engine/training.py\", line 808, in train_step\n>>>     y_pred = self(x, training=True)\n>>> \n>>>   File \"/home/vips/anaconda3/envs/gh_tf38/lib/python3.8/site-packages/keras/utils/traceback_utils.py\", line 64, in error_handler\n>>>     return fn(*args, **kwargs)\n>>> \n>>>   File \"/home/vips/anaconda3/envs/gh_tf38/lib/python3.8/site-packages/keras/engine/base_layer.py\", line 1083, in __call__\n>>>     outputs = call_fn(inputs, *args, **kwargs)\n>>> \n>>>   File \"/home/vips/anaconda3/envs/gh_tf38/lib/python3.8/site-packages/keras/utils/traceback_utils.py\", line 92, in error_handler\n>>>     return fn(*args, **kwargs)\n>>> \n>>>   File \"/home/vips/anaconda3/envs/gh_tf38/lib/python3.8/site-packages/keras/engine/functional.py\", line 451, in call\n>>>     return self._run_internal_graph(\n>>> \n>>>   File \"/home/vips/anaconda3/envs/gh_tf38/lib/python3.8/site-packages/keras/engine/functional.py\", line 589, in _run_internal_graph\n>>>     outputs = node.layer(*args, **kwargs)\n>>> \n>>>   File \"/home/vips/anaconda3/envs/gh_tf38/lib/python3.8/site-packages/keras/utils/traceback_utils.py\", line 64, in error_handler\n>>>     return fn(*args, **kwargs)\n>>> \n>>>   File \"/home/vips/anaconda3/envs/gh_tf38/lib/python3.8/site-packages/keras/engine/base_layer.py\", line 1083, in __call__\n>>>     outputs = call_fn(inputs, *args, **kwargs)\n>>> \n>>>   File \"/home/vips/anaconda3/envs/gh_tf38/lib/python3.8/site-packages/keras/utils/traceback_utils.py\", line 92, in error_handler\n>>>     return fn(*args, **kwargs)\n>>> \n>>>   File \"/home/vips/anaconda3/envs/gh_tf38/lib/python3.8/site-packages/keras/layers/convolutional.py\", line 246, in call\n>>>     outputs = self.convolution_op(inputs, self.kernel)\n>>> \n>>>   File \"/home/vips/anaconda3/envs/gh_tf38/lib/python3.8/site-packages/keras/layers/convolutional.py\", line 231, in convolution_op\n>>>     return tf.nn.convolution(\n>>> ",
     "output_type": "error",
     "traceback": [
      "\u001b[0;31m---------------------------------------------------------------------------\u001b[0m",
      "\u001b[0;31mUnknownError\u001b[0m                              Traceback (most recent call last)",
      "\u001b[0;32m/tmp/ipykernel_10012/1531152814.py\u001b[0m in \u001b[0;36m<module>\u001b[0;34m\u001b[0m\n\u001b[1;32m      1\u001b[0m \u001b[0;31m# hist = modelall.fit(x_train, y_train, epochs=training_epochs, validation_data=(x_test, y_test), verbose=0)\u001b[0m\u001b[0;34m\u001b[0m\u001b[0;34m\u001b[0m\u001b[0;34m\u001b[0m\u001b[0m\n\u001b[0;32m----> 2\u001b[0;31m \u001b[0mhist\u001b[0m \u001b[0;34m=\u001b[0m \u001b[0mmodelall\u001b[0m\u001b[0;34m.\u001b[0m\u001b[0mfit\u001b[0m\u001b[0;34m(\u001b[0m\u001b[0mx_train\u001b[0m\u001b[0;34m,\u001b[0m \u001b[0my_train\u001b[0m\u001b[0;34m,\u001b[0m \u001b[0mbatch_size\u001b[0m\u001b[0;34m=\u001b[0m\u001b[0mbatch_size\u001b[0m\u001b[0;34m,\u001b[0m \u001b[0mepochs\u001b[0m\u001b[0;34m=\u001b[0m\u001b[0mtraining_epochs\u001b[0m\u001b[0;34m,\u001b[0m \u001b[0mvalidation_data\u001b[0m\u001b[0;34m=\u001b[0m\u001b[0;34m(\u001b[0m\u001b[0mx_test\u001b[0m\u001b[0;34m,\u001b[0m \u001b[0my_test\u001b[0m\u001b[0;34m)\u001b[0m\u001b[0;34m,\u001b[0m \u001b[0mverbose\u001b[0m\u001b[0;34m=\u001b[0m\u001b[0;36m2\u001b[0m\u001b[0;34m)\u001b[0m\u001b[0;34m\u001b[0m\u001b[0;34m\u001b[0m\u001b[0m\n\u001b[0m",
      "\u001b[0;32m~/anaconda3/envs/gh_tf38/lib/python3.8/site-packages/keras/utils/traceback_utils.py\u001b[0m in \u001b[0;36merror_handler\u001b[0;34m(*args, **kwargs)\u001b[0m\n\u001b[1;32m     65\u001b[0m     \u001b[0;32mexcept\u001b[0m \u001b[0mException\u001b[0m \u001b[0;32mas\u001b[0m \u001b[0me\u001b[0m\u001b[0;34m:\u001b[0m  \u001b[0;31m# pylint: disable=broad-except\u001b[0m\u001b[0;34m\u001b[0m\u001b[0;34m\u001b[0m\u001b[0m\n\u001b[1;32m     66\u001b[0m       \u001b[0mfiltered_tb\u001b[0m \u001b[0;34m=\u001b[0m \u001b[0m_process_traceback_frames\u001b[0m\u001b[0;34m(\u001b[0m\u001b[0me\u001b[0m\u001b[0;34m.\u001b[0m\u001b[0m__traceback__\u001b[0m\u001b[0;34m)\u001b[0m\u001b[0;34m\u001b[0m\u001b[0;34m\u001b[0m\u001b[0m\n\u001b[0;32m---> 67\u001b[0;31m       \u001b[0;32mraise\u001b[0m \u001b[0me\u001b[0m\u001b[0;34m.\u001b[0m\u001b[0mwith_traceback\u001b[0m\u001b[0;34m(\u001b[0m\u001b[0mfiltered_tb\u001b[0m\u001b[0;34m)\u001b[0m \u001b[0;32mfrom\u001b[0m \u001b[0;32mNone\u001b[0m\u001b[0;34m\u001b[0m\u001b[0;34m\u001b[0m\u001b[0m\n\u001b[0m\u001b[1;32m     68\u001b[0m     \u001b[0;32mfinally\u001b[0m\u001b[0;34m:\u001b[0m\u001b[0;34m\u001b[0m\u001b[0;34m\u001b[0m\u001b[0m\n\u001b[1;32m     69\u001b[0m       \u001b[0;32mdel\u001b[0m \u001b[0mfiltered_tb\u001b[0m\u001b[0;34m\u001b[0m\u001b[0;34m\u001b[0m\u001b[0m\n",
      "\u001b[0;32m~/anaconda3/envs/gh_tf38/lib/python3.8/site-packages/tensorflow/python/eager/execute.py\u001b[0m in \u001b[0;36mquick_execute\u001b[0;34m(op_name, num_outputs, inputs, attrs, ctx, name)\u001b[0m\n\u001b[1;32m     56\u001b[0m   \u001b[0;32mtry\u001b[0m\u001b[0;34m:\u001b[0m\u001b[0;34m\u001b[0m\u001b[0;34m\u001b[0m\u001b[0m\n\u001b[1;32m     57\u001b[0m     \u001b[0mctx\u001b[0m\u001b[0;34m.\u001b[0m\u001b[0mensure_initialized\u001b[0m\u001b[0;34m(\u001b[0m\u001b[0;34m)\u001b[0m\u001b[0;34m\u001b[0m\u001b[0;34m\u001b[0m\u001b[0m\n\u001b[0;32m---> 58\u001b[0;31m     tensors = pywrap_tfe.TFE_Py_Execute(ctx._handle, device_name, op_name,\n\u001b[0m\u001b[1;32m     59\u001b[0m                                         inputs, attrs, num_outputs)\n\u001b[1;32m     60\u001b[0m   \u001b[0;32mexcept\u001b[0m \u001b[0mcore\u001b[0m\u001b[0;34m.\u001b[0m\u001b[0m_NotOkStatusException\u001b[0m \u001b[0;32mas\u001b[0m \u001b[0me\u001b[0m\u001b[0;34m:\u001b[0m\u001b[0;34m\u001b[0m\u001b[0;34m\u001b[0m\u001b[0m\n",
      "\u001b[0;31mUnknownError\u001b[0m:  Failed to get convolution algorithm. This is probably because cuDNN failed to initialize, so try looking to see if a warning log message was printed above.\n\t [[node model_3/conv2d_9/Conv2D\n (defined at /home/vips/anaconda3/envs/gh_tf38/lib/python3.8/site-packages/keras/layers/convolutional.py:231)\n]] [Op:__inference_train_function_3141]\n\nErrors may have originated from an input operation.\nInput Source operations connected to node model_3/conv2d_9/Conv2D:\nIn[0] IteratorGetNext (defined at /home/vips/anaconda3/envs/gh_tf38/lib/python3.8/site-packages/keras/engine/training.py:866)\t\nIn[1] model_3/conv2d_9/Conv2D/ReadVariableOp:\n\nOperation defined at: (most recent call last)\n>>>   File \"/home/vips/anaconda3/envs/gh_tf38/lib/python3.8/runpy.py\", line 194, in _run_module_as_main\n>>>     return _run_code(code, main_globals, None,\n>>> \n>>>   File \"/home/vips/anaconda3/envs/gh_tf38/lib/python3.8/runpy.py\", line 87, in _run_code\n>>>     exec(code, run_globals)\n>>> \n>>>   File \"/home/vips/anaconda3/envs/gh_tf38/lib/python3.8/site-packages/ipykernel_launcher.py\", line 16, in <module>\n>>>     app.launch_new_instance()\n>>> \n>>>   File \"/home/vips/anaconda3/envs/gh_tf38/lib/python3.8/site-packages/traitlets/config/application.py\", line 846, in launch_instance\n>>>     app.start()\n>>> \n>>>   File \"/home/vips/anaconda3/envs/gh_tf38/lib/python3.8/site-packages/ipykernel/kernelapp.py\", line 677, in start\n>>>     self.io_loop.start()\n>>> \n>>>   File \"/home/vips/anaconda3/envs/gh_tf38/lib/python3.8/site-packages/tornado/platform/asyncio.py\", line 199, in start\n>>>     self.asyncio_loop.run_forever()\n>>> \n>>>   File \"/home/vips/anaconda3/envs/gh_tf38/lib/python3.8/asyncio/base_events.py\", line 570, in run_forever\n>>>     self._run_once()\n>>> \n>>>   File \"/home/vips/anaconda3/envs/gh_tf38/lib/python3.8/asyncio/base_events.py\", line 1859, in _run_once\n>>>     handle._run()\n>>> \n>>>   File \"/home/vips/anaconda3/envs/gh_tf38/lib/python3.8/asyncio/events.py\", line 81, in _run\n>>>     self._context.run(self._callback, *self._args)\n>>> \n>>>   File \"/home/vips/anaconda3/envs/gh_tf38/lib/python3.8/site-packages/ipykernel/kernelbase.py\", line 457, in dispatch_queue\n>>>     await self.process_one()\n>>> \n>>>   File \"/home/vips/anaconda3/envs/gh_tf38/lib/python3.8/site-packages/ipykernel/kernelbase.py\", line 446, in process_one\n>>>     await dispatch(*args)\n>>> \n>>>   File \"/home/vips/anaconda3/envs/gh_tf38/lib/python3.8/site-packages/ipykernel/kernelbase.py\", line 353, in dispatch_shell\n>>>     await result\n>>> \n>>>   File \"/home/vips/anaconda3/envs/gh_tf38/lib/python3.8/site-packages/ipykernel/kernelbase.py\", line 648, in execute_request\n>>>     reply_content = await reply_content\n>>> \n>>>   File \"/home/vips/anaconda3/envs/gh_tf38/lib/python3.8/site-packages/ipykernel/ipkernel.py\", line 353, in do_execute\n>>>     res = shell.run_cell(code, store_history=store_history, silent=silent)\n>>> \n>>>   File \"/home/vips/anaconda3/envs/gh_tf38/lib/python3.8/site-packages/ipykernel/zmqshell.py\", line 532, in run_cell\n>>>     return super().run_cell(*args, **kwargs)\n>>> \n>>>   File \"/home/vips/anaconda3/envs/gh_tf38/lib/python3.8/site-packages/IPython/core/interactiveshell.py\", line 2914, in run_cell\n>>>     result = self._run_cell(\n>>> \n>>>   File \"/home/vips/anaconda3/envs/gh_tf38/lib/python3.8/site-packages/IPython/core/interactiveshell.py\", line 2960, in _run_cell\n>>>     return runner(coro)\n>>> \n>>>   File \"/home/vips/anaconda3/envs/gh_tf38/lib/python3.8/site-packages/IPython/core/async_helpers.py\", line 78, in _pseudo_sync_runner\n>>>     coro.send(None)\n>>> \n>>>   File \"/home/vips/anaconda3/envs/gh_tf38/lib/python3.8/site-packages/IPython/core/interactiveshell.py\", line 3185, in run_cell_async\n>>>     has_raised = await self.run_ast_nodes(code_ast.body, cell_name,\n>>> \n>>>   File \"/home/vips/anaconda3/envs/gh_tf38/lib/python3.8/site-packages/IPython/core/interactiveshell.py\", line 3377, in run_ast_nodes\n>>>     if (await self.run_code(code, result,  async_=asy)):\n>>> \n>>>   File \"/home/vips/anaconda3/envs/gh_tf38/lib/python3.8/site-packages/IPython/core/interactiveshell.py\", line 3457, in run_code\n>>>     exec(code_obj, self.user_global_ns, self.user_ns)\n>>> \n>>>   File \"/tmp/ipykernel_10012/1531152814.py\", line 2, in <module>\n>>>     hist = modelall.fit(x_train, y_train, batch_size=batch_size, epochs=training_epochs, validation_data=(x_test, y_test), verbose=2)\n>>> \n>>>   File \"/home/vips/anaconda3/envs/gh_tf38/lib/python3.8/site-packages/keras/utils/traceback_utils.py\", line 64, in error_handler\n>>>     return fn(*args, **kwargs)\n>>> \n>>>   File \"/home/vips/anaconda3/envs/gh_tf38/lib/python3.8/site-packages/keras/engine/training.py\", line 1216, in fit\n>>>     tmp_logs = self.train_function(iterator)\n>>> \n>>>   File \"/home/vips/anaconda3/envs/gh_tf38/lib/python3.8/site-packages/keras/engine/training.py\", line 878, in train_function\n>>>     return step_function(self, iterator)\n>>> \n>>>   File \"/home/vips/anaconda3/envs/gh_tf38/lib/python3.8/site-packages/keras/engine/training.py\", line 867, in step_function\n>>>     outputs = model.distribute_strategy.run(run_step, args=(data,))\n>>> \n>>>   File \"/home/vips/anaconda3/envs/gh_tf38/lib/python3.8/site-packages/keras/engine/training.py\", line 860, in run_step\n>>>     outputs = model.train_step(data)\n>>> \n>>>   File \"/home/vips/anaconda3/envs/gh_tf38/lib/python3.8/site-packages/keras/engine/training.py\", line 808, in train_step\n>>>     y_pred = self(x, training=True)\n>>> \n>>>   File \"/home/vips/anaconda3/envs/gh_tf38/lib/python3.8/site-packages/keras/utils/traceback_utils.py\", line 64, in error_handler\n>>>     return fn(*args, **kwargs)\n>>> \n>>>   File \"/home/vips/anaconda3/envs/gh_tf38/lib/python3.8/site-packages/keras/engine/base_layer.py\", line 1083, in __call__\n>>>     outputs = call_fn(inputs, *args, **kwargs)\n>>> \n>>>   File \"/home/vips/anaconda3/envs/gh_tf38/lib/python3.8/site-packages/keras/utils/traceback_utils.py\", line 92, in error_handler\n>>>     return fn(*args, **kwargs)\n>>> \n>>>   File \"/home/vips/anaconda3/envs/gh_tf38/lib/python3.8/site-packages/keras/engine/functional.py\", line 451, in call\n>>>     return self._run_internal_graph(\n>>> \n>>>   File \"/home/vips/anaconda3/envs/gh_tf38/lib/python3.8/site-packages/keras/engine/functional.py\", line 589, in _run_internal_graph\n>>>     outputs = node.layer(*args, **kwargs)\n>>> \n>>>   File \"/home/vips/anaconda3/envs/gh_tf38/lib/python3.8/site-packages/keras/utils/traceback_utils.py\", line 64, in error_handler\n>>>     return fn(*args, **kwargs)\n>>> \n>>>   File \"/home/vips/anaconda3/envs/gh_tf38/lib/python3.8/site-packages/keras/engine/base_layer.py\", line 1083, in __call__\n>>>     outputs = call_fn(inputs, *args, **kwargs)\n>>> \n>>>   File \"/home/vips/anaconda3/envs/gh_tf38/lib/python3.8/site-packages/keras/utils/traceback_utils.py\", line 92, in error_handler\n>>>     return fn(*args, **kwargs)\n>>> \n>>>   File \"/home/vips/anaconda3/envs/gh_tf38/lib/python3.8/site-packages/keras/layers/convolutional.py\", line 246, in call\n>>>     outputs = self.convolution_op(inputs, self.kernel)\n>>> \n>>>   File \"/home/vips/anaconda3/envs/gh_tf38/lib/python3.8/site-packages/keras/layers/convolutional.py\", line 231, in convolution_op\n>>>     return tf.nn.convolution(\n>>> "
     ]
    }
   ],
   "source": [
    "# hist = modelall.fit(x_train, y_train, epochs=training_epochs, validation_data=(x_test, y_test), verbose=0)\n",
    "hist = modelall.fit(x_train, y_train, batch_size=batch_size, epochs=training_epochs, validation_data=(x_test, y_test), verbose=2)"
   ]
  },
  {
   "cell_type": "code",
   "execution_count": null,
   "metadata": {},
   "outputs": [],
   "source": [
    "plt.plot(hist.history['accuracy'], label='accuracy')\n",
    "plt.plot(hist.history['loss'], label='loss')\n",
    "plt.plot(hist.history['val_accuracy'], label='val_accuracy')\n",
    "plt.plot(hist.history['val_loss'], label='val_loss')\n",
    "plt.legend(loc='upper left')\n",
    "plt.show()"
   ]
  },
  {
   "cell_type": "code",
   "execution_count": null,
   "metadata": {},
   "outputs": [],
   "source": [
    "res = modelall.predict(x_test[0:1])\n",
    "print(res)\n",
    "\n",
    "plt.bar(range(10), res[0], color='red')\n",
    "plt.bar(np.array(range(10)) + 0.35, y_test[0])\n",
    "plt.show()"
   ]
  },
  {
   "cell_type": "code",
   "execution_count": null,
   "metadata": {},
   "outputs": [],
   "source": [
    "loss, acc = modelall.evaluate(x_test, y_test, verbose=2)\n",
    "print(loss, acc)"
   ]
  },
  {
   "cell_type": "markdown",
   "metadata": {},
   "source": [
    "## 모델 저장 및 로드"
   ]
  },
  {
   "cell_type": "code",
   "execution_count": null,
   "metadata": {},
   "outputs": [],
   "source": [
    "modelall.save(\"./G_CNN.h5\")    # 모델과 weights를 전부 저장"
   ]
  },
  {
   "cell_type": "code",
   "execution_count": null,
   "metadata": {},
   "outputs": [],
   "source": [
    "new_model = tf.keras.models.load_model('./G_CNN.h5')"
   ]
  },
  {
   "cell_type": "code",
   "execution_count": null,
   "metadata": {},
   "outputs": [],
   "source": [
    "res = new_model.predict( x_test[3:4] ) \n",
    "print(res.shape)\n",
    "print(res[0])\n",
    "plt.bar(range(10), res[0], color='red')\n",
    "plt.bar(np.array(range(10)) + 0.35, y_test[3])\n",
    "plt.show()"
   ]
  },
  {
   "cell_type": "code",
   "execution_count": null,
   "metadata": {},
   "outputs": [],
   "source": [
    "loss, acc = new_model.evaluate(x_test, y_test, verbose=2)\n",
    "print(loss, acc)"
   ]
  }
 ],
 "metadata": {
  "interpreter": {
   "hash": "0ab9f8b981cfeaa65b0079c45a80dfbcbc37491ff92a329651029be43408ce7a"
  },
  "kernelspec": {
   "display_name": "Python 3.7.11 64-bit ('gh_py37': conda)",
   "language": "python",
   "name": "python3"
  },
  "language_info": {
   "codemirror_mode": {
    "name": "ipython",
    "version": 3
   },
   "file_extension": ".py",
   "mimetype": "text/x-python",
   "name": "python",
   "nbconvert_exporter": "python",
   "pygments_lexer": "ipython3",
   "version": "3.8.12"
  },
  "orig_nbformat": 4
 },
 "nbformat": 4,
 "nbformat_minor": 2
}
